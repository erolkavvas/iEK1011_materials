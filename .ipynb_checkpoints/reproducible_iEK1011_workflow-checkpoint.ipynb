{
 "cells": [
  {
   "cell_type": "markdown",
   "metadata": {},
   "source": [
    "# Table of Contents\n",
    "\n",
    "> The following script provides reproducible simulations for the results described in _\"Updated and standardized genome-scale reconstruction of Mycobacterium tuberculosis H37Rv, iEK1011, simulates flux states indicative of physiological conditions\"_\n",
    "\n",
    "1. [Load and check iEK1011](#iEK_model)\n",
    "    - Check default media condition.\n",
    "    - Check FBA solution.\n",
    "    - Check mass balance.\n",
    "    - Look at blocked reactions.\n",
    "    \n",
    "2. [Compute and Gene Essentiality Predictions](#gene_essentiality)\n",
    "    - Calculate for Griffin dataset\n",
    "    - Calculate for DeJesus dataset\n",
    "    - Calculate using Zimmerman et. al. _in vivo_ approximations.\n",
    "3. [Compare iEK1011 simulations between _in vivo_ and _in vitro_ media conditions](#media_comparisons)\n",
    "    - First compute FVA in different media conditions for initial check.\n",
    "    - Sample the solution space of the _in vitro_ iEK1011\n",
    "    - Sample the solution space of the _in vivo_ iEK1011\n",
    "    - Compare the sampled solutions using a box plot \n",
    "4. [Curated list of AMR genes for escher map](#amr_genes)\n",
    "    - Provides json file for AMR genes that can be viewed at Escher (http://escher.github.io/). The maps provided in the supplementary material may be useful.\n",
    "5. [Comparison of AMR objective function simulations between media conditions](#amr_objective_simulation)\n",
    "6. [Save iEK1011 features and simulations to \"iEK1011_supplementary.xlsx\"](#save_model_to_supplementary)"
   ]
  },
  {
   "cell_type": "markdown",
   "metadata": {},
   "source": [
    "---"
   ]
  },
  {
   "cell_type": "code",
   "execution_count": 1,
   "metadata": {
    "collapsed": true,
    "scrolled": true
   },
   "outputs": [],
   "source": [
    "import cobra\n",
    "from cobra.manipulation import remove_genes\n",
    "from cobra import Model, Reaction, Metabolite\n",
    "from cobra.flux_analysis import \\\n",
    "    single_gene_deletion, single_reaction_deletion, \\\n",
    "    double_gene_deletion, double_reaction_deletion\n",
    "import math\n",
    "import pandas as pd\n",
    "import sys\n",
    "import matplotlib.pyplot as plt\n",
    "from cobra.flux_analysis import production_envelope\n",
    "from cobra.flux_analysis import sample\n",
    "import matplotlib\n",
    "import numpy as np\n",
    "from matplotlib_venn import venn3\n",
    "from matplotlib_venn import venn2\n",
    "import json\n",
    "import seaborn as sns"
   ]
  },
  {
   "cell_type": "markdown",
   "metadata": {},
   "source": [
    "This notebook was run using cobra version 0.6.1"
   ]
  },
  {
   "cell_type": "code",
   "execution_count": 2,
   "metadata": {
    "scrolled": true
   },
   "outputs": [
    {
     "name": "stdout",
     "output_type": "stream",
     "text": [
      "0.6.1\n"
     ]
    }
   ],
   "source": [
    "print cobra.__version__"
   ]
  },
  {
   "cell_type": "markdown",
   "metadata": {},
   "source": [
    "### What you need to run this notebook...\n",
    "1. _iEK1011_ in json format and located in the same folder as this notebook.\n",
    "2. (OPTIONAL) Previous models for Venn diagram comparisons\n",
    "3. Griffin Essentiality data and DeJesus essentiality data. "
   ]
  },
  {
   "cell_type": "code",
   "execution_count": 3,
   "metadata": {
    "collapsed": true
   },
   "outputs": [],
   "source": [
    "sys.path.append('/home/user/notebook/erol/TB Project/Modules')\n",
    "from mtb_functions import *\n",
    "\n",
    "def get_models_gene_info(gene_info_name):\n",
    "    \n",
    "    # print \"loerger essentiality: \", loerger_excel_RvIndex.loc[gene_info_name, \"Final Call\"]\n",
    "    print \n",
    "\n",
    "    try:\n",
    "        print \"||~--____my boi iEK____--~||\"\n",
    "        gene_info(gene_info_name, model_iEK)\n",
    "    except:\n",
    "        print \"gene not in iEK\"\n",
    "\n",
    "    print \n",
    "    print \"||~--____goode ol iSM810____--~||\"\n",
    "    try:\n",
    "        gene_info(gene_info_name, model_iSM810)\n",
    "    except:\n",
    "        print \"gene not in old iSM810\"\n",
    "        \n",
    "    print \n",
    "    print \"||~--____goode ol iOSDD____--~||\"\n",
    "    try:\n",
    "        gene_info(gene_info_name, model_iOSDD)\n",
    "    except:\n",
    "        print \"gene not in iOSDD\"\n",
    "        \n",
    "    print \n",
    "    print \"||~--____goode ol sMtb____--~||\"\n",
    "    try:\n",
    "        gene_info(gene_info_name, model_sMtb_mapped)\n",
    "    except:\n",
    "        print \"gene not in sMtb\"\n",
    "\n",
    "    print \n",
    "    print \"||~--____goode ol iEK1032____--~||\"\n",
    "    try:\n",
    "        gene_info(gene_info_name, model_iEK1032old)\n",
    "    except:\n",
    "        print \"gene not in old iEK1032\"\n",
    "        \n",
    "\n",
    "\n",
    "def get_models_metab_info(metabolite_name):\n",
    "    \n",
    "    try:\n",
    "        print \"iEK\"\n",
    "        metab_info(metabolite_name, model_iEK)\n",
    "    except:\n",
    "        print \"metabolite not in iEK\"\n",
    "\n",
    "    print \n",
    "    print \"||~--____iSM810____--~||\"\n",
    "    try:\n",
    "        metab_info(metabolite_name, model_iSM810)\n",
    "    except:\n",
    "        print \"metabolite not in old iSM810\"\n",
    "        \n",
    "    print \n",
    "    print \"||~--____sMtb____--~||\"\n",
    "    try:\n",
    "        metab_info(metabolite_name, model_sMtb_mapped)\n",
    "    except:\n",
    "        print \"metabolite not in old sMtb\"\n",
    "\n",
    "    print \n",
    "    print \"||~--____goode ol iEK1032____--~||\"\n",
    "    try:\n",
    "        metab_info(metabolite_name, model_iEK1032old)\n",
    "    except:\n",
    "        print \"metabolite not in old iEK1032\""
   ]
  },
  {
   "cell_type": "markdown",
   "metadata": {},
   "source": [
    "# 1. *Load iEK1011*\n",
    "Although the model is far from perfect, we believe that _iEK1019_ is a step in the right direction.\n",
    "<a id='iEK_model'></a>"
   ]
  },
  {
   "cell_type": "code",
   "execution_count": 4,
   "metadata": {
    "collapsed": true
   },
   "outputs": [],
   "source": [
    "model_iEK = cobra.io.load_json_model(\"iEK1011_m7H10_media.json\")"
   ]
  },
  {
   "cell_type": "code",
   "execution_count": 5,
   "metadata": {},
   "outputs": [
    {
     "name": "stdout",
     "output_type": "stream",
     "text": [
      "# of reactions 1228\n",
      "# of metabolites 998\n",
      "# of genes 1011\n"
     ]
    }
   ],
   "source": [
    "print \"# of reactions\", len(model_iEK.reactions)\n",
    "print \"# of metabolites\", len(model_iEK.metabolites)\n",
    "print \"# of genes\", len(model_iEK.genes)"
   ]
  },
  {
   "cell_type": "code",
   "execution_count": 6,
   "metadata": {},
   "outputs": [
    {
     "data": {
      "text/plain": [
       "u'iEK1011'"
      ]
     },
     "execution_count": 6,
     "metadata": {},
     "output_type": "execute_result"
    }
   ],
   "source": [
    "model_iEK.id"
   ]
  },
  {
   "cell_type": "code",
   "execution_count": 7,
   "metadata": {
    "scrolled": true
   },
   "outputs": [
    {
     "data": {
      "text/plain": [
       "0.016564701900079776"
      ]
     },
     "execution_count": 7,
     "metadata": {},
     "output_type": "execute_result"
    }
   ],
   "source": [
    "model_iEK.optimize().f"
   ]
  },
  {
   "cell_type": "code",
   "execution_count": 8,
   "metadata": {
    "collapsed": true
   },
   "outputs": [
    {
     "data": {
      "text/plain": [
       "EX_h       -4.845535\n",
       "H2Ot       -2.924392\n",
       "CO2t       -2.839110\n",
       "EX_o2      -2.633244\n",
       "SUCCt2r    -1.996182\n",
       "KGD2       -1.824474\n",
       "SUCOAS     -1.820530\n",
       "EX_glu_L   -1.000000\n",
       "EX_cit     -1.000000\n",
       "NH4t       -0.886186\n",
       "PTAr       -0.300288\n",
       "EX_ac      -0.300071\n",
       "ENO        -0.102479\n",
       "GAPD       -0.081577\n",
       "TPI        -0.034727\n",
       "FBA        -0.032432\n",
       "ASPTA      -0.026996\n",
       "EX_pi      -0.022046\n",
       "PGI        -0.012504\n",
       "VALTA      -0.012166\n",
       "RPE        -0.011737\n",
       "RPI        -0.010575\n",
       "VPAMTr     -0.008756\n",
       "IMPC       -0.008290\n",
       "TKT2       -0.006861\n",
       "ASAD       -0.006192\n",
       "PGAMT      -0.005469\n",
       "ORPT       -0.005118\n",
       "DHORTS     -0.005118\n",
       "PGMT       -0.004877\n",
       "              ...   \n",
       "GLNS        0.035755\n",
       "ME1         0.041386\n",
       "PPA         0.056509\n",
       "PGK         0.081577\n",
       "PGM         0.102479\n",
       "PEPCK_re    0.107186\n",
       "ACCOAC      0.111443\n",
       "NDPK1       0.112541\n",
       "HCO3E       0.122729\n",
       "MDH         0.134182\n",
       "ICL         0.167574\n",
       "MALS        0.167600\n",
       "ACt2r       0.300071\n",
       "ACKr        0.300288\n",
       "ICDHy       0.832426\n",
       "EX_nh4      0.886186\n",
       "GLUDx       0.921425\n",
       "ACONT       1.000000\n",
       "GLUt2r      1.000000\n",
       "CITabc      1.000000\n",
       "EX_succ     1.996182\n",
       "O2t         2.633244\n",
       "EX_co2      2.839110\n",
       "EX_h2o      2.924392\n",
       "ATPM        3.150000\n",
       "FPRA        3.636344\n",
       "ATPS4r      4.167118\n",
       "NADTRHD     4.205467\n",
       "NADH5       5.258198\n",
       "CYTBD       5.263315\n",
       "Name: fluxes, Length: 1228, dtype: float64"
      ]
     },
     "execution_count": 8,
     "metadata": {},
     "output_type": "execute_result"
    }
   ],
   "source": [
    "model_iEK.optimize().fluxes.sort_values()"
   ]
  },
  {
   "cell_type": "code",
   "execution_count": 9,
   "metadata": {
    "collapsed": true
   },
   "outputs": [
    {
     "name": "stdout",
     "output_type": "stream",
     "text": [
      "\n",
      "||~--____my boi iEK____--~||\n",
      "Cofactor and Prosthetic Group Biosynthesis :  PDBL_2 g3p_c + gln__L_c + r5p_c --> glu__L_c + 3.0 h2o_c + h_c + pi_c + pydx5p_c Rv2604c and Rv2606c\n",
      "Cofactor and Prosthetic Group Biosynthesis :  PDBL_1 g3p_c + gln__L_c + ru5p__D_c --> glu__L_c + 3.0 h2o_c + h_c + pi_c + pydx5p_c Rv2604c and Rv2606c\n",
      "Cofactor and Prosthetic Group Biosynthesis :  PDBL_4 dhap_c + gln__L_c + r5p_c --> glu__L_c + 3.0 h2o_c + h_c + pi_c + pydx5p_c Rv2604c and Rv2606c\n",
      "Cofactor and Prosthetic Group Biosynthesis :  PDBL_3 dhap_c + gln__L_c + ru5p__D_c --> glu__L_c + 3.0 h2o_c + h_c + pi_c + pydx5p_c Rv2604c and Rv2606c\n",
      "\n",
      "||~--____goode ol iSM810____--~||\n",
      "gene not in old iSM810\n",
      "\n",
      "||~--____goode ol iOSDD____--~||\n",
      "gene not in iOSDD\n",
      "\n",
      "||~--____goode ol sMtb____--~||\n",
      "gene not in sMtb\n",
      "\n",
      "||~--____goode ol iEK1032____--~||\n",
      "gene not in old iEK1032\n"
     ]
    }
   ],
   "source": [
    "get_models_gene_info(\"Rv2604c\")"
   ]
  },
  {
   "cell_type": "markdown",
   "metadata": {},
   "source": [
    "## Check default media condition\n",
    "- Should be initalized to approximate Middlebrook 7H10 with Acetate as the carbon source as described in _Eoh and Rhee; PNAS 2014_. Although not used in this study, m7H10 with acetate has been used in numerous papers and thus provides a good media intialization.\n"
   ]
  },
  {
   "cell_type": "code",
   "execution_count": 10,
   "metadata": {
    "collapsed": true
   },
   "outputs": [
    {
     "data": {
      "text/plain": [
       "{u'EX_ac': 10,\n",
       " u'EX_btn': 1,\n",
       " u'EX_ca2': 1000.0,\n",
       " u'EX_cit': 1.0,\n",
       " u'EX_cl': 1000.0,\n",
       " u'EX_co2': 1000,\n",
       " u'EX_cu2': 1000.0,\n",
       " u'EX_fe2': 1000.0,\n",
       " u'EX_fe3': 1000.0,\n",
       " u'EX_glu_L': 1.0,\n",
       " u'EX_h': 1000,\n",
       " u'EX_h2co3': 1000,\n",
       " u'EX_k': 1000,\n",
       " u'EX_mg2': 1000.0,\n",
       " u'EX_mobd': 1000,\n",
       " u'EX_na1': 1000,\n",
       " u'EX_nh4': 20,\n",
       " u'EX_o2': 20,\n",
       " u'EX_pi': 1000,\n",
       " u'EX_pydxn': 1,\n",
       " u'EX_so4': 1000}"
      ]
     },
     "execution_count": 10,
     "metadata": {},
     "output_type": "execute_result"
    }
   ],
   "source": [
    "model_iEK.medium"
   ]
  },
  {
   "cell_type": "markdown",
   "metadata": {},
   "source": [
    "## Check FBA solution\n",
    "Growth should be about 0.0165 mmol/g DW/ hr"
   ]
  },
  {
   "cell_type": "code",
   "execution_count": 11,
   "metadata": {},
   "outputs": [
    {
     "data": {
      "text/plain": [
       "0.016564701900079776"
      ]
     },
     "execution_count": 11,
     "metadata": {},
     "output_type": "execute_result"
    }
   ],
   "source": [
    "model_iEK.optimize().f"
   ]
  },
  {
   "cell_type": "markdown",
   "metadata": {},
   "source": [
    "## Check Mass Balance\n",
    "- Exchange reactions are not accounted for here.\n",
    "- Biomass reactions are not accounted for here.\n",
    "- Demand reactions are not accounted for here.\n",
    "\n",
    "The list of these reactions are provided in **Supplementary Table 1**"
   ]
  },
  {
   "cell_type": "code",
   "execution_count": 12,
   "metadata": {
    "collapsed": true
   },
   "outputs": [
    {
     "name": "stdout",
     "output_type": "stream",
     "text": [
      "LIPY {'H': -1.0, 'C': 5.0, 'O': -1.0} 10.0 h2o_c + 9.0 tag_TB_c --> 9.0 12dgr_TB_c + arach_c + 2.0 hdca_c + 2.0 hexc_c + 4.0 ocdca_c Rv3097c\n",
      "TMMYCO {'H': 259.0, 'C': 143.0, 'O': 11.0, 'P': 1.0} c78mycolatepp_c + tre6p_c --> ppm_c + tre6mmp_c Rv1288 or Rv0519c or Rv0774c\n",
      "MME {'C': 0.062000000000001165, 'Co': 0.001, 'H': 0.09000000000000341, 'O': 0.015000000000000568, 'N': 0.0129999999999999, 'P': 0.0009999999999998899} mmcoa__R_c <-- 0.001 aqcobal_c + mmcoa__S_c Rv0855 or Rv1322A or Rv1143\n",
      "VIUB {'H': -1.0720000000000007, 'C': -0.04349999999999963, 'O': -0.010000000000000786, 'N': -0.005000000000000391} atp_c + fe3_e + h2o_c + 0.0005 mcbts_c + 0.0005 mcbtt_c --> adp_c + fe3_c + pi_c Rv2895c and Rv1348 and Rv1349\n",
      "MMM2r {'C': -0.062000000000001165, 'Co': -0.001, 'H': -0.09000000000000341, 'O': -0.015000000000000568, 'N': -0.0129999999999999, 'P': -0.0009999999999998899} 0.001 aqcobal_c + succoa_c <-- mmcoa__R_c Rv1492 and Rv1493\n",
      "MYCOPP {'H': -259.0, 'C': -143.0, 'O': -11.0, 'P': -1.0} c78mycolateACP_c + ppm_c --> ACP_c + c78mycolatepp_c Rv3802c\n",
      "NMO {'H': -6.0} etha_c + fmnh2_c + o2_c --> acald_c + fmn_c + no2_c Rv0021c or Rv1533 or Rv1894c or Rv2781c or Rv3553\n",
      "MBTA1 {'H': 32.0, 'C': 13, 'O': -2.0} acac_c + h_c + n6hlys_c + n6hlysmal_c + nadh_c + salc_c + thr__L_c --> 6.0 h2o_c + mcbtt_c + nad_c Rv2384 and Rv2383c and Rv2382c and Rv2381c and Rv2380c and Rv2379c and Rv2377c\n",
      "TAG {'C': 45.0, 'H': 63.0, 'O': 3.0, 'N': 7.0, 'P': 3.0, 'S': 1.0} 10.0 12dgr_TB_c + arachcoa_c + hexccoa_c + nodcoa_c + pentdcoa_c + 2.0 pmtcoa_c + 3.0 stcoa_c --> 10.0 coa_c + 10.0 tag_TB_c Rv3130c or Rv3734c or Rv3234c or Rv3088 or Rv0221 or Rv0895 or Rv1425 or Rv1760 or Rv2285 or Rv2484c or Rv3087 or Rv3233c or Rv3371 or Rv3480c or Rv3740c\n",
      "9\n"
     ]
    }
   ],
   "source": [
    "# print len(cobra.manipulation.validate.check_mass_balance(model_iEK).keys())\n",
    "mass_bal_metabs, mass_bal_reacts = [], []\n",
    "for react_id, mass_bal in cobra.manipulation.validate.check_mass_balance(model_iEK).iteritems():\n",
    "    \n",
    "    # ------ Don't count exchange reactions and biomass functions -----\n",
    "    if str(react_id)[:3]!=\"EX_\" and \"biomass\" not in str(react_id) and str(react_id)[:3]!=\"DM_\":\n",
    "        rxn_metabs = [str(x.id) for x in model_iEK.reactions.get_by_id(react_id.id).metabolites]\n",
    "        mass_bal_metabs.extend(rxn_metabs)\n",
    "        mass_bal_reacts.append(str(react_id))\n",
    "        print str(react_id), mass_bal, react_id.reaction, react_id.gene_reaction_rule\n",
    "\n",
    "print len(mass_bal_reacts)"
   ]
  },
  {
   "cell_type": "markdown",
   "metadata": {},
   "source": [
    "A total of 7 reactions are unbalanced in the model."
   ]
  },
  {
   "cell_type": "markdown",
   "metadata": {},
   "source": [
    "## Look at Blocked Reactions\n",
    "Note that it's ok for many reactions to be blocked because the pathway may be incomplete or the ending metabolite has no way to leave the system."
   ]
  },
  {
   "cell_type": "code",
   "execution_count": 13,
   "metadata": {},
   "outputs": [
    {
     "name": "stdout",
     "output_type": "stream",
     "text": [
      "157\n"
     ]
    }
   ],
   "source": [
    "blocked_reacts = cobra.flux_analysis.variability.find_blocked_reactions(model_iEK, \n",
    "                                                                        reaction_list=None, \n",
    "                                                                        zero_cutoff=1e-09, \n",
    "                                                                        open_exchanges=True)\n",
    "print len(blocked_reacts)"
   ]
  },
  {
   "cell_type": "markdown",
   "metadata": {},
   "source": [
    "## Compare to previous models. (OPTIONAL)\n",
    "- This section of the worfklow will require access to the previous models.\n",
    "    - Note: I've renamed the raw model files downloaded from the supplementary to different names."
   ]
  },
  {
   "cell_type": "code",
   "execution_count": 14,
   "metadata": {},
   "outputs": [
    {
     "name": "stderr",
     "output_type": "stream",
     "text": [
      "cobra/core/reaction.py:401 \u001b[1;31mUserWarning\u001b[0m: uppercase AND/OR found in rule 'Rv3302c OR Rv2249c\n",
      "\t\t\t\t\t' for '<Reaction R4 at 0x7f83a2ab6e10>'\n",
      "cobra/core/reaction.py:401 \u001b[1;31mUserWarning\u001b[0m: uppercase AND/OR found in rule 'Rv2858c OR Rv0458 \n",
      "\t\t\t\t\t' for '<Reaction R5 at 0x7f83a30ec590>'\n",
      "cobra/core/reaction.py:401 \u001b[1;31mUserWarning\u001b[0m: uppercase AND/OR found in rule 'Rv3257c OR Rv3308\n",
      "\t\t\t\t\t' for '<Reaction R12 at 0x7f83a2acd310>'\n",
      "cobra/core/reaction.py:401 \u001b[1;31mUserWarning\u001b[0m: uppercase AND/OR found in rule 'Rv0112 OR Rv1511\n",
      "\t\t\t\t\t' for '<Reaction R15 at 0x7f83a2acd550>'\n",
      "cobra/core/reaction.py:401 \u001b[1;31mUserWarning\u001b[0m: uppercase AND/OR found in rule 'Rv0619 OR Rv0618\n",
      "\t\t\t\t\t' for '<Reaction R19 at 0x7f83a2acd750>'\n",
      "cobra/core/reaction.py:401 \u001b[1;31mUserWarning\u001b[0m: uppercase AND/OR found in rule 'Rv3634c OR Rv0501 OR Rv0536\n",
      "\t\t\t\t\t' for '<Reaction R20 at 0x7f83a2acd7d0>'\n",
      "cobra/core/reaction.py:401 \u001b[1;31mUserWarning\u001b[0m: uppercase AND/OR found in rule 'Rv0046c OR Rv2612c AND Rv1822\n",
      "\t\t\t\t\t' for '<Reaction R22 at 0x7f83a2acd9d0>'\n",
      "cobra/core/reaction.py:401 \u001b[1;31mUserWarning\u001b[0m: uppercase AND/OR found in rule 'Rv3010c OR Rv2029c\n",
      "\t\t\t\t\t' for '<Reaction R41 at 0x7f83a28f0490>'\n",
      "cobra/core/reaction.py:401 \u001b[1;31mUserWarning\u001b[0m: uppercase AND/OR found in rule 'Rv3214 OR Rv0489\n",
      "\t\t\t\t\t' for '<Reaction R49 at 0x7f83a28f0710>'\n",
      "cobra/core/reaction.py:401 \u001b[1;31mUserWarning\u001b[0m: uppercase AND/OR found in rule 'Rv0896 OR Rv0889c OR Rv1131\n",
      "\t\t\t\t\t' for '<Reaction R55 at 0x7f83a28f0910>'\n",
      "cobra/core/reaction.py:401 \u001b[1;31mUserWarning\u001b[0m: uppercase AND/OR found in rule 'Rv3339c OR Rv0066c\n",
      "\t\t\t\t\t' for '<Reaction R58 at 0x7f83a28f0c90>'\n",
      "cobra/core/reaction.py:401 \u001b[1;31mUserWarning\u001b[0m: uppercase AND/OR found in rule 'Rv1248c OR Rv0555\n",
      "\t\t\t\t\t' for '<Reaction R61 at 0x7f83a28f0ed0>'\n",
      "cobra/core/reaction.py:401 \u001b[1;31mUserWarning\u001b[0m: uppercase AND/OR found in rule 'Rv2454c AND Rv2455c\n",
      "\t\t\t\t\t' for '<Reaction R62 at 0x7f83a28f0c10>'\n",
      "cobra/core/reaction.py:401 \u001b[1;31mUserWarning\u001b[0m: uppercase AND/OR found in rule 'Rv0952 AND Rv0951\n",
      "\t\t\t\t\t' for '<Reaction R63 at 0x7f83a28f0fd0>'\n",
      "cobra/core/reaction.py:401 \u001b[1;31mUserWarning\u001b[0m: uppercase AND/OR found in rule 'Rv1872c OR Rv0694\n",
      "\t\t\t\t\t' for '<Reaction R71 at 0x7f83a2579590>'\n",
      "cobra/core/reaction.py:401 \u001b[1;31mUserWarning\u001b[0m: uppercase AND/OR found in rule 'Rv1862 OR Rv1530 OR Rv0162c OR Rv0761c\n",
      "\t\t\t\t\t' for '<Reaction R73 at 0x7f83a2579690>'\n",
      "cobra/core/reaction.py:401 \u001b[1;31mUserWarning\u001b[0m: uppercase AND/OR found in rule 'Rv0974c OR Rv3280\n",
      "\t\t\t\t\t' for '<Reaction R80 at 0x7f83a2579b50>'\n",
      "cobra/core/reaction.py:401 \u001b[1;31mUserWarning\u001b[0m: uppercase AND/OR found in rule 'Rv1447c OR Rv1121\n",
      "\t\t\t\t\t' for '<Reaction R87 at 0x7f83a2579f50>'\n",
      "cobra/core/reaction.py:401 \u001b[1;31mUserWarning\u001b[0m: uppercase AND/OR found in rule 'Rv1122 OR Rv1844c\n",
      "\t\t\t\t\t' for '<Reaction R89 at 0x7f83a2579f10>'\n",
      "cobra/core/reaction.py:401 \u001b[1;31mUserWarning\u001b[0m: uppercase AND/OR found in rule 'Rv1161 AND Rv1162 AND Rv1164 AND Rv1163 OR Rv1736c\n",
      "\t\t\t\t\t' for '<Reaction R114 at 0x7f83a255dd50>'\n",
      "cobra/core/reaction.py:401 \u001b[1;31mUserWarning\u001b[0m: uppercase AND/OR found in rule 'Rv3145 AND Rv3146 AND Rv3147 AND Rv3148 AND Rv3149 AND Rv3150 AND Rv3151 AND Rv3152 AND Rv3153 AND Rv3154 AND Rv3155 AND Rv3156 AND Rv3157 AND Rv3158\n",
      "\t\t\t\t\t' for '<Reaction R119 at 0x7f83a255d9d0>'\n",
      "cobra/core/reaction.py:401 \u001b[1;31mUserWarning\u001b[0m: uppercase AND/OR found in rule 'Rv1854c OR Rv0392c\n",
      "\t\t\t\t\t' for '<Reaction R120 at 0x7f83a255de50>'\n",
      "cobra/core/reaction.py:401 \u001b[1;31mUserWarning\u001b[0m: uppercase AND/OR found in rule 'Rv3318 AND Rv3319 AND Rv3316 AND Rv3317\n",
      "\t\t\t\t\t' for '<Reaction R122 at 0x7f83a255df10>'\n",
      "cobra/core/reaction.py:401 \u001b[1;31mUserWarning\u001b[0m: uppercase AND/OR found in rule 'Rv3318 AND Rv3319 AND Rv3316 AND Rv3317 OR Rv1552 AND Rv1553 AND Rv1554 AND Rv1555\n",
      "\t\t\t\t\t' for '<Reaction R123 at 0x7f83a255de90>'\n",
      "cobra/core/reaction.py:401 \u001b[1;31mUserWarning\u001b[0m: uppercase AND/OR found in rule 'Rv2194 AND Rv2195 AND Rv2196 AND Rv2196 AND Rv1451 AND Rv1456c AND Rv3029c AND Rv3028c AND Rv2200c AND Rv3043c AND Rv2193 AND Rv3043c AND Rv1623c AND Rv1622c OR Rv1623c AND Rv1622c\n",
      "\t\t\t\t\t' for '<Reaction R125 at 0x7f83a264f050>'\n",
      "cobra/core/reaction.py:401 \u001b[1;31mUserWarning\u001b[0m: uppercase AND/OR found in rule 'Rv2194 AND Rv2195 AND Rv2196 AND Rv2196 AND Rv1451 AND Rv1456c AND Rv3029c AND Rv3028c AND Rv2200c AND Rv3043c AND Rv2193 AND Rv3043c AND Rv1623c AND Rv1622c\n",
      "\t\t\t\t\t' for '<Reaction R126 at 0x7f83a264f290>'\n",
      "cobra/core/reaction.py:401 \u001b[1;31mUserWarning\u001b[0m: uppercase AND/OR found in rule 'Rv1623c AND Rv1622c\n",
      "\t\t\t\t\t' for '<Reaction R127 at 0x7f83a264f2d0>'\n",
      "cobra/core/reaction.py:401 \u001b[1;31mUserWarning\u001b[0m: uppercase AND/OR found in rule 'Rv1308 AND Rv1304 AND Rv1311 AND Rv1310 AND Rv1305 AND Rv1306 AND Rv1309 AND Rv1307\n",
      "\t\t\t\t\t' for '<Reaction R128 at 0x7f83a264f310>'\n",
      "cobra/core/reaction.py:401 \u001b[1;31mUserWarning\u001b[0m: uppercase AND/OR found in rule 'Rv3106 OR Rv0886\n",
      "\t\t\t\t\t' for '<Reaction R133 at 0x7f83a264f8d0>'\n",
      "cobra/core/reaction.py:401 \u001b[1;31mUserWarning\u001b[0m: uppercase AND/OR found in rule 'Rv0234c OR Rv1731\n",
      "\t\t\t\t\t' for '<Reaction R137 at 0x7f83a2634610>'\n",
      "cobra/core/reaction.py:401 \u001b[1;31mUserWarning\u001b[0m: uppercase AND/OR found in rule 'Rv2321c OR Rv2322c\n",
      "\t\t\t\t\t' for '<Reaction R144 at 0x7f83a2634a90>'\n",
      "cobra/core/reaction.py:401 \u001b[1;31mUserWarning\u001b[0m: uppercase AND/OR found in rule 'Rv2497c AND Rv2496c \n",
      "\t\t\t\t\t' for '<Reaction R150 at 0x7f83a2634bd0>'\n",
      "cobra/core/reaction.py:401 \u001b[1;31mUserWarning\u001b[0m: uppercase AND/OR found in rule 'Rv1070c OR Rv0905 OR Rv2486 OR Rv1472\n",
      "\t\t\t\t\t' for '<Reaction R153 at 0x7f83a2634f50>'\n",
      "cobra/core/reaction.py:401 \u001b[1;31mUserWarning\u001b[0m: uppercase AND/OR found in rule 'Rv3774 OR Rv1144\n",
      "\t\t\t\t\t' for '<Reaction R154 at 0x7f83a2634fd0>'\n",
      "cobra/core/reaction.py:401 \u001b[1;31mUserWarning\u001b[0m: uppercase AND/OR found in rule 'Rv0904c OR Rv2502c OR Rv0974c OR Rv0904c OR Rv3799c OR Rv3280 OR Rv2247\n",
      "\t\t\t\t\t' for '<Reaction R156 at 0x7f83a268f150>'\n",
      "cobra/core/reaction.py:407 \u001b[1;31mUserWarning\u001b[0m: malformed gene_reaction_rule 'Rv0855 orA' for <Reaction R157 at 0x7f83a268f050>\n",
      "cobra/core/reaction.py:401 \u001b[1;31mUserWarning\u001b[0m: uppercase AND/OR found in rule 'Rv1492 AND Rv1493\n",
      "\t\t\t\t\t' for '<Reaction R158 at 0x7f83a268f210>'\n",
      "cobra/core/reaction.py:401 \u001b[1;31mUserWarning\u001b[0m: uppercase AND/OR found in rule 'Rv1492 AND Rv1493\n",
      "\t\t\t\t\t' for '<Reaction R159 at 0x7f83a268f490>'\n",
      "cobra/core/reaction.py:401 \u001b[1;31mUserWarning\u001b[0m: uppercase AND/OR found in rule 'Rv2496c AND Rv2497c\n",
      "\t\t\t\t\t' for '<Reaction R160 at 0x7f83a268f3d0>'\n",
      "cobra/core/reaction.py:401 \u001b[1;31mUserWarning\u001b[0m: uppercase AND/OR found in rule 'Rv0904c OR Rv2502c OR Rv0974c OR Rv0904c OR Rv3799c OR Rv3280 OR Rv2247\n",
      "\t\t\t\t\t' for '<Reaction R163 at 0x7f83a268f610>'\n",
      "cobra/core/reaction.py:401 \u001b[1;31mUserWarning\u001b[0m: uppercase AND/OR found in rule 'Rv2504c AND Rv2503c\n",
      "\t\t\t\t\t' for '<Reaction R167 at 0x7f83a268fad0>'\n",
      "cobra/core/reaction.py:401 \u001b[1;31mUserWarning\u001b[0m: uppercase AND/OR found in rule 'Rv2497c AND Rv2496c \n",
      "\t\t\t\t\t' for '<Reaction R168 at 0x7f83a268fb10>'\n",
      "cobra/core/reaction.py:401 \u001b[1;31mUserWarning\u001b[0m: uppercase AND/OR found in rule 'Rv1070c OR Rv0905 OR Rv2486 OR Rv1472\n",
      "\t\t\t\t\t' for '<Reaction R171 at 0x7f83a268fc10>'\n",
      "cobra/core/reaction.py:401 \u001b[1;31mUserWarning\u001b[0m: uppercase AND/OR found in rule 'Rv1144 OR Rv0751c\n",
      "\t\t\t\t\t' for '<Reaction R173 at 0x7f83a268fed0>'\n",
      "cobra/core/reaction.py:401 \u001b[1;31mUserWarning\u001b[0m: uppercase AND/OR found in rule 'Rv1093 OR Rv0070c\n",
      "\t\t\t\t\t' for '<Reaction R185 at 0x7f83a266d610>'\n",
      "cobra/core/reaction.py:401 \u001b[1;31mUserWarning\u001b[0m: uppercase AND/OR found in rule 'Rv3565 OR Rv0337c\n",
      "\t\t\t\t\t' for '<Reaction R190 at 0x7f83a266d710>'\n",
      "cobra/core/reaction.py:401 \u001b[1;31mUserWarning\u001b[0m: uppercase AND/OR found in rule 'Rv3565 OR Rv0337c\n",
      "\t\t\t\t\t' for '<Reaction R195 at 0x7f83a266db50>'\n",
      "cobra/core/reaction.py:401 \u001b[1;31mUserWarning\u001b[0m: uppercase AND/OR found in rule 'Rv2220 OR Rv1878 OR Rv2860c\n",
      "\t\t\t\t\t' for '<Reaction R196 at 0x7f83a266d9d0>'\n",
      "cobra/core/reaction.py:401 \u001b[1;31mUserWarning\u001b[0m: uppercase AND/OR found in rule 'Rv3859c AND Rv3858c\n",
      "\t\t\t\t\t' for '<Reaction R197 at 0x7f83a266dc90>'\n",
      "cobra/core/reaction.py:401 \u001b[1;31mUserWarning\u001b[0m: uppercase AND/OR found in rule 'Rv1383 AND Rv1384\n",
      "\t\t\t\t\t' for '<Reaction R208 at 0x7f83a2613350>'\n",
      "cobra/core/reaction.py:401 \u001b[1;31mUserWarning\u001b[0m: uppercase AND/OR found in rule 'Rv3002c AND Rv3003c\n",
      "\t\t\t\t\t' for '<Reaction R211 at 0x7f83a2613510>'\n",
      "cobra/core/reaction.py:401 \u001b[1;31mUserWarning\u001b[0m: uppercase AND/OR found in rule 'Rv3509c OR Rv1820 OR Rv3003c OR Rv3470c AND Rv3002c\n",
      "\t\t\t\t\t' for '<Reaction R216 at 0x7f83a26137d0>'\n",
      "cobra/core/reaction.py:401 \u001b[1;31mUserWarning\u001b[0m: uppercase AND/OR found in rule 'Rv2988c AND Rv2987c\n",
      "\t\t\t\t\t' for '<Reaction R221 at 0x7f83a2613a90>'\n",
      "cobra/core/reaction.py:401 \u001b[1;31mUserWarning\u001b[0m: uppercase AND/OR found in rule 'Rv3565 OR Rv0337c\n",
      "\t\t\t\t\t' for '<Reaction R225 at 0x7f83a2613dd0>'\n",
      "cobra/core/reaction.py:401 \u001b[1;31mUserWarning\u001b[0m: uppercase AND/OR found in rule 'Rv1655 OR Rv0858c\n",
      "\t\t\t\t\t' for '<Reaction R235 at 0x7f83a25ef250>'\n",
      "cobra/core/reaction.py:401 \u001b[1;31mUserWarning\u001b[0m: uppercase AND/OR found in rule 'Rv2334 OR Rv1336\n",
      "\t\t\t\t\t' for '<Reaction R251 at 0x7f83a25efc10>'\n",
      "cobra/core/reaction.py:401 \u001b[1;31mUserWarning\u001b[0m: uppercase AND/OR found in rule 'Rv3772 OR Rv1600\n",
      "\t\t\t\t\t' for '<Reaction R267 at 0x7f83a25d34d0>'\n",
      "cobra/core/reaction.py:401 \u001b[1;31mUserWarning\u001b[0m: uppercase AND/OR found in rule 'Rv1613 AND Rv1612\n",
      "\t\t\t\t\t' for '<Reaction R281 at 0x7f83a25d3bd0>'\n",
      "cobra/core/reaction.py:401 \u001b[1;31mUserWarning\u001b[0m: uppercase AND/OR found in rule 'Rv1885c OR Rv0948c\n",
      "\t\t\t\t\t' for '<Reaction R282 at 0x7f83a25d3cd0>'\n",
      "cobra/core/reaction.py:401 \u001b[1;31mUserWarning\u001b[0m: uppercase AND/OR found in rule 'Rv3565 OR Rv0337c\n",
      "\t\t\t\t\t' for '<Reaction R284 at 0x7f83a25d3d50>'\n",
      "cobra/core/reaction.py:401 \u001b[1;31mUserWarning\u001b[0m: uppercase AND/OR found in rule 'Rv3565 OR Rv0337c\n",
      "\t\t\t\t\t' for '<Reaction R286 at 0x7f83a25d3f10>'\n",
      "cobra/core/reaction.py:401 \u001b[1;31mUserWarning\u001b[0m: uppercase AND/OR found in rule 'Rv3051c AND Rv3048c\n",
      "\t\t\t\t\t' for '<Reaction R297 at 0x7f83a25ac690>'\n",
      "cobra/core/reaction.py:401 \u001b[1;31mUserWarning\u001b[0m: uppercase AND/OR found in rule 'Rv3051c AND Rv3048c\n",
      "\t\t\t\t\t' for '<Reaction R330 at 0x7f83a244f750>'\n",
      "cobra/core/reaction.py:401 \u001b[1;31mUserWarning\u001b[0m: uppercase AND/OR found in rule 'Rv3051c AND Rv3048c\n",
      "\t\t\t\t\t' for '<Reaction R352 at 0x7f83a241f5d0>'\n",
      "cobra/core/reaction.py:401 \u001b[1;31mUserWarning\u001b[0m: uppercase AND/OR found in rule 'Rv3411c AND Rv3410c AND Rv1843c\n",
      "\t\t\t\t\t' for '<Reaction R355 at 0x7f83a241f790>'\n",
      "cobra/core/reaction.py:401 \u001b[1;31mUserWarning\u001b[0m: uppercase AND/OR found in rule 'Rv3051c AND Rv3048c\n",
      "\t\t\t\t\t' for '<Reaction R359 at 0x7f83a241f9d0>'\n",
      "cobra/core/reaction.py:401 \u001b[1;31mUserWarning\u001b[0m: uppercase AND/OR found in rule 'Rv0155 AND Rv0157 AND Rv0156\n",
      "\t\t\t\t\t' for '<Reaction R376 at 0x7f83a24cd390>'\n",
      "cobra/core/reaction.py:401 \u001b[1;31mUserWarning\u001b[0m: uppercase AND/OR found in rule 'Rv2713 OR Rv3303c\n",
      "\t\t\t\t\t' for '<Reaction R379 at 0x7f83a24cd4d0>'\n",
      "cobra/core/reaction.py:401 \u001b[1;31mUserWarning\u001b[0m: uppercase AND/OR found in rule 'Rv1415 OR Rv1940\n",
      "\t\t\t\t\t' for '<Reaction R381 at 0x7f83a24cd590>'\n",
      "cobra/core/reaction.py:401 \u001b[1;31mUserWarning\u001b[0m: uppercase AND/OR found in rule 'Rv2671 OR Rv1409\n",
      "\t\t\t\t\t' for '<Reaction R382 at 0x7f83a24cd5d0>'\n",
      "cobra/core/reaction.py:401 \u001b[1;31mUserWarning\u001b[0m: uppercase AND/OR found in rule 'Rv2671 OR Rv1409\n",
      "\t\t\t\t\t' for '<Reaction R383 at 0x7f83a24cd710>'\n",
      "cobra/core/reaction.py:401 \u001b[1;31mUserWarning\u001b[0m: uppercase AND/OR found in rule 'Rv2523c OR Rv2794c\n",
      "\t\t\t\t\t' for '<Reaction R398 at 0x7f83a24b7150>'\n",
      "cobra/core/reaction.py:401 \u001b[1;31mUserWarning\u001b[0m: uppercase AND/OR found in rule 'Rv0757 AND Rv0758\n",
      "\t\t\t\t\t' for '<Reaction R400 at 0x7f83a24b7250>'\n",
      "cobra/core/reaction.py:401 \u001b[1;31mUserWarning\u001b[0m: uppercase AND/OR found in rule 'Rv3608c OR Rv1207\n",
      "\t\t\t\t\t' for '<Reaction R405 at 0x7f83a24b74d0>'\n",
      "cobra/core/reaction.py:401 \u001b[1;31mUserWarning\u001b[0m: uppercase AND/OR found in rule 'Rv3608c OR Rv1207\n",
      "\t\t\t\t\t' for '<Reaction R406 at 0x7f83a24b7650>'\n",
      "cobra/core/reaction.py:401 \u001b[1;31mUserWarning\u001b[0m: uppercase AND/OR found in rule 'Rv3025c OR Rv1464\n",
      "\t\t\t\t\t' for '<Reaction R411 at 0x7f83a24b7950>'\n",
      "cobra/core/reaction.py:401 \u001b[1;31mUserWarning\u001b[0m: uppercase AND/OR found in rule 'Rv3215 OR Rv2386c\n",
      "\t\t\t\t\t' for '<Reaction R412 at 0x7f83a24b7a50>'\n",
      "cobra/core/reaction.py:401 \u001b[1;31mUserWarning\u001b[0m: uppercase AND/OR found in rule 'Rv0542c AND Rv0553\n",
      "\t\t\t\t\t' for '<Reaction R415 at 0x7f83a24b7bd0>'\n",
      "cobra/core/reaction.py:401 \u001b[1;31mUserWarning\u001b[0m: uppercase AND/OR found in rule 'Rv1569 AND Rv0032\n",
      "\t\t\t\t\t' for '<Reaction R420 at 0x7f83a24b7d10>'\n",
      "cobra/core/reaction.py:401 \u001b[1;31mUserWarning\u001b[0m: uppercase AND/OR found in rule 'Rv3588c OR Rv1284\n",
      "\t\t\t\t\t' for '<Reaction R425 at 0x7f83a249d0d0>'\n",
      "cobra/core/reaction.py:401 \u001b[1;31mUserWarning\u001b[0m: uppercase AND/OR found in rule 'Rv2501c OR Rv0973c OR Rv3285\n",
      "\t\t\t\t\t' for '<Reaction R427 at 0x7f83a249d310>'\n",
      "cobra/core/reaction.py:401 \u001b[1;31mUserWarning\u001b[0m: uppercase AND/OR found in rule 'Rv2847c OR Rv0511\n",
      "\t\t\t\t\t' for '<Reaction R440 at 0x7f83a249db10>'\n",
      "cobra/core/reaction.py:401 \u001b[1;31mUserWarning\u001b[0m: uppercase AND/OR found in rule 'Rv3206c AND Rv3025c\n",
      "\t\t\t\t\t' for '<Reaction R460 at 0x7f83a2481610>'\n",
      "cobra/core/reaction.py:401 \u001b[1;31mUserWarning\u001b[0m: uppercase AND/OR found in rule 'Rv3109 AND Rv3116 AND Rv3111\n",
      "\t\t\t\t\t' for '<Reaction R461 at 0x7f83a2481650>'\n",
      "cobra/core/reaction.py:401 \u001b[1;31mUserWarning\u001b[0m: uppercase AND/OR found in rule 'Rv3119 OR Rv0866 AND Rv3322c\n",
      "\t\t\t\t\t' for '<Reaction R462 at 0x7f83a24815d0>'\n",
      "cobra/core/reaction.py:401 \u001b[1;31mUserWarning\u001b[0m: uppercase AND/OR found in rule 'Rv0994 OR Rv0438c\n",
      "\t\t\t\t\t' for '<Reaction R463 at 0x7f83a2481510>'\n",
      "cobra/core/reaction.py:401 \u001b[1;31mUserWarning\u001b[0m: uppercase AND/OR found in rule 'Rv3261 AND Rv3262\n",
      "\t\t\t\t\t' for '<Reaction R478 at 0x7f83a2481e90>'\n",
      "cobra/core/reaction.py:401 \u001b[1;31mUserWarning\u001b[0m: uppercase AND/OR found in rule 'Rv3261 AND Rv3263\n",
      "\t\t\t\t\t' for '<Reaction R479 at 0x7f83a2481f50>'\n",
      "cobra/core/reaction.py:401 \u001b[1;31mUserWarning\u001b[0m: uppercase AND/OR found in rule 'Rv2382c AND Rv2381c\n",
      "\t\t\t\t\t' for '<Reaction R491 at 0x7f83a24615d0>'\n",
      "cobra/core/reaction.py:401 \u001b[1;31mUserWarning\u001b[0m: uppercase AND/OR found in rule 'Rv0904c OR Rv2502c OR Rv0974c OR Rv0904c OR Rv3799c OR Rv3280 OR Rv2247\n",
      "\t\t\t\t\t' for '<Reaction R495 at 0x7f83a2461550>'\n",
      "cobra/core/reaction.py:401 \u001b[1;31mUserWarning\u001b[0m: uppercase AND/OR found in rule 'Rv2243 OR Rv0649 AND Rv2244\n",
      "\t\t\t\t\t' for '<Reaction R496 at 0x7f83a24617d0>'\n",
      "cobra/core/reaction.py:401 \u001b[1;31mUserWarning\u001b[0m: uppercase AND/OR found in rule 'Rv3280 AND Rv3799c AND Rv3285\n",
      "\t\t\t\t\t' for '<Reaction R508 at 0x7f83a2505090>'\n",
      "cobra/core/reaction.py:401 \u001b[1;31mUserWarning\u001b[0m: uppercase AND/OR found in rule 'Rv2243 OR Rv0649 AND Rv2244\n",
      "\t\t\t\t\t' for '<Reaction R509 at 0x7f83a2505190>'\n",
      "cobra/core/reaction.py:401 \u001b[1;31mUserWarning\u001b[0m: uppercase AND/OR found in rule 'Rv2243 OR Rv0649 AND Rv2244\n",
      "\t\t\t\t\t' for '<Reaction R510 at 0x7f83a2505150>'\n",
      "cobra/core/reaction.py:401 \u001b[1;31mUserWarning\u001b[0m: uppercase AND/OR found in rule 'Rv2243 OR Rv0649 AND Rv2244\n",
      "\t\t\t\t\t' for '<Reaction R511 at 0x7f83a25050d0>'\n",
      "cobra/core/reaction.py:401 \u001b[1;31mUserWarning\u001b[0m: uppercase AND/OR found in rule 'Rv2243 OR Rv0649 AND Rv2244\n",
      "\t\t\t\t\t' for '<Reaction R512 at 0x7f83a2505350>'\n",
      "cobra/core/reaction.py:401 \u001b[1;31mUserWarning\u001b[0m: uppercase AND/OR found in rule 'Rv2243 OR Rv0649 AND Rv2244\n",
      "\t\t\t\t\t' for '<Reaction R513 at 0x7f83a2505290>'\n",
      "cobra/core/reaction.py:401 \u001b[1;31mUserWarning\u001b[0m: uppercase AND/OR found in rule 'Rv2243 OR Rv0649 AND Rv2244\n",
      "\t\t\t\t\t' for '<Reaction R514 at 0x7f83a2505490>'\n",
      "cobra/core/reaction.py:401 \u001b[1;31mUserWarning\u001b[0m: uppercase AND/OR found in rule 'Rv2243 OR Rv0649 AND Rv2244\n",
      "\t\t\t\t\t' for '<Reaction R515 at 0x7f83a2505390>'\n",
      "cobra/core/reaction.py:401 \u001b[1;31mUserWarning\u001b[0m: uppercase AND/OR found in rule 'Rv2243 OR Rv0649 AND Rv2244\n",
      "\t\t\t\t\t' for '<Reaction R516 at 0x7f83a2505510>'\n",
      "cobra/core/reaction.py:401 \u001b[1;31mUserWarning\u001b[0m: uppercase AND/OR found in rule 'Rv2243 OR Rv0649 AND Rv2244\n",
      "\t\t\t\t\t' for '<Reaction R517 at 0x7f83a2505650>'\n",
      "cobra/core/reaction.py:401 \u001b[1;31mUserWarning\u001b[0m: uppercase AND/OR found in rule 'Rv2243 OR Rv0649 AND Rv2244\n",
      "\t\t\t\t\t' for '<Reaction R518 at 0x7f83a2505950>'\n",
      "cobra/core/reaction.py:401 \u001b[1;31mUserWarning\u001b[0m: uppercase AND/OR found in rule 'Rv2243 OR Rv0649 AND Rv2244\n",
      "\t\t\t\t\t' for '<Reaction R519 at 0x7f83a2505a50>'\n",
      "cobra/core/reaction.py:401 \u001b[1;31mUserWarning\u001b[0m: uppercase AND/OR found in rule 'Rv2243 OR Rv0649 AND Rv2244\n",
      "\t\t\t\t\t' for '<Reaction R520 at 0x7f83a25056d0>'\n",
      "cobra/core/reaction.py:401 \u001b[1;31mUserWarning\u001b[0m: uppercase AND/OR found in rule 'Rv2243 OR Rv0649 AND Rv2244\n",
      "\t\t\t\t\t' for '<Reaction R521 at 0x7f83a2505bd0>'\n",
      "cobra/core/reaction.py:401 \u001b[1;31mUserWarning\u001b[0m: uppercase AND/OR found in rule 'Rv2243 OR Rv0649 AND Rv2244\n",
      "\t\t\t\t\t' for '<Reaction R522 at 0x7f83a2505b90>'\n",
      "cobra/core/reaction.py:401 \u001b[1;31mUserWarning\u001b[0m: uppercase AND/OR found in rule 'Rv2243 OR Rv0649 AND Rv2244\n",
      "\t\t\t\t\t' for '<Reaction R533 at 0x7f83a2505dd0>'\n",
      "cobra/core/reaction.py:401 \u001b[1;31mUserWarning\u001b[0m: uppercase AND/OR found in rule 'Rv0035 OR Rv0099 OR Rv0119 OR Rv0166 OR Rv0214 OR Rv0270 OR Rv0275c OR Rv0404 OR Rv0551c OR Rv0852 OR Rv1058 OR Rv1185c OR Rv1193 OR Rv1206 OR Rv1345 OR Rv1427c OR Rv1521 OR Rv1529 OR Rv1750c OR Rv1925 OR Rv2187 OR Rv2505c OR Rv2590 OR Rv2930 OR Rv2941 OR Rv2948c OR Rv2950c OR Rv3089 OR Rv3506 OR Rv3513c OR Rv3515c OR Rv3561 OR Rv3801c OR Rv3826\n",
      "\t\t\t\t\t' for '<Reaction R537 at 0x7f83a24eb350>'\n",
      "cobra/core/reaction.py:401 \u001b[1;31mUserWarning\u001b[0m: uppercase AND/OR found in rule 'Rv0035 OR Rv0099 OR Rv0119 OR Rv0166 OR Rv0214 OR Rv0270 OR Rv0275c OR Rv0404 OR Rv0551c OR Rv0852 OR Rv1058 OR Rv1185c OR Rv1193 OR Rv1206 OR Rv1345 OR Rv1427c OR Rv1521 OR Rv1529 OR Rv1750c OR Rv1925 OR Rv2187 OR Rv2505c OR Rv2590 OR Rv2930 OR Rv2941 OR Rv2948c OR Rv2950c OR Rv3089 OR Rv3506 OR Rv3513c OR Rv3515c OR Rv3561 OR Rv3801c OR Rv3826\n",
      "\t\t\t\t\t' for '<Reaction R538 at 0x7f83a24eb4d0>'\n",
      "cobra/core/reaction.py:401 \u001b[1;31mUserWarning\u001b[0m: uppercase AND/OR found in rule 'Rv0035 OR Rv0099 OR Rv0119 OR Rv0166 OR Rv0214 OR Rv0270 OR Rv0275c OR Rv0404 OR Rv0551c OR Rv0852 OR Rv1058 OR Rv1185c OR Rv1193 OR Rv1206 OR Rv1345 OR Rv1427c OR Rv1521 OR Rv1529 OR Rv1750c OR Rv1925 OR Rv2187 OR Rv2505c OR Rv2590 OR Rv2930 OR Rv2941 OR Rv2948c OR Rv2950c OR Rv3089 OR Rv3506 OR Rv3513c OR Rv3515c OR Rv3561 OR Rv3801c OR Rv3826\n",
      "\t\t\t\t\t' for '<Reaction R539 at 0x7f83a24eb610>'\n",
      "cobra/core/reaction.py:401 \u001b[1;31mUserWarning\u001b[0m: uppercase AND/OR found in rule 'Rv0035 OR Rv0099 OR Rv0119 OR Rv0166 OR Rv0214 OR Rv0270 OR Rv0275c OR Rv0404 OR Rv0551c OR Rv0852 OR Rv1058 OR Rv1185c OR Rv1193 OR Rv1206 OR Rv1345 OR Rv1427c OR Rv1521 OR Rv1529 OR Rv1750c OR Rv1925 OR Rv2187 OR Rv2505c OR Rv2590 OR Rv2930 OR Rv2941 OR Rv2948c OR Rv2950c OR Rv3089 OR Rv3506 OR Rv3513c OR Rv3515c OR Rv3561 OR Rv3801c OR Rv3826\n",
      "\t\t\t\t\t' for '<Reaction R540 at 0x7f83a24eb810>'\n",
      "cobra/core/reaction.py:401 \u001b[1;31mUserWarning\u001b[0m: uppercase AND/OR found in rule 'Rv0035 OR Rv0099 OR Rv0119 OR Rv0166 OR Rv0214 OR Rv0270 OR Rv0275c OR Rv0404 OR Rv0551c OR Rv0852 OR Rv1058 OR Rv1185c OR Rv1193 OR Rv1206 OR Rv1345 OR Rv1427c OR Rv1521 OR Rv1529 OR Rv1750c OR Rv1925 OR Rv2187 OR Rv2505c OR Rv2590 OR Rv2930 OR Rv2941 OR Rv2948c OR Rv2950c OR Rv3089 OR Rv3506 OR Rv3513c OR Rv3515c OR Rv3561 OR Rv3801c OR Rv3826\n",
      "\t\t\t\t\t' for '<Reaction R541 at 0x7f83a24eb890>'\n",
      "cobra/core/reaction.py:401 \u001b[1;31mUserWarning\u001b[0m: uppercase AND/OR found in rule 'Rv0035 OR Rv0099 OR Rv0119 OR Rv0166 OR Rv0214 OR Rv0270 OR Rv0275c OR Rv0404 OR Rv0551c OR Rv0852 OR Rv1058 OR Rv1185c OR Rv1193 OR Rv1206 OR Rv1345 OR Rv1427c OR Rv1521 OR Rv1529 OR Rv1750c OR Rv1925 OR Rv2187 OR Rv2505c OR Rv2590 OR Rv2930 OR Rv2941 OR Rv2948c OR Rv2950c OR Rv3089 OR Rv3506 OR Rv3513c OR Rv3515c OR Rv3561 OR Rv3801c OR Rv3826\n",
      "\t\t\t\t\t' for '<Reaction R542 at 0x7f83a24eb490>'\n",
      "cobra/core/reaction.py:401 \u001b[1;31mUserWarning\u001b[0m: uppercase AND/OR found in rule 'Rv0035 OR Rv0099 OR Rv0119 OR Rv0166 OR Rv0214 OR Rv0270 OR Rv0275c OR Rv0404 OR Rv0551c OR Rv0852 OR Rv1058 OR Rv1185c OR Rv1193 OR Rv1206 OR Rv1345 OR Rv1427c OR Rv1521 OR Rv1529 OR Rv1750c OR Rv1925 OR Rv2187 OR Rv2505c OR Rv2590 OR Rv2930 OR Rv2941 OR Rv2948c OR Rv2950c OR Rv3089 OR Rv3506 OR Rv3513c OR Rv3515c OR Rv3561 OR Rv3801c OR Rv3826\n",
      "\t\t\t\t\t' for '<Reaction R543 at 0x7f83a24eb8d0>'\n",
      "cobra/core/reaction.py:401 \u001b[1;31mUserWarning\u001b[0m: uppercase AND/OR found in rule 'Rv0035 OR Rv0099 OR Rv0119 OR Rv0166 OR Rv0214 OR Rv0270 OR Rv0275c OR Rv0404 OR Rv0551c OR Rv0852 OR Rv1058 OR Rv1185c OR Rv1193 OR Rv1206 OR Rv1345 OR Rv1427c OR Rv1521 OR Rv1529 OR Rv1750c OR Rv1925 OR Rv2187 OR Rv2505c OR Rv2590 OR Rv2930 OR Rv2941 OR Rv2948c OR Rv2950c OR Rv3089 OR Rv3506 OR Rv3513c OR Rv3515c OR Rv3561 OR Rv3801c OR Rv3826\n",
      "\t\t\t\t\t' for '<Reaction R544 at 0x7f83a24eb950>'\n",
      "cobra/core/reaction.py:401 \u001b[1;31mUserWarning\u001b[0m: uppercase AND/OR found in rule 'Rv0035 OR Rv0099 OR Rv0119 OR Rv0166 OR Rv0214 OR Rv0270 OR Rv0275c OR Rv0404 OR Rv0551c OR Rv0852 OR Rv1058 OR Rv1185c OR Rv1193 OR Rv1206 OR Rv1345 OR Rv1427c OR Rv1521 OR Rv1529 OR Rv1750c OR Rv1925 OR Rv2187 OR Rv2505c OR Rv2590 OR Rv2930 OR Rv2941 OR Rv2948c OR Rv2950c OR Rv3089 OR Rv3506 OR Rv3513c OR Rv3515c OR Rv3561 OR Rv3801c OR Rv3826\n",
      "\t\t\t\t\t' for '<Reaction R545 at 0x7f83a24eb390>'\n",
      "cobra/core/reaction.py:401 \u001b[1;31mUserWarning\u001b[0m: uppercase AND/OR found in rule 'Rv0035 OR Rv0099 OR Rv0119 OR Rv0166 OR Rv0214 OR Rv0270 OR Rv0275c OR Rv0404 OR Rv0551c OR Rv0852 OR Rv1058 OR Rv1185c OR Rv1193 OR Rv1206 OR Rv1345 OR Rv1427c OR Rv1521 OR Rv1529 OR Rv1750c OR Rv1925 OR Rv2187 OR Rv2505c OR Rv2590 OR Rv2930 OR Rv2941 OR Rv2948c OR Rv2950c OR Rv3089 OR Rv3506 OR Rv3513c OR Rv3515c OR Rv3561 OR Rv3801c OR Rv3826\n",
      "\t\t\t\t\t' for '<Reaction R546 at 0x7f83a24eb910>'\n",
      "cobra/core/reaction.py:401 \u001b[1;31mUserWarning\u001b[0m: uppercase AND/OR found in rule 'Rv0035 OR Rv0099 OR Rv0119 OR Rv0166 OR Rv0214 OR Rv0270 OR Rv0275c OR Rv0404 OR Rv0551c OR Rv0852 OR Rv1058 OR Rv1185c OR Rv1193 OR Rv1206 OR Rv1345 OR Rv1427c OR Rv1521 OR Rv1529 OR Rv1750c OR Rv1925 OR Rv2187 OR Rv2505c OR Rv2590 OR Rv2930 OR Rv2941 OR Rv2948c OR Rv2950c OR Rv3089 OR Rv3506 OR Rv3513c OR Rv3515c OR Rv3561 OR Rv3801c OR Rv3826\n",
      "\t\t\t\t\t' for '<Reaction R547 at 0x7f83a24eb990>'\n",
      "cobra/core/reaction.py:401 \u001b[1;31mUserWarning\u001b[0m: uppercase AND/OR found in rule 'Rv0035 OR Rv0099 OR Rv0119 OR Rv0166 OR Rv0214 OR Rv0270 OR Rv0275c OR Rv0404 OR Rv0551c OR Rv0852 OR Rv1058 OR Rv1185c OR Rv1193 OR Rv1206 OR Rv1345 OR Rv1427c OR Rv1521 OR Rv1529 OR Rv1750c OR Rv1925 OR Rv2187 OR Rv2505c OR Rv2590 OR Rv2930 OR Rv2941 OR Rv2948c OR Rv2950c OR Rv3089 OR Rv3506 OR Rv3513c OR Rv3515c OR Rv3561 OR Rv3801c OR Rv3826\n",
      "\t\t\t\t\t' for '<Reaction R548 at 0x7f83a24eb9d0>'\n",
      "cobra/core/reaction.py:401 \u001b[1;31mUserWarning\u001b[0m: uppercase AND/OR found in rule 'Rv0035 OR Rv0099 OR Rv0119 OR Rv0166 OR Rv0214 OR Rv0270 OR Rv0275c OR Rv0404 OR Rv0551c OR Rv0852 OR Rv1058 OR Rv1185c OR Rv1193 OR Rv1206 OR Rv1345 OR Rv1427c OR Rv1521 OR Rv1529 OR Rv1750c OR Rv1925 OR Rv2187 OR Rv2505c OR Rv2590 OR Rv2930 OR Rv2941 OR Rv2948c OR Rv2950c OR Rv3089 OR Rv3506 OR Rv3513c OR Rv3515c OR Rv3561 OR Rv3801c OR Rv3826\n",
      "\t\t\t\t\t' for '<Reaction R549 at 0x7f83a24eba90>'\n",
      "cobra/core/reaction.py:401 \u001b[1;31mUserWarning\u001b[0m: uppercase AND/OR found in rule 'Rv0035 OR Rv0099 OR Rv0119 OR Rv0166 OR Rv0214 OR Rv0270 OR Rv0275c OR Rv0404 OR Rv0551c OR Rv0852 OR Rv1058 OR Rv1185c OR Rv1193 OR Rv1206 OR Rv1345 OR Rv1427c OR Rv1521 OR Rv1529 OR Rv1750c OR Rv1925 OR Rv2187 OR Rv2505c OR Rv2590 OR Rv2930 OR Rv2941 OR Rv2948c OR Rv2950c OR Rv3089 OR Rv3506 OR Rv3513c OR Rv3515c OR Rv3561 OR Rv3801c OR Rv3826\n",
      "\t\t\t\t\t' for '<Reaction R550 at 0x7f83a24eba10>'\n",
      "cobra/core/reaction.py:401 \u001b[1;31mUserWarning\u001b[0m: uppercase AND/OR found in rule 'Rv0035 OR Rv0099 OR Rv0119 OR Rv0166 OR Rv0214 OR Rv0270 OR Rv0275c OR Rv0404 OR Rv0551c OR Rv0852 OR Rv1058 OR Rv1185c OR Rv1193 OR Rv1206 OR Rv1345 OR Rv1427c OR Rv1521 OR Rv1529 OR Rv1750c OR Rv1925 OR Rv2187 OR Rv2505c OR Rv2590 OR Rv2930 OR Rv2941 OR Rv2948c OR Rv2950c OR Rv3089 OR Rv3506 OR Rv3513c OR Rv3515c OR Rv3561 OR Rv3801c OR Rv3826\n",
      "\t\t\t\t\t' for '<Reaction R551 at 0x7f83a24ebb10>'\n",
      "cobra/core/reaction.py:401 \u001b[1;31mUserWarning\u001b[0m: uppercase AND/OR found in rule 'Rv0131c OR Rv0154c OR Rv0215c OR Rv0231 OR Rv0244c OR Rv0271c OR Rv0400c OR Rv0752c OR Rv0873 OR Rv0972c OR Rv0975c OR Rv1346 OR Rv1467c OR Rv1679 OR Rv1933c OR Rv1934c OR Rv2724c OR Rv2789c OR Rv3061c OR Rv3139 OR Rv3140 OR Rv3274c OR Rv3504 OR Rv3505 OR Rv3543c OR Rv3544c OR Rv3560c OR Rv3562 OR Rv3563 OR Rv3564 OR Rv3573c OR Rv3761c OR Rv3797 OR Rv0672 OR Rv2500c AND Rv0222 OR Rv0456c OR Rv0632c OR Rv0673 OR Rv0675 OR Rv0971c OR Rv1070c OR Rv1071c OR Rv1141c OR Rv1142c OR Rv1472 OR Rv1935c OR Rv2486 OR Rv2679 OR Rv2831 OR Rv3039c OR Rv3516 OR Rv3550 OR Rv3774 OR Rv0905 AND Rv0468 OR Rv1715 OR Rv1912c OR Rv3141 AND Rv0243 OR Rv1074c OR Rv3546 OR Rv3556c OR Rv1323 OR Rv0859\n",
      "\t\t\t\t\t' for '<Reaction R552 at 0x7f83a24eba50>'\n",
      "cobra/core/reaction.py:401 \u001b[1;31mUserWarning\u001b[0m: uppercase AND/OR found in rule 'Rv0131c OR Rv0154c OR Rv0215c OR Rv0231 OR Rv0244c OR Rv0271c OR Rv0400c OR Rv0752c OR Rv0873 OR Rv0972c OR Rv0975c OR Rv1346 OR Rv1467c OR Rv1679 OR Rv1933c OR Rv1934c OR Rv2724c OR Rv2789c OR Rv3061c OR Rv3139 OR Rv3140 OR Rv3274c OR Rv3504 OR Rv3505 OR Rv3543c OR Rv3544c OR Rv3560c OR Rv3562 OR Rv3563 OR Rv3564 OR Rv3573c OR Rv3761c OR Rv3797 OR Rv0672 OR Rv2500c AND Rv0222 OR Rv0456c OR Rv0632c OR Rv0673 OR Rv0675 OR Rv0971c OR Rv1070c OR Rv1071c OR Rv1141c OR Rv1142c OR Rv1472 OR Rv1935c OR Rv2486 OR Rv2679 OR Rv2831 OR Rv3039c OR Rv3516 OR Rv3550 OR Rv3774 OR Rv0905 AND Rv0468 OR Rv1715 OR Rv1912c OR Rv3141 AND Rv0243 OR Rv1074c OR Rv3546 OR Rv3556c OR Rv1323 OR Rv0859\n",
      "\t\t\t\t\t' for '<Reaction R553 at 0x7f83a24ebad0>'\n",
      "cobra/core/reaction.py:401 \u001b[1;31mUserWarning\u001b[0m: uppercase AND/OR found in rule 'Rv0131c OR Rv0154c OR Rv0215c OR Rv0231 OR Rv0244c OR Rv0271c OR Rv0400c OR Rv0752c OR Rv0873 OR Rv0972c OR Rv0975c OR Rv1346 OR Rv1467c OR Rv1679 OR Rv1933c OR Rv1934c OR Rv2724c OR Rv2789c OR Rv3061c OR Rv3139 OR Rv3140 OR Rv3274c OR Rv3504 OR Rv3505 OR Rv3543c OR Rv3544c OR Rv3560c OR Rv3562 OR Rv3563 OR Rv3564 OR Rv3573c OR Rv3761c OR Rv3797 OR Rv0672 OR Rv2500c AND Rv0222 OR Rv0456c OR Rv0632c OR Rv0673 OR Rv0675 OR Rv0971c OR Rv1070c OR Rv1071c OR Rv1141c OR Rv1142c OR Rv1472 OR Rv1935c OR Rv2486 OR Rv2679 OR Rv2831 OR Rv3039c OR Rv3516 OR Rv3550 OR Rv3774 OR Rv0905 AND Rv0468 OR Rv1715 OR Rv1912c OR Rv3141 AND Rv0243 OR Rv1074c OR Rv3546 OR Rv3556c OR Rv1323 OR Rv0859\n",
      "\t\t\t\t\t' for '<Reaction R554 at 0x7f83a24ebb50>'\n",
      "cobra/core/reaction.py:401 \u001b[1;31mUserWarning\u001b[0m: uppercase AND/OR found in rule 'Rv0131c OR Rv0154c OR Rv0215c OR Rv0231 OR Rv0244c OR Rv0271c OR Rv0400c OR Rv0752c OR Rv0873 OR Rv0972c OR Rv0975c OR Rv1346 OR Rv1467c OR Rv1679 OR Rv1933c OR Rv1934c OR Rv2724c OR Rv2789c OR Rv3061c OR Rv3139 OR Rv3140 OR Rv3274c OR Rv3504 OR Rv3505 OR Rv3543c OR Rv3544c OR Rv3560c OR Rv3562 OR Rv3563 OR Rv3564 OR Rv3573c OR Rv3761c OR Rv3797 OR Rv0672 OR Rv2500c AND Rv0222 OR Rv0456c OR Rv0632c OR Rv0673 OR Rv0675 OR Rv0971c OR Rv1070c OR Rv1071c OR Rv1141c OR Rv1142c OR Rv1472 OR Rv1935c OR Rv2486 OR Rv2679 OR Rv2831 OR Rv3039c OR Rv3516 OR Rv3550 OR Rv3774 OR Rv0905 AND Rv0468 OR Rv1715 OR Rv1912c OR Rv3141 AND Rv0243 OR Rv1074c OR Rv3546 OR Rv3556c OR Rv1323 OR Rv0859\n",
      "\t\t\t\t\t' for '<Reaction R555 at 0x7f83a24eb850>'\n",
      "cobra/core/reaction.py:401 \u001b[1;31mUserWarning\u001b[0m: uppercase AND/OR found in rule 'Rv0131c OR Rv0154c OR Rv0215c OR Rv0231 OR Rv0244c OR Rv0271c OR Rv0400c OR Rv0752c OR Rv0873 OR Rv0972c OR Rv0975c OR Rv1346 OR Rv1467c OR Rv1679 OR Rv1933c OR Rv1934c OR Rv2724c OR Rv2789c OR Rv3061c OR Rv3139 OR Rv3140 OR Rv3274c OR Rv3504 OR Rv3505 OR Rv3543c OR Rv3544c OR Rv3560c OR Rv3562 OR Rv3563 OR Rv3564 OR Rv3573c OR Rv3761c OR Rv3797 OR Rv0672 OR Rv2500c AND Rv0222 OR Rv0456c OR Rv0632c OR Rv0673 OR Rv0675 OR Rv0971c OR Rv1070c OR Rv1071c OR Rv1141c OR Rv1142c OR Rv1472 OR Rv1935c OR Rv2486 OR Rv2679 OR Rv2831 OR Rv3039c OR Rv3516 OR Rv3550 OR Rv3774 OR Rv0905 AND Rv0468 OR Rv1715 OR Rv1912c OR Rv3141 AND Rv0243 OR Rv1074c OR Rv3546 OR Rv3556c OR Rv1323 OR Rv0859\n",
      "\t\t\t\t\t' for '<Reaction R556 at 0x7f83a24ebc10>'\n",
      "cobra/core/reaction.py:401 \u001b[1;31mUserWarning\u001b[0m: uppercase AND/OR found in rule 'Rv0131c OR Rv0154c OR Rv0215c OR Rv0231 OR Rv0244c OR Rv0271c OR Rv0400c OR Rv0752c OR Rv0873 OR Rv0972c OR Rv0975c OR Rv1346 OR Rv1467c OR Rv1679 OR Rv1933c OR Rv1934c OR Rv2724c OR Rv2789c OR Rv3061c OR Rv3139 OR Rv3140 OR Rv3274c OR Rv3504 OR Rv3505 OR Rv3543c OR Rv3544c OR Rv3560c OR Rv3562 OR Rv3563 OR Rv3564 OR Rv3573c OR Rv3761c OR Rv3797 OR Rv0672 OR Rv2500c AND Rv0222 OR Rv0456c OR Rv0632c OR Rv0673 OR Rv0675 OR Rv0971c OR Rv1070c OR Rv1071c OR Rv1141c OR Rv1142c OR Rv1472 OR Rv1935c OR Rv2486 OR Rv2679 OR Rv2831 OR Rv3039c OR Rv3516 OR Rv3550 OR Rv3774 OR Rv0905 AND Rv0468 OR Rv1715 OR Rv1912c OR Rv3141 AND Rv0243 OR Rv1074c OR Rv3546 OR Rv3556c OR Rv1323 OR Rv0859\n",
      "\t\t\t\t\t' for '<Reaction R557 at 0x7f83a24ebb90>'\n",
      "cobra/core/reaction.py:401 \u001b[1;31mUserWarning\u001b[0m: uppercase AND/OR found in rule 'Rv0131c OR Rv0154c OR Rv0215c OR Rv0231 OR Rv0244c OR Rv0271c OR Rv0400c OR Rv0752c OR Rv0873 OR Rv0972c OR Rv0975c OR Rv1346 OR Rv1467c OR Rv1679 OR Rv1933c OR Rv1934c OR Rv2724c OR Rv2789c OR Rv3061c OR Rv3139 OR Rv3140 OR Rv3274c OR Rv3504 OR Rv3505 OR Rv3543c OR Rv3544c OR Rv3560c OR Rv3562 OR Rv3563 OR Rv3564 OR Rv3573c OR Rv3761c OR Rv3797 OR Rv0672 OR Rv2500c AND Rv0222 OR Rv0456c OR Rv0632c OR Rv0673 OR Rv0675 OR Rv0971c OR Rv1070c OR Rv1071c OR Rv1141c OR Rv1142c OR Rv1472 OR Rv1935c OR Rv2486 OR Rv2679 OR Rv2831 OR Rv3039c OR Rv3516 OR Rv3550 OR Rv3774 OR Rv0905 AND Rv0468 OR Rv1715 OR Rv1912c OR Rv3141 AND Rv0243 OR Rv1074c OR Rv3546 OR Rv3556c OR Rv1323 OR Rv0859\n",
      "\t\t\t\t\t' for '<Reaction R558 at 0x7f83a24ebcd0>'\n",
      "cobra/core/reaction.py:401 \u001b[1;31mUserWarning\u001b[0m: uppercase AND/OR found in rule 'Rv0131c OR Rv0154c OR Rv0215c OR Rv0231 OR Rv0244c OR Rv0271c OR Rv0400c OR Rv0752c OR Rv0873 OR Rv0972c OR Rv0975c OR Rv1346 OR Rv1467c OR Rv1679 OR Rv1933c OR Rv1934c OR Rv2724c OR Rv2789c OR Rv3061c OR Rv3139 OR Rv3140 OR Rv3274c OR Rv3504 OR Rv3505 OR Rv3543c OR Rv3544c OR Rv3560c OR Rv3562 OR Rv3563 OR Rv3564 OR Rv3573c OR Rv3761c OR Rv3797 OR Rv0672 OR Rv2500c AND Rv0222 OR Rv0456c OR Rv0632c OR Rv0673 OR Rv0675 OR Rv0971c OR Rv1070c OR Rv1071c OR Rv1141c OR Rv1142c OR Rv1472 OR Rv1935c OR Rv2486 OR Rv2679 OR Rv2831 OR Rv3039c OR Rv3516 OR Rv3550 OR Rv3774 OR Rv0905 AND Rv0468 OR Rv1715 OR Rv1912c OR Rv3141 AND Rv0243 OR Rv1074c OR Rv3546 OR Rv3556c OR Rv1323 OR Rv0859\n",
      "\t\t\t\t\t' for '<Reaction R559 at 0x7f83a24ebc90>'\n",
      "cobra/core/reaction.py:401 \u001b[1;31mUserWarning\u001b[0m: uppercase AND/OR found in rule 'Rv0131c OR Rv0154c OR Rv0215c OR Rv0231 OR Rv0244c OR Rv0271c OR Rv0400c OR Rv0752c OR Rv0873 OR Rv0972c OR Rv0975c OR Rv1346 OR Rv1467c OR Rv1679 OR Rv1933c OR Rv1934c OR Rv2724c OR Rv2789c OR Rv3061c OR Rv3139 OR Rv3140 OR Rv3274c OR Rv3504 OR Rv3505 OR Rv3543c OR Rv3544c OR Rv3560c OR Rv3562 OR Rv3563 OR Rv3564 OR Rv3573c OR Rv3761c OR Rv3797 OR Rv0672 OR Rv2500c AND Rv0222 OR Rv0456c OR Rv0632c OR Rv0673 OR Rv0675 OR Rv0971c OR Rv1070c OR Rv1071c OR Rv1141c OR Rv1142c OR Rv1472 OR Rv1935c OR Rv2486 OR Rv2679 OR Rv2831 OR Rv3039c OR Rv3516 OR Rv3550 OR Rv3774 OR Rv0905 AND Rv0468 OR Rv1715 OR Rv1912c OR Rv3141 AND Rv0243 OR Rv1074c OR Rv3546 OR Rv3556c OR Rv1323 OR Rv0859\n",
      "\t\t\t\t\t' for '<Reaction R560 at 0x7f83a24ebc50>'\n",
      "cobra/core/reaction.py:401 \u001b[1;31mUserWarning\u001b[0m: uppercase AND/OR found in rule 'Rv0131c OR Rv0154c OR Rv0215c OR Rv0231 OR Rv0244c OR Rv0271c OR Rv0400c OR Rv0752c OR Rv0873 OR Rv0972c OR Rv0975c OR Rv1346 OR Rv1467c OR Rv1679 OR Rv1933c OR Rv1934c OR Rv2724c OR Rv2789c OR Rv3061c OR Rv3139 OR Rv3140 OR Rv3274c OR Rv3504 OR Rv3505 OR Rv3543c OR Rv3544c OR Rv3560c OR Rv3562 OR Rv3563 OR Rv3564 OR Rv3573c OR Rv3761c OR Rv3797 OR Rv0672 OR Rv2500c AND Rv0222 OR Rv0456c OR Rv0632c OR Rv0673 OR Rv0675 OR Rv0971c OR Rv1070c OR Rv1071c OR Rv1141c OR Rv1142c OR Rv1472 OR Rv1935c OR Rv2486 OR Rv2679 OR Rv2831 OR Rv3039c OR Rv3516 OR Rv3550 OR Rv3774 OR Rv0905 AND Rv0468 OR Rv1715 OR Rv1912c OR Rv3141 AND Rv0243 OR Rv1074c OR Rv3546 OR Rv3556c OR Rv1323 OR Rv0859\n",
      "\t\t\t\t\t' for '<Reaction R561 at 0x7f83a24ebd10>'\n",
      "cobra/core/reaction.py:401 \u001b[1;31mUserWarning\u001b[0m: uppercase AND/OR found in rule 'Rv0131c OR Rv0154c OR Rv0215c OR Rv0231 OR Rv0244c OR Rv0271c OR Rv0400c OR Rv0752c OR Rv0873 OR Rv0972c OR Rv0975c OR Rv1346 OR Rv1467c OR Rv1679 OR Rv1933c OR Rv1934c OR Rv2724c OR Rv2789c OR Rv3061c OR Rv3139 OR Rv3140 OR Rv3274c OR Rv3504 OR Rv3505 OR Rv3543c OR Rv3544c OR Rv3560c OR Rv3562 OR Rv3563 OR Rv3564 OR Rv3573c OR Rv3761c OR Rv3797 OR Rv0672 OR Rv2500c AND Rv0222 OR Rv0456c OR Rv0632c OR Rv0673 OR Rv0675 OR Rv0971c OR Rv1070c OR Rv1071c OR Rv1141c OR Rv1142c OR Rv1472 OR Rv1935c OR Rv2486 OR Rv2679 OR Rv2831 OR Rv3039c OR Rv3516 OR Rv3550 OR Rv3774 OR Rv0905 AND Rv0468 OR Rv1715 OR Rv1912c OR Rv3141 AND Rv0243 OR Rv1074c OR Rv3546 OR Rv3556c OR Rv1323 OR Rv0859\n",
      "\t\t\t\t\t' for '<Reaction R562 at 0x7f83a24ebdd0>'\n",
      "cobra/core/reaction.py:401 \u001b[1;31mUserWarning\u001b[0m: uppercase AND/OR found in rule 'Rv0131c OR Rv0154c OR Rv0215c OR Rv0231 OR Rv0244c OR Rv0271c OR Rv0400c OR Rv0752c OR Rv0873 OR Rv0972c OR Rv0975c OR Rv1346 OR Rv1467c OR Rv1679 OR Rv1933c OR Rv1934c OR Rv2724c OR Rv2789c OR Rv3061c OR Rv3139 OR Rv3140 OR Rv3274c OR Rv3504 OR Rv3505 OR Rv3543c OR Rv3544c OR Rv3560c OR Rv3562 OR Rv3563 OR Rv3564 OR Rv3573c OR Rv3761c OR Rv3797 OR Rv0672 OR Rv2500c AND Rv0222 OR Rv0456c OR Rv0632c OR Rv0673 OR Rv0675 OR Rv0971c OR Rv1070c OR Rv1071c OR Rv1141c OR Rv1142c OR Rv1472 OR Rv1935c OR Rv2486 OR Rv2679 OR Rv2831 OR Rv3039c OR Rv3516 OR Rv3550 OR Rv3774 OR Rv0905 AND Rv0468 OR Rv1715 OR Rv1912c OR Rv3141 AND Rv0243 OR Rv1074c OR Rv3546 OR Rv3556c OR Rv1323 OR Rv0859\n",
      "\t\t\t\t\t' for '<Reaction R563 at 0x7f83a24ebe50>'\n",
      "cobra/core/reaction.py:401 \u001b[1;31mUserWarning\u001b[0m: uppercase AND/OR found in rule 'Rv0131c OR Rv0154c OR Rv0215c OR Rv0231 OR Rv0244c OR Rv0271c OR Rv0400c OR Rv0752c OR Rv0873 OR Rv0972c OR Rv0975c OR Rv1346 OR Rv1467c OR Rv1679 OR Rv1933c OR Rv1934c OR Rv2724c OR Rv2789c OR Rv3061c OR Rv3139 OR Rv3140 OR Rv3274c OR Rv3504 OR Rv3505 OR Rv3543c OR Rv3544c OR Rv3560c OR Rv3562 OR Rv3563 OR Rv3564 OR Rv3573c OR Rv3761c OR Rv3797 OR Rv0672 OR Rv2500c AND Rv0222 OR Rv0456c OR Rv0632c OR Rv0673 OR Rv0675 OR Rv0971c OR Rv1070c OR Rv1071c OR Rv1141c OR Rv1142c OR Rv1472 OR Rv1935c OR Rv2486 OR Rv2679 OR Rv2831 OR Rv3039c OR Rv3516 OR Rv3550 OR Rv3774 OR Rv0905 AND Rv0468 OR Rv1715 OR Rv1912c OR Rv3141 AND Rv0243 OR Rv1074c OR Rv3546 OR Rv3556c OR Rv1323 OR Rv0859\n",
      "\t\t\t\t\t' for '<Reaction R564 at 0x7f83a24ebbd0>'\n",
      "cobra/core/reaction.py:401 \u001b[1;31mUserWarning\u001b[0m: uppercase AND/OR found in rule 'Rv0131c OR Rv0154c OR Rv0215c OR Rv0231 OR Rv0244c OR Rv0271c OR Rv0400c OR Rv0752c OR Rv0873 OR Rv0972c OR Rv0975c OR Rv1346 OR Rv1467c OR Rv1679 OR Rv1933c OR Rv1934c OR Rv2724c OR Rv2789c OR Rv3061c OR Rv3139 OR Rv3140 OR Rv3274c OR Rv3504 OR Rv3505 OR Rv3543c OR Rv3544c OR Rv3560c OR Rv3562 OR Rv3563 OR Rv3564 OR Rv3573c OR Rv3761c OR Rv3797 OR Rv0672 OR Rv2500c AND Rv0222 OR Rv0456c OR Rv0632c OR Rv0673 OR Rv0675 OR Rv0971c OR Rv1070c OR Rv1071c OR Rv1141c OR Rv1142c OR Rv1472 OR Rv1935c OR Rv2486 OR Rv2679 OR Rv2831 OR Rv3039c OR Rv3516 OR Rv3550 OR Rv3774 OR Rv0905 AND Rv0468 OR Rv1715 OR Rv1912c OR Rv3141 AND Rv0243 OR Rv1074c OR Rv3546 OR Rv3556c OR Rv1323 OR Rv0859\n",
      "\t\t\t\t\t' for '<Reaction R565 at 0x7f83a24ebd90>'\n",
      "cobra/core/reaction.py:401 \u001b[1;31mUserWarning\u001b[0m: uppercase AND/OR found in rule 'Rv0131c OR Rv0154c OR Rv0215c OR Rv0231 OR Rv0244c OR Rv0271c OR Rv0400c OR Rv0752c OR Rv0873 OR Rv0972c OR Rv0975c OR Rv1346 OR Rv1467c OR Rv1679 OR Rv1933c OR Rv1934c OR Rv2724c OR Rv2789c OR Rv3061c OR Rv3139 OR Rv3140 OR Rv3274c OR Rv3504 OR Rv3505 OR Rv3543c OR Rv3544c OR Rv3560c OR Rv3562 OR Rv3563 OR Rv3564 OR Rv3573c OR Rv3761c OR Rv3797 OR Rv0672 OR Rv2500c AND Rv0222 OR Rv0456c OR Rv0632c OR Rv0673 OR Rv0675 OR Rv0971c OR Rv1070c OR Rv1071c OR Rv1141c OR Rv1142c OR Rv1472 OR Rv1935c OR Rv2486 OR Rv2679 OR Rv2831 OR Rv3039c OR Rv3516 OR Rv3550 OR Rv3774 OR Rv0905 AND Rv0468 OR Rv1715 OR Rv1912c OR Rv3141 AND Rv0243 OR Rv1074c OR Rv3546 OR Rv3556c OR Rv1323 OR Rv0859\n",
      "\t\t\t\t\t' for '<Reaction R566 at 0x7f83a24ebe90>'\n",
      "cobra/core/reaction.py:401 \u001b[1;31mUserWarning\u001b[0m: uppercase AND/OR found in rule 'Rv0131c OR Rv0154c OR Rv0215c OR Rv0231 OR Rv0244c OR Rv0271c OR Rv0400c OR Rv0752c OR Rv0873 OR Rv0972c OR Rv0975c OR Rv1346 OR Rv1467c OR Rv1679 OR Rv1933c OR Rv1934c OR Rv2724c OR Rv2789c OR Rv3061c OR Rv3139 OR Rv3140 OR Rv3274c OR Rv3504 OR Rv3505 OR Rv3543c OR Rv3544c OR Rv3560c OR Rv3562 OR Rv3563 OR Rv3564 OR Rv3573c OR Rv3761c OR Rv3797 OR Rv0672 OR Rv2500c AND Rv0222 OR Rv0456c OR Rv0632c OR Rv0673 OR Rv0675 OR Rv0971c OR Rv1070c OR Rv1071c OR Rv1141c OR Rv1142c OR Rv1472 OR Rv1935c OR Rv2486 OR Rv2679 OR Rv2831 OR Rv3039c OR Rv3516 OR Rv3550 OR Rv3774 OR Rv0905 AND Rv0468 OR Rv1715 OR Rv1912c OR Rv3141 AND Rv0243 OR Rv1074c OR Rv3546 OR Rv3556c OR Rv1323 OR Rv0859\n",
      "\t\t\t\t\t' for '<Reaction R567 at 0x7f83a24ebed0>'\n",
      "cobra/core/reaction.py:401 \u001b[1;31mUserWarning\u001b[0m: uppercase AND/OR found in rule 'Rv0131c OR Rv0154c OR Rv0215c OR Rv0231 OR Rv0244c OR Rv0271c OR Rv0400c OR Rv0752c OR Rv0873 OR Rv0972c OR Rv0975c OR Rv1346 OR Rv1467c OR Rv1679 OR Rv1933c OR Rv1934c OR Rv2724c OR Rv2789c OR Rv3061c OR Rv3139 OR Rv3140 OR Rv3274c OR Rv3504 OR Rv3505 OR Rv3543c OR Rv3544c OR Rv3560c OR Rv3562 OR Rv3563 OR Rv3564 OR Rv3573c OR Rv3761c OR Rv3797 OR Rv0672 OR Rv2500c AND Rv0222 OR Rv0456c OR Rv0632c OR Rv0673 OR Rv0675 OR Rv0971c OR Rv1070c OR Rv1071c OR Rv1141c OR Rv1142c OR Rv1472 OR Rv1935c OR Rv2486 OR Rv2679 OR Rv2831 OR Rv3039c OR Rv3516 OR Rv3550 OR Rv3774 OR Rv0905 AND Rv0468 OR Rv1715 OR Rv1912c OR Rv3141 AND Rv0243 OR Rv1074c OR Rv3546 OR Rv3556c OR Rv1323 OR Rv0859\n",
      "\t\t\t\t\t' for '<Reaction R568 at 0x7f83a24ebe10>'\n",
      "cobra/core/reaction.py:401 \u001b[1;31mUserWarning\u001b[0m: uppercase AND/OR found in rule 'Rv0131c OR Rv0154c OR Rv0215c OR Rv0231 OR Rv0244c OR Rv0271c OR Rv0400c OR Rv0752c OR Rv0873 OR Rv0972c OR Rv0975c OR Rv1346 OR Rv1467c OR Rv1679 OR Rv1933c OR Rv1934c OR Rv2724c OR Rv2789c OR Rv3061c OR Rv3139 OR Rv3140 OR Rv3274c OR Rv3504 OR Rv3505 OR Rv3543c OR Rv3544c OR Rv3560c OR Rv3562 OR Rv3563 OR Rv3564 OR Rv3573c OR Rv3761c OR Rv3797 OR Rv0672 OR Rv2500c AND Rv0222 OR Rv0456c OR Rv0632c OR Rv0673 OR Rv0675 OR Rv0971c OR Rv1070c OR Rv1071c OR Rv1141c OR Rv1142c OR Rv1472 OR Rv1935c OR Rv2486 OR Rv2679 OR Rv2831 OR Rv3039c OR Rv3516 OR Rv3550 OR Rv3774 OR Rv0905 AND Rv0468 OR Rv1715 OR Rv1912c OR Rv3141 AND Rv0243 OR Rv1074c OR Rv3546 OR Rv3556c OR Rv1323 OR Rv0859\n",
      "\t\t\t\t\t' for '<Reaction R569 at 0x7f83a24ebf10>'\n",
      "cobra/core/reaction.py:401 \u001b[1;31mUserWarning\u001b[0m: uppercase AND/OR found in rule 'Rv0131c OR Rv0154c OR Rv0215c OR Rv0231 OR Rv0244c OR Rv0271c OR Rv0400c OR Rv0752c OR Rv0873 OR Rv0972c OR Rv0975c OR Rv1346 OR Rv1467c OR Rv1679 OR Rv1933c OR Rv1934c OR Rv2724c OR Rv2789c OR Rv3061c OR Rv3139 OR Rv3140 OR Rv3274c OR Rv3504 OR Rv3505 OR Rv3543c OR Rv3544c OR Rv3560c OR Rv3562 OR Rv3563 OR Rv3564 OR Rv3573c OR Rv3761c OR Rv3797 OR Rv0672 OR Rv2500c AND Rv0222 OR Rv0456c OR Rv0632c OR Rv0673 OR Rv0675 OR Rv0971c OR Rv1070c OR Rv1071c OR Rv1141c OR Rv1142c OR Rv1472 OR Rv1935c OR Rv2486 OR Rv2679 OR Rv2831 OR Rv3039c OR Rv3516 OR Rv3550 OR Rv3774 OR Rv0905 AND Rv0468 OR Rv1715 OR Rv1912c OR Rv3141 AND Rv0243 OR Rv1074c OR Rv3546 OR Rv3556c OR Rv1323 OR Rv0859\n",
      "\t\t\t\t\t' for '<Reaction R570 at 0x7f83a24ebf50>'\n",
      "cobra/core/reaction.py:401 \u001b[1;31mUserWarning\u001b[0m: uppercase AND/OR found in rule 'Rv0183 OR Rv2854\n",
      "\t\t\t\t\t' for '<Reaction R574 at 0x7f83a1aa5b50>'\n",
      "cobra/core/reaction.py:401 \u001b[1;31mUserWarning\u001b[0m: uppercase AND/OR found in rule 'Rv0131c OR Rv0154c OR Rv0215c OR Rv0231 OR Rv0244c OR Rv0271c OR Rv0400c OR Rv0752c OR Rv0873 OR Rv0972c OR Rv0975c OR Rv1346 OR Rv1467c OR Rv1679 OR Rv1933c OR Rv1934c OR Rv2724c OR Rv2789c OR Rv3061c OR Rv3139 OR Rv3140 OR Rv3274c OR Rv3504 OR Rv3505 OR Rv3543c OR Rv3544c OR Rv3560c OR Rv3562 OR Rv3563 OR Rv3564 OR Rv3573c OR Rv3761c OR Rv3797 OR Rv0672 OR Rv2500c AND Rv0222 OR Rv0456c OR Rv0632c OR Rv0673 OR Rv0675 OR Rv0971c OR Rv1070c OR Rv1071c OR Rv1141c OR Rv1142c OR Rv1472 OR Rv1935c OR Rv2486 OR Rv2679 OR Rv2831 OR Rv3039c OR Rv3516 OR Rv3550 OR Rv3774 OR Rv0905 AND Rv0468 OR Rv1715 OR Rv1912c OR Rv3141 AND Rv0243 OR Rv1074c OR Rv3546 OR Rv3556c OR Rv1323 OR Rv0859\n",
      "\t\t\t\t\t' for '<Reaction R575 at 0x7f83a1aa5b90>'\n",
      "cobra/core/reaction.py:401 \u001b[1;31mUserWarning\u001b[0m: uppercase AND/OR found in rule 'Rv0131c OR Rv0154c OR Rv0215c OR Rv0231 OR Rv0244c OR Rv0271c OR Rv0400c OR Rv0752c OR Rv0873 OR Rv0972c OR Rv0975c OR Rv1346 OR Rv1467c OR Rv1679 OR Rv1933c OR Rv1934c OR Rv2724c OR Rv2789c OR Rv3061c OR Rv3139 OR Rv3140 OR Rv3274c OR Rv3504 OR Rv3505 OR Rv3543c OR Rv3544c OR Rv3560c OR Rv3562 OR Rv3563 OR Rv3564 OR Rv3573c OR Rv3761c OR Rv3797 OR Rv0672 OR Rv2500c AND Rv0222 OR Rv0456c OR Rv0632c OR Rv0673 OR Rv0675 OR Rv0971c OR Rv1070c OR Rv1071c OR Rv1141c OR Rv1142c OR Rv1472 OR Rv1935c OR Rv2486 OR Rv2679 OR Rv2831 OR Rv3039c OR Rv3516 OR Rv3550 OR Rv3774 OR Rv0905 AND Rv0468 OR Rv1715 OR Rv1912c OR Rv3141 AND Rv0243 OR Rv1074c OR Rv3546 OR Rv3556c OR Rv1323 OR Rv0859\n",
      "\t\t\t\t\t' for '<Reaction R576 at 0x7f83a24dd0d0>'\n",
      "cobra/core/reaction.py:401 \u001b[1;31mUserWarning\u001b[0m: uppercase AND/OR found in rule 'Rv0131c OR Rv0154c OR Rv0215c OR Rv0231 OR Rv0244c OR Rv0271c OR Rv0400c OR Rv0752c OR Rv0873 OR Rv0972c OR Rv0975c OR Rv1346 OR Rv1467c OR Rv1679 OR Rv1933c OR Rv1934c OR Rv2724c OR Rv2789c OR Rv3061c OR Rv3139 OR Rv3140 OR Rv3274c OR Rv3504 OR Rv3505 OR Rv3543c OR Rv3544c OR Rv3560c OR Rv3562 OR Rv3563 OR Rv3564 OR Rv3573c OR Rv3761c OR Rv3797 OR Rv0672 OR Rv2500c AND Rv0222 OR Rv0456c OR Rv0632c OR Rv0673 OR Rv0675 OR Rv0971c OR Rv1070c OR Rv1071c OR Rv1141c OR Rv1142c OR Rv1472 OR Rv1935c OR Rv2486 OR Rv2679 OR Rv2831 OR Rv3039c OR Rv3516 OR Rv3550 OR Rv3774 OR Rv0905 AND Rv0468 OR Rv1715 OR Rv1912c OR Rv3141 AND Rv0243 OR Rv1074c OR Rv3546 OR Rv3556c OR Rv1323 OR Rv0859\n",
      "\t\t\t\t\t' for '<Reaction R577 at 0x7f83a1ab8490>'\n",
      "cobra/core/reaction.py:401 \u001b[1;31mUserWarning\u001b[0m: uppercase AND/OR found in rule 'Rv0131c OR Rv0154c OR Rv0215c OR Rv0231 OR Rv0244c OR Rv0271c OR Rv0400c OR Rv0752c OR Rv0873 OR Rv0972c OR Rv0975c OR Rv1346 OR Rv1467c OR Rv1679 OR Rv1933c OR Rv1934c OR Rv2724c OR Rv2789c OR Rv3061c OR Rv3139 OR Rv3140 OR Rv3274c OR Rv3504 OR Rv3505 OR Rv3543c OR Rv3544c OR Rv3560c OR Rv3562 OR Rv3563 OR Rv3564 OR Rv3573c OR Rv3761c OR Rv3797 OR Rv0672 OR Rv2500c AND Rv0222 OR Rv0456c OR Rv0632c OR Rv0673 OR Rv0675 OR Rv0971c OR Rv1070c OR Rv1071c OR Rv1141c OR Rv1142c OR Rv1472 OR Rv1935c OR Rv2486 OR Rv2679 OR Rv2831 OR Rv3039c OR Rv3516 OR Rv3550 OR Rv3774 OR Rv0905 AND Rv0468 OR Rv1715 OR Rv1912c OR Rv3141 AND Rv0243 OR Rv1074c OR Rv3546 OR Rv3556c OR Rv1323 OR Rv0859\n",
      "\t\t\t\t\t' for '<Reaction R578 at 0x7f83a1ab8d50>'\n",
      "cobra/core/reaction.py:401 \u001b[1;31mUserWarning\u001b[0m: uppercase AND/OR found in rule 'Rv0131c OR Rv0154c OR Rv0215c OR Rv0231 OR Rv0244c OR Rv0271c OR Rv0400c OR Rv0752c OR Rv0873 OR Rv0972c OR Rv0975c OR Rv1346 OR Rv1467c OR Rv1679 OR Rv1933c OR Rv1934c OR Rv2724c OR Rv2789c OR Rv3061c OR Rv3139 OR Rv3140 OR Rv3274c OR Rv3504 OR Rv3505 OR Rv3543c OR Rv3544c OR Rv3560c OR Rv3562 OR Rv3563 OR Rv3564 OR Rv3573c OR Rv3761c OR Rv3797 OR Rv0672 OR Rv2500c AND Rv0222 OR Rv0456c OR Rv0632c OR Rv0673 OR Rv0675 OR Rv0971c OR Rv1070c OR Rv1071c OR Rv1141c OR Rv1142c OR Rv1472 OR Rv1935c OR Rv2486 OR Rv2679 OR Rv2831 OR Rv3039c OR Rv3516 OR Rv3550 OR Rv3774 OR Rv0905 AND Rv0468 OR Rv1715 OR Rv1912c OR Rv3141 AND Rv0243 OR Rv1074c OR Rv3546 OR Rv3556c OR Rv1323 OR Rv0859\n",
      "\t\t\t\t\t' for '<Reaction R579 at 0x7f83a24dd990>'\n",
      "cobra/core/reaction.py:401 \u001b[1;31mUserWarning\u001b[0m: uppercase AND/OR found in rule 'Rv0131c OR Rv0154c OR Rv0215c OR Rv0231 OR Rv0244c OR Rv0271c OR Rv0400c OR Rv0752c OR Rv0873 OR Rv0972c OR Rv0975c OR Rv1346 OR Rv1467c OR Rv1679 OR Rv1933c OR Rv1934c OR Rv2724c OR Rv2789c OR Rv3061c OR Rv3139 OR Rv3140 OR Rv3274c OR Rv3504 OR Rv3505 OR Rv3543c OR Rv3544c OR Rv3560c OR Rv3562 OR Rv3563 OR Rv3564 OR Rv3573c OR Rv3761c OR Rv3797 OR Rv0672 OR Rv2500c AND Rv0222 OR Rv0456c OR Rv0632c OR Rv0673 OR Rv0675 OR Rv0971c OR Rv1070c OR Rv1071c OR Rv1141c OR Rv1142c OR Rv1472 OR Rv1935c OR Rv2486 OR Rv2679 OR Rv2831 OR Rv3039c OR Rv3516 OR Rv3550 OR Rv3774 OR Rv0905 AND Rv0468 OR Rv1715 OR Rv1912c OR Rv3141 AND Rv0243 OR Rv1074c OR Rv3546 OR Rv3556c OR Rv1323 OR Rv0859\n",
      "\t\t\t\t\t' for '<Reaction R580 at 0x7f83a25492d0>'\n",
      "cobra/core/reaction.py:401 \u001b[1;31mUserWarning\u001b[0m: uppercase AND/OR found in rule 'Rv0131c OR Rv0154c OR Rv0215c OR Rv0231 OR Rv0244c OR Rv0271c OR Rv0400c OR Rv0752c OR Rv0873 OR Rv0972c OR Rv0975c OR Rv1346 OR Rv1467c OR Rv1679 OR Rv1933c OR Rv1934c OR Rv2724c OR Rv2789c OR Rv3061c OR Rv3139 OR Rv3140 OR Rv3274c OR Rv3504 OR Rv3505 OR Rv3543c OR Rv3544c OR Rv3560c OR Rv3562 OR Rv3563 OR Rv3564 OR Rv3573c OR Rv3761c OR Rv3797 OR Rv0672 OR Rv2500c AND Rv0222 OR Rv0456c OR Rv0632c OR Rv0673 OR Rv0675 OR Rv0971c OR Rv1070c OR Rv1071c OR Rv1141c OR Rv1142c OR Rv1472 OR Rv1935c OR Rv2486 OR Rv2679 OR Rv2831 OR Rv3039c OR Rv3516 OR Rv3550 OR Rv3774 OR Rv0905 AND Rv0468 OR Rv1715 OR Rv1912c OR Rv3141 AND Rv0243 OR Rv1074c OR Rv3546 OR Rv3556c OR Rv1323 OR Rv0859\n",
      "\t\t\t\t\t' for '<Reaction R581 at 0x7f83a23e70d0>'\n",
      "cobra/core/reaction.py:401 \u001b[1;31mUserWarning\u001b[0m: uppercase AND/OR found in rule 'Rv0131c OR Rv0154c OR Rv0215c OR Rv0231 OR Rv0244c OR Rv0271c OR Rv0400c OR Rv0752c OR Rv0873 OR Rv0972c OR Rv0975c OR Rv1346 OR Rv1467c OR Rv1679 OR Rv1933c OR Rv1934c OR Rv2724c OR Rv2789c OR Rv3061c OR Rv3139 OR Rv3140 OR Rv3274c OR Rv3504 OR Rv3505 OR Rv3543c OR Rv3544c OR Rv3560c OR Rv3562 OR Rv3563 OR Rv3564 OR Rv3573c OR Rv3761c OR Rv3797 OR Rv0672 OR Rv2500c AND Rv0222 OR Rv0456c OR Rv0632c OR Rv0673 OR Rv0675 OR Rv0971c OR Rv1070c OR Rv1071c OR Rv1141c OR Rv1142c OR Rv1472 OR Rv1935c OR Rv2486 OR Rv2679 OR Rv2831 OR Rv3039c OR Rv3516 OR Rv3550 OR Rv3774 OR Rv0905 AND Rv0468 OR Rv1715 OR Rv1912c OR Rv3141 AND Rv0243 OR Rv1074c OR Rv3546 OR Rv3556c OR Rv1323 OR Rv0859\n",
      "\t\t\t\t\t' for '<Reaction R582 at 0x7f83a23d6650>'\n",
      "cobra/core/reaction.py:401 \u001b[1;31mUserWarning\u001b[0m: uppercase AND/OR found in rule 'Rv2482c OR Rv1551\n",
      "\t\t\t\t\t' for '<Reaction R583 at 0x7f83a23d6f10>'\n",
      "cobra/core/reaction.py:401 \u001b[1;31mUserWarning\u001b[0m: uppercase AND/OR found in rule 'Rv2483c OR Rv2182c\n",
      "\t\t\t\t\t' for '<Reaction R587 at 0x7f83a252b490>'\n",
      "cobra/core/reaction.py:401 \u001b[1;31mUserWarning\u001b[0m: uppercase AND/OR found in rule 'Rv0217c OR Rv0220 OR Rv0646c OR Rv1076 OR Rv1104 OR Rv1105 OR Rv1399c OR Rv1400c OR Rv1426c OR Rv1497 OR Rv1755c OR Rv1900c OR Rv1923 OR Rv2045c OR Rv2284 OR Rv2349c OR Rv2350c OR Rv2351c OR Rv2385 OR Rv2463 OR Rv2485c OR Rv2970c OR Rv3084 OR Rv3176c OR Rv3203 OR Rv3487c OR Rv3775\n",
      "\t\t\t\t\t' for '<Reaction R590 at 0x7f83a237e6d0>'\n",
      "cobra/core/reaction.py:401 \u001b[1;31mUserWarning\u001b[0m: uppercase AND/OR found in rule 'Rv2982c OR Rv0564\n",
      "\t\t\t\t\t' for '<Reaction R591 at 0x7f83a237e790>'\n",
      "cobra/core/reaction.py:401 \u001b[1;31mUserWarning\u001b[0m: uppercase AND/OR found in rule 'Rv2483c OR Rv2182c\n",
      "\t\t\t\t\t' for '<Reaction R595 at 0x7f83a237e9d0>'\n",
      "cobra/core/reaction.py:401 \u001b[1;31mUserWarning\u001b[0m: uppercase AND/OR found in rule 'Rv2243 OR Rv0649 AND Rv2244\n",
      "\t\t\t\t\t' for '<Reaction R618 at 0x7f83a21cfa50>'\n",
      "cobra/core/reaction.py:401 \u001b[1;31mUserWarning\u001b[0m: uppercase AND/OR found in rule 'Rv2243 OR Rv0649 AND Rv2244\n",
      "\t\t\t\t\t' for '<Reaction R619 at 0x7f83a21cfa90>'\n",
      "cobra/core/reaction.py:401 \u001b[1;31mUserWarning\u001b[0m: uppercase AND/OR found in rule 'Rv1483 OR Rv1350 OR Rv2002 OR Rv0242c OR Rv2766c\n",
      "\t\t\t\t\t' for '<Reaction R621 at 0x7f83a21cfbd0>'\n",
      "cobra/core/reaction.py:401 \u001b[1;31mUserWarning\u001b[0m: uppercase AND/OR found in rule 'Rv0635 AND Rv0636 OR Rv0636 AND Rv0637\n",
      "\t\t\t\t\t' for '<Reaction R622 at 0x7f83a21cf990>'\n",
      "cobra/core/reaction.py:401 \u001b[1;31mUserWarning\u001b[0m: uppercase AND/OR found in rule 'Rv1142c OR Rv1141c\n",
      "\t\t\t\t\t' for '<Reaction R623 at 0x7f83a21cfc50>'\n",
      "cobra/core/reaction.py:401 \u001b[1;31mUserWarning\u001b[0m: uppercase AND/OR found in rule 'Rv2245 OR Rv2246 AND Rv1483 OR Rv1350 OR Rv2002 OR Rv0242c OR Rv2766c AND Rv0098 OR Rv0130 AND Rv1484\n",
      "\t\t\t\t\t' for '<Reaction R624 at 0x7f83a21cfd10>'\n",
      "cobra/core/reaction.py:401 \u001b[1;31mUserWarning\u001b[0m: uppercase AND/OR found in rule 'Rv2245 OR Rv2246 AND Rv1483 OR Rv1350 OR Rv2002 OR Rv0242c OR Rv2766c AND Rv0098 OR Rv0130 AND Rv1142c OR Rv1141c\n",
      "\t\t\t\t\t' for '<Reaction R625 at 0x7f83a21cfcd0>'\n",
      "cobra/core/reaction.py:401 \u001b[1;31mUserWarning\u001b[0m: uppercase AND/OR found in rule 'Rv2245 OR Rv2246 AND Rv1483 OR Rv1350 OR Rv2002 OR Rv0242c OR Rv2766c AND Rv0098 OR Rv0130 AND Rv1484\n",
      "\t\t\t\t\t' for '<Reaction R626 at 0x7f83a21cfd50>'\n",
      "cobra/core/reaction.py:401 \u001b[1;31mUserWarning\u001b[0m: uppercase AND/OR found in rule 'Rv0643c AND Rv0503c\n",
      "\t\t\t\t\t' for '<Reaction R627 at 0x7f83a21cfe90>'\n",
      "cobra/core/reaction.py:401 \u001b[1;31mUserWarning\u001b[0m: uppercase AND/OR found in rule 'Rv2245 OR Rv2246 AND Rv1483 OR Rv1350 OR Rv2002 OR Rv0242c OR Rv2766c AND Rv0098 OR Rv0130 AND Rv1484\n",
      "\t\t\t\t\t' for '<Reaction R628 at 0x7f83a21cfe50>'\n",
      "cobra/core/reaction.py:401 \u001b[1;31mUserWarning\u001b[0m: uppercase AND/OR found in rule 'Rv2245 OR Rv2246 AND Rv1483 OR Rv1350 OR Rv2002 OR Rv0242c OR Rv2766c AND Rv0098 OR Rv0130 AND Rv1142c OR Rv1141c\n",
      "\t\t\t\t\t' for '<Reaction R629 at 0x7f83a21cff90>'\n",
      "cobra/core/reaction.py:401 \u001b[1;31mUserWarning\u001b[0m: uppercase AND/OR found in rule 'Rv2245 OR Rv2246 AND Rv1483 OR Rv1350 OR Rv2002 OR Rv0242c OR Rv2766c AND Rv0098 OR Rv0130 AND Rv1484\n",
      "\t\t\t\t\t' for '<Reaction R630 at 0x7f83a2176190>'\n",
      "cobra/core/reaction.py:401 \u001b[1;31mUserWarning\u001b[0m: uppercase AND/OR found in rule 'Rv0643c AND Rv0644c\n",
      "\t\t\t\t\t' for '<Reaction R632 at 0x7f83a2176310>'\n",
      "cobra/core/reaction.py:401 \u001b[1;31mUserWarning\u001b[0m: uppercase AND/OR found in rule 'Rv0643c AND Rv0503c\n",
      "\t\t\t\t\t' for '<Reaction R635 at 0x7f83a2176550>'\n",
      "cobra/core/reaction.py:401 \u001b[1;31mUserWarning\u001b[0m: uppercase AND/OR found in rule 'Rv1288 OR Rv0519c OR Rv0774c\n",
      "\t\t\t\t\t' for '<Reaction R641 at 0x7f83a2186250>'\n",
      "cobra/core/reaction.py:401 \u001b[1;31mUserWarning\u001b[0m: uppercase AND/OR found in rule 'Rv3400 OR Rv2006\n",
      "\t\t\t\t\t' for '<Reaction R642 at 0x7f83a2186950>'\n",
      "cobra/core/reaction.py:401 \u001b[1;31mUserWarning\u001b[0m: uppercase AND/OR found in rule 'Rv2931 AND Rv2932 AND Rv2933 AND Rv2934 AND Rv2935\n",
      "\t\t\t\t\t' for '<Reaction R651 at 0x7f83a2186e90>'\n",
      "cobra/core/reaction.py:401 \u001b[1;31mUserWarning\u001b[0m: uppercase AND/OR found in rule 'Rv2931 AND Rv2932 AND Rv2933 AND Rv2934 AND Rv2935 AND Rv2930 AND Rv2941 AND Rv1661\n",
      "\t\t\t\t\t' for '<Reaction R656 at 0x7f83a2186f90>'\n",
      "cobra/core/reaction.py:401 \u001b[1;31mUserWarning\u001b[0m: uppercase AND/OR found in rule 'Rv2942 AND RV2936 AND Rv2937 AND Rv2938\n",
      "\t\t\t\t\t' for '<Reaction R660 at 0x7f83a211e390>'\n",
      "cobra/core/reaction.py:401 \u001b[1;31mUserWarning\u001b[0m: uppercase AND/OR found in rule 'Rv3529c OR Rv1373 OR Rv2267c\n",
      "\t\t\t\t\t' for '<Reaction R668 at 0x7f83a211ea10>'\n",
      "cobra/core/reaction.py:401 \u001b[1;31mUserWarning\u001b[0m: uppercase AND/OR found in rule 'Rv1180 AND Rv1181\n",
      "\t\t\t\t\t' for '<Reaction R672 at 0x7f83a211ec50>'\n",
      "cobra/core/reaction.py:401 \u001b[1;31mUserWarning\u001b[0m: uppercase AND/OR found in rule 'Rv1180 AND Rv1182\n",
      "\t\t\t\t\t' for '<Reaction R673 at 0x7f83a211e510>'\n",
      "cobra/core/reaction.py:401 \u001b[1;31mUserWarning\u001b[0m: uppercase AND/OR found in rule 'Rv1180 AND Rv1183\n",
      "\t\t\t\t\t' for '<Reaction R674 at 0x7f83a211ec90>'\n",
      "cobra/core/reaction.py:401 \u001b[1;31mUserWarning\u001b[0m: uppercase AND/OR found in rule 'Rv3379c OR Rv2682c\n",
      "\t\t\t\t\t' for '<Reaction R678 at 0x7f83a211edd0>'\n",
      "cobra/core/reaction.py:401 \u001b[1;31mUserWarning\u001b[0m: uppercase AND/OR found in rule 'Rv3382c OR Rv1110\n",
      "\t\t\t\t\t' for '<Reaction R684 at 0x7f83a211eed0>'\n",
      "cobra/core/reaction.py:401 \u001b[1;31mUserWarning\u001b[0m: uppercase AND/OR found in rule 'Rv3398c OR Rv3383c OR Rv2173 \n",
      "\t\t\t\t\t' for '<Reaction R686 at 0x7f83a2132390>'\n",
      "cobra/core/reaction.py:401 \u001b[1;31mUserWarning\u001b[0m: uppercase AND/OR found in rule 'Rv3790 AND Rv3791\n",
      "\t\t\t\t\t' for '<Reaction R697 at 0x7f83a21329d0>'\n",
      "cobra/core/reaction.py:401 \u001b[1;31mUserWarning\u001b[0m: uppercase AND/OR found in rule 'Rv3265c OR Rv1525\n",
      "\t\t\t\t\t' for '<Reaction R701 at 0x7f83a2132b50>'\n",
      "cobra/core/reaction.py:401 \u001b[1;31mUserWarning\u001b[0m: uppercase AND/OR found in rule 'Rv3794 AND Rv3795\n",
      "\t\t\t\t\t' for '<Reaction R706 at 0x7f83a2132d10>'\n",
      "cobra/core/reaction.py:401 \u001b[1;31mUserWarning\u001b[0m: uppercase AND/OR found in rule 'Rv3130c OR Rv3734c OR Rv3234c OR Rv3088 OR Rv1760 OR Rv2285 OR Rv0221 OR Rv3740c OR Rv3087 OR Rv3371 OR Rv3480c OR Rv3233c OR Rv1425 OR Rv0895 OR Rv2484c\n",
      "\t\t\t\t\t' for '<Reaction TAG at 0x7f83a2149b50>'\n",
      "cobra/core/reaction.py:401 \u001b[1;31mUserWarning\u001b[0m: uppercase AND/OR found in rule 'Rv3804c AND Rv1886c AND Rv0129c\n",
      "\t\t\t\t\t' for '<Reaction MAPC at 0x7f83a2149bd0>'\n",
      "cobra/core/reaction.py:401 \u001b[1;31mUserWarning\u001b[0m: uppercase AND/OR found in rule 'Rv3804c AND Rv1886c AND Rv0129c\n",
      "\t\t\t\t\t' for '<Reaction TDM at 0x7f83a2149d90>'\n",
      "cobra/core/reaction.py:401 \u001b[1;31mUserWarning\u001b[0m: uppercase AND/OR found in rule 'Rv1273c AND Rv1272c OR Rv1348 AND Rv1349 OR Rv0194 OR Rv1819c OR Rv1747 OR Rv1687c AND Rv1686c\n",
      "\t\t\t\t\t' for '<Reaction TMM at 0x7f83a2149f10>'\n",
      "cobra/core/reaction.py:401 \u001b[1;31mUserWarning\u001b[0m: uppercase AND/OR found in rule 'Rv2942 AND RV2936 AND Rv2937 AND Rv2938\n",
      "\t\t\t\t\t' for '<Reaction DIM at 0x7f83a2149fd0>'\n",
      "cobra/core/reaction.py:401 \u001b[1;31mUserWarning\u001b[0m: uppercase AND/OR found in rule 'Rv0411c AND Rv2565\n",
      "\t\t\t\t\t' for '<Reaction R829 at 0x7f83a20fa0d0>'\n",
      "cobra/core/reaction.py:401 \u001b[1;31mUserWarning\u001b[0m: uppercase AND/OR found in rule 'Rv0934 AND Rv0936 AND Rv0935 AND Rv0933 OR Rv0932c AND Rv0930 AND Rv0929 AND Rv0933 OR Rv0928 AND Rv0930 AND Rv0928 AND Rv0933\n",
      "\t\t\t\t\t' for '<Reaction R838 at 0x7f83a20fa450>'\n",
      "cobra/core/reaction.py:401 \u001b[1;31mUserWarning\u001b[0m: uppercase AND/OR found in rule 'Rv2397c AND Rv2398c AND Rv2399c AND Rv2400c \n",
      "\t\t\t\t\t' for '<Reaction R841 at 0x7f83a20fa510>'\n",
      "cobra/core/reaction.py:401 \u001b[1;31mUserWarning\u001b[0m: uppercase AND/OR found in rule 'Rv2832c AND Rv2833c AND Rv2834c AND Rv2835c\n",
      "\t\t\t\t\t' for '<Reaction R906 at 0x7f83a2094890>'\n",
      "cobra/core/reaction.py:401 \u001b[1;31mUserWarning\u001b[0m: uppercase AND/OR found in rule 'Rv3494c AND Rv3495c AND Rv3496c AND Rv3497c AND Rv3498c AND Rv3499c AND Rv3500c AND Rv3501c AND Rv0655' for '<Reaction R932 at 0x7f83a2094fd0>'\n",
      "cobra/core/reaction.py:401 \u001b[1;31mUserWarning\u001b[0m: uppercase AND/OR found in rule 'Rv3526 AND Rv3571 AND Rv3572\n",
      "\t\t\t\t\t' for '<Reaction R935 at 0x7f83a20b10d0>'\n",
      "cobra/core/reaction.py:401 \u001b[1;31mUserWarning\u001b[0m: uppercase AND/OR found in rule 'Rv3570c AND Rv3567c\n",
      "\t\t\t\t\t' for '<Reaction R937 at 0x7f83a20b1110>'\n",
      "cobra/core/reaction.py:401 \u001b[1;31mUserWarning\u001b[0m: uppercase AND/OR found in rule 'Rv3502c AND Rv3538 AND Rv3504 AND Rv3505 AND Rv3506 AND Rv3515c AND Rv3516 AND Rv3522 AND Rv3523\n",
      "\t\t\t\t\t' for '<Reaction R940 at 0x7f83a20b1250>'\n"
     ]
    },
    {
     "name": "stdout",
     "output_type": "stream",
     "text": [
      "{'R800': 1.0, 'R812': 1.0, 'R925': 1.0, 'R804': 1.0, 'R805': 1000.0}\n"
     ]
    },
    {
     "name": "stderr",
     "output_type": "stream",
     "text": [
      "cobra/core/reaction.py:401 \u001b[1;31mUserWarning\u001b[0m: uppercase AND/OR found in rule 'Rv3569c AND Rv3534c AND Rv3535c AND Rv3536c\n",
      "\t\t\t\t\t' for '<Reaction R941 at 0x7f83a20b1210>'\n",
      "cobra/core/reaction.py:401 \u001b[1;31mUserWarning\u001b[0m: uppercase AND/OR found in rule 'Rv3502c AND Rv3538 AND Rv3504 AND Rv3505 AND Rv3506 AND Rv3515c AND Rv3516 AND Rv3522 AND Rv3523' for '<Reaction R940 at 0x7f83a0a67250>'\n",
      "cobra/core/reaction.py:401 \u001b[1;31mUserWarning\u001b[0m: uppercase AND/OR found in rule 'Rv3569c AND Rv3534c AND Rv3535c AND Rv3536c' for '<Reaction R941 at 0x7f83a0a67610>'\n"
     ]
    }
   ],
   "source": [
    "# this is the sMtb model that is mapped to BIGGs identifiers.\n",
    "# the xml model in sMtb paper can't compute as shown below.\n",
    "\n",
    "### --- Running the following code results in \"infeasible\" \n",
    "# model_sMtb_original = cobra.io.read_sbml_model(\"TB_previous_models/sMtb_sbml_3.xml\")\n",
    "# model_sMtb_original.optimize()\n",
    "\n",
    "model_sMtb_mapped = cobra.io.load_json_model(\"TB_previous_models/sMtb_mapped_model.json\")\n",
    "model_sMtb_mapped.metabolites.get_by_id(\"tdm3_c \").id = \"tdm3_c\"\n",
    "model_sMtb_mapped.repair()\n",
    "cobra.io.save_json_model(model_sMtb_mapped, \"sMtb_mapped_model.json\")\n",
    "\n",
    "model_iOSDD = cobra.io.load_matlab_model(\"TB_previous_models/iOSDD.mat\")\n",
    "\n",
    "# model_iSM810 = cobra.io.load_matlab_model(\"TB_previous_models/MTB_iSM810_COBRA.mat\")\n",
    "model_iSM810 = cobra.io.read_sbml_model(\"TB_previous_models/MTB_iSM810_media7H9.xml\")\n",
    "\n",
    "# the following fixes enable gene essentiality tests\n",
    "model_iSM810.reactions.get_by_id(\"R157\").gene_reaction_rule = \"Rv0855\"\n",
    "\n",
    "# initial media conditions of iSM810\n",
    "print model_iSM810.medium\n",
    "\n",
    "model_iNJ661 = cobra.io.load_json_model(\"TB_previous_models/iNJ661.json\")\n",
    "model_galagan = cobra.io.read_sbml_model(\"TB_previous_models/Galagan2015.xml\")\n",
    "\n",
    "model_iEK1032old = cobra.io.load_json_model(\"TB_previous_models/iEK1032_old.json\")"
   ]
  },
  {
   "cell_type": "code",
   "execution_count": 15,
   "metadata": {},
   "outputs": [
    {
     "data": {
      "text/plain": [
       "1023"
      ]
     },
     "execution_count": 15,
     "metadata": {},
     "output_type": "execute_result"
    }
   ],
   "source": [
    "len(model_iEK1032old.genes)"
   ]
  },
  {
   "cell_type": "markdown",
   "metadata": {},
   "source": [
    "Load genes annotated with reactions from BioCyc database."
   ]
  },
  {
   "cell_type": "code",
   "execution_count": 16,
   "metadata": {},
   "outputs": [
    {
     "name": "stdout",
     "output_type": "stream",
     "text": [
      "1698\n",
      "1166\n"
     ]
    }
   ],
   "source": [
    "# First I need to get all the genes from the BioCyc model.\n",
    "# Before 1165 w/ AllReactions_Genes_H37Rv_(2016)\n",
    "csv_file = \"TB_previous_models/BioCyc2016.csv\"\n",
    "bioCyc_data = pd.read_csv(csv_file)\n",
    "print len(bioCyc_data[\"Reactions\"])\n",
    "bioCyc_genes = []\n",
    "for i in bioCyc_data[\"Accession-1\"]:\n",
    "    if str(i) != \"nan\":\n",
    "        if \"//\" in str(i):\n",
    "            x = i.split(\" // \")\n",
    "            x = [w.replace(\"\\\"\", '') for w in x]\n",
    "            bioCyc_genes.extend(x)\n",
    "        else:\n",
    "            bioCyc_genes.append(i)\n",
    "bioCyc_genes = set(bioCyc_genes)\n",
    "print len(bioCyc_genes)"
   ]
  },
  {
   "cell_type": "code",
   "execution_count": 17,
   "metadata": {
    "scrolled": true
   },
   "outputs": [
    {
     "name": "stdout",
     "output_type": "stream",
     "text": [
      "iEK1011 1011\n",
      "BioCyc 1166\n",
      "sMtb 915\n",
      "iNJ661 661\n",
      "galgan2015 760\n",
      "iOSDD 889\n",
      "iSM810 809\n"
     ]
    }
   ],
   "source": [
    "iEK1011_genes = [str(x) for x in model_iEK.genes]\n",
    "print \"iEK1011\", len(iEK1011_genes)\n",
    "\n",
    "print \"BioCyc\", len(bioCyc_genes)\n",
    "\n",
    "sMtb_genes = [str(x) for x in model_sMtb_mapped .genes]\n",
    "print \"sMtb\", len(sMtb_genes)\n",
    "\n",
    "iNJ661_genes = [str(x) for x in model_iNJ661.genes]\n",
    "print \"iNJ661\", len(iNJ661_genes)\n",
    "\n",
    "galagan_genes = [str(x) for x in model_galagan.genes]\n",
    "print \"galgan2015\", len(galagan_genes)\n",
    "\n",
    "iOSDD_genes = [str(x) for x in model_iOSDD.genes]\n",
    "print \"iOSDD\", len(iOSDD_genes)\n",
    "\n",
    "iSM810_genes = [str(x) for x in model_iSM810.genes]\n",
    "print \"iSM810\", len(iSM810_genes)"
   ]
  },
  {
   "cell_type": "markdown",
   "metadata": {},
   "source": [
    "#### Models based on GSMN-TB 1.1"
   ]
  },
  {
   "cell_type": "code",
   "execution_count": 18,
   "metadata": {},
   "outputs": [
    {
     "data": {
      "image/png": "[encoded data removed]",
      "text/plain": [
       "<matplotlib.figure.Figure at 0x7f83a336c510>"
      ]
     },
     "metadata": {},
     "output_type": "display_data"
    }
   ],
   "source": [
    "plt.figure(figsize=(5, 5))\n",
    "v = venn3([set(galagan_genes), set(iSM810_genes), set(sMtb_genes)], ('gal2015', 'iSM810', 'sMtb'))\n",
    "# plt.savefig(\"venn_galagan2015_iSM810_sMtb.svg\")\n",
    "plt.show()"
   ]
  },
  {
   "cell_type": "markdown",
   "metadata": {},
   "source": [
    "#### Models based on iNJ661"
   ]
  },
  {
   "cell_type": "code",
   "execution_count": 19,
   "metadata": {},
   "outputs": [
    {
     "data": {
      "image/png": "[encoded data removed]",
      "text/plain": [
       "<matplotlib.figure.Figure at 0x7f83d2335b90>"
      ]
     },
     "metadata": {},
     "output_type": "display_data"
    }
   ],
   "source": [
    "plt.figure(figsize=(5, 5))\n",
    "venn3([set(iEK1011_genes), set(iOSDD_genes), set(iNJ661_genes)], ('iEK1011', 'iOSDD', 'iNJ661'))\n",
    "# plt.savefig(\"venn_iEK_iOSDD_iNJ661.svg\")\n",
    "plt.show()"
   ]
  },
  {
   "cell_type": "markdown",
   "metadata": {},
   "source": [
    "#### Overlap of new recon and base reconstruction models"
   ]
  },
  {
   "cell_type": "code",
   "execution_count": 20,
   "metadata": {},
   "outputs": [
    {
     "data": {
      "image/png": "[encoded data removed]",
      "text/plain": [
       "<matplotlib.figure.Figure at 0x7f83a09c2ad0>"
      ]
     },
     "metadata": {},
     "output_type": "display_data"
    }
   ],
   "source": [
    "plt.figure(figsize=(5, 5))\n",
    "venn3([set(iEK1011_genes), set(iOSDD_genes), set(sMtb_genes)], ('iEK1011', 'iOSDD', 'sMtb'))\n",
    "# plt.savefig(\"venn_iEK_iOSDD_sMtb.svg\")\n",
    "plt.show()"
   ]
  },
  {
   "cell_type": "markdown",
   "metadata": {},
   "source": [
    "### Genes not in iEK1011"
   ]
  },
  {
   "cell_type": "code",
   "execution_count": 21,
   "metadata": {
    "collapsed": true
   },
   "outputs": [],
   "source": [
    "all_previous_genes = list(set(iOSDD_genes + iNJ661_genes + galagan_genes + iSM810_genes + sMtb_genes))\n",
    "all_not_in_iEK = [x for x in all_previous_genes if x not in iEK1011_genes]"
   ]
  },
  {
   "cell_type": "code",
   "execution_count": 22,
   "metadata": {},
   "outputs": [
    {
     "name": "stdout",
     "output_type": "stream",
     "text": [
      "genes in previous models not in iEK1011 151\n"
     ]
    }
   ],
   "source": [
    "all_not_in_iEK_toModel_dict = {}\n",
    "for x in all_not_in_iEK:\n",
    "    \n",
    "    gene_models = []\n",
    "    if x in iOSDD_genes:\n",
    "        gene_models.append(\"iOSDD\")\n",
    "        \n",
    "    if x in iNJ661_genes:\n",
    "        gene_models.append(\"iNJ661\")\n",
    "        \n",
    "    if x in galagan_genes:\n",
    "        gene_models.append(\"gal2015\")\n",
    "        \n",
    "    if x in iSM810_genes:\n",
    "        gene_models.append(\"iSM810\")\n",
    "        \n",
    "    if x in sMtb_genes:\n",
    "        gene_models.append(\"sMtb\")\n",
    "        \n",
    "    all_not_in_iEK_toModel_dict.update({x: gene_models})\n",
    "    \n",
    "genes_notiEK_inPrevious_df = pd.DataFrame.from_dict(all_not_in_iEK_toModel_dict, orient=\"index\")\n",
    "print \"genes in previous models not in iEK1011\", len(all_not_in_iEK)"
   ]
  },
  {
   "cell_type": "code",
   "execution_count": 23,
   "metadata": {},
   "outputs": [
    {
     "name": "stdout",
     "output_type": "stream",
     "text": [
      "len(all_genes_AllModels):  1162\n",
      "len(all_shared_genes):  473\n"
     ]
    }
   ],
   "source": [
    "all_genes_AllModels = list(set(all_previous_genes + iEK1011_genes))\n",
    "print \"len(all_genes_AllModels): \", len(all_genes_AllModels)\n",
    "all_shared_genes = []\n",
    "for x in all_genes_AllModels:\n",
    "    if x in iEK1011_genes: \n",
    "        if x in iOSDD_genes:\n",
    "            if x in iNJ661_genes:\n",
    "                if x in galagan_genes:\n",
    "                    if x in iSM810_genes:\n",
    "                        if x in sMtb_genes:\n",
    "        \n",
    "                            all_shared_genes.append(x)\n",
    "            \n",
    "print \"len(all_shared_genes): \", len(all_shared_genes)"
   ]
  },
  {
   "cell_type": "code",
   "execution_count": 24,
   "metadata": {},
   "outputs": [
    {
     "name": "stdout",
     "output_type": "stream",
     "text": [
      "Optimal growth 0.0165647019001\n"
     ]
    }
   ],
   "source": [
    "growth_rates = single_gene_deletion(model_iEK)\n",
    "print \"Optimal growth\", model_iEK.optimize().f"
   ]
  },
  {
   "cell_type": "code",
   "execution_count": 25,
   "metadata": {},
   "outputs": [
    {
     "data": {
      "text/html": [
       "<div>\n",
       "<style scoped>\n",
       "    .dataframe tbody tr th:only-of-type {\n",
       "        vertical-align: middle;\n",
       "    }\n",
       "\n",
       "    .dataframe tbody tr th {\n",
       "        vertical-align: top;\n",
       "    }\n",
       "\n",
       "    .dataframe thead th {\n",
       "        text-align: right;\n",
       "    }\n",
       "</style>\n",
       "<table border=\"1\" class=\"dataframe\">\n",
       "  <thead>\n",
       "    <tr style=\"text-align: right;\">\n",
       "      <th></th>\n",
       "      <th>flux</th>\n",
       "      <th>status</th>\n",
       "    </tr>\n",
       "  </thead>\n",
       "  <tbody>\n",
       "    <tr>\n",
       "      <th>Rv0013</th>\n",
       "      <td>0.000000e+00</td>\n",
       "      <td>optimal</td>\n",
       "    </tr>\n",
       "    <tr>\n",
       "      <th>Rv0018c</th>\n",
       "      <td>-1.347328e-19</td>\n",
       "      <td>optimal</td>\n",
       "    </tr>\n",
       "    <tr>\n",
       "      <th>Rv0021c</th>\n",
       "      <td>1.656470e-02</td>\n",
       "      <td>optimal</td>\n",
       "    </tr>\n",
       "    <tr>\n",
       "      <th>Rv0032</th>\n",
       "      <td>1.656470e-02</td>\n",
       "      <td>optimal</td>\n",
       "    </tr>\n",
       "    <tr>\n",
       "      <th>Rv0035</th>\n",
       "      <td>1.656470e-02</td>\n",
       "      <td>optimal</td>\n",
       "    </tr>\n",
       "  </tbody>\n",
       "</table>\n",
       "</div>"
      ],
      "text/plain": [
       "                 flux   status\n",
       "Rv0013   0.000000e+00  optimal\n",
       "Rv0018c -1.347328e-19  optimal\n",
       "Rv0021c  1.656470e-02  optimal\n",
       "Rv0032   1.656470e-02  optimal\n",
       "Rv0035   1.656470e-02  optimal"
      ]
     },
     "execution_count": 25,
     "metadata": {},
     "output_type": "execute_result"
    }
   ],
   "source": [
    "growth_rates.head()"
   ]
  },
  {
   "cell_type": "markdown",
   "metadata": {},
   "source": [
    "# Example of GPR divergence"
   ]
  },
  {
   "cell_type": "code",
   "execution_count": null,
   "metadata": {
    "collapsed": true
   },
   "outputs": [],
   "source": [
    "for x in iEK1011_genes[5:15]:\n",
    "    print x\n",
    "    get_models_gene_info(x)\n",
    "    print \n",
    "    print"
   ]
  },
  {
   "cell_type": "code",
   "execution_count": null,
   "metadata": {
    "collapsed": true
   },
   "outputs": [],
   "source": [
    "get_models_gene_info(\"Rv1908c\")"
   ]
  },
  {
   "cell_type": "code",
   "execution_count": null,
   "metadata": {
    "collapsed": true
   },
   "outputs": [],
   "source": [
    "get_models_gene_info(\"Rv2464c\")"
   ]
  },
  {
   "cell_type": "code",
   "execution_count": null,
   "metadata": {
    "collapsed": true
   },
   "outputs": [],
   "source": [
    "get_models_metab_info(\"bccpco2_c\")"
   ]
  },
  {
   "cell_type": "code",
   "execution_count": null,
   "metadata": {
    "collapsed": true
   },
   "outputs": [],
   "source": [
    "model_iSM810.genes.get_by_id(\"Rv1908c\")"
   ]
  },
  {
   "cell_type": "markdown",
   "metadata": {},
   "source": [
    "# Look at GAM and NGAM\n",
    "\n",
    "Non-growth associated maintenance is expressed as a conversion of ATP to ADP and quantifies the energy required by Mtb to maintain itself in a given environment. For sMtb the NGAM and GAM were 0.1 mmol gdw-1h-1 and 57 mmol gdw-1.\n",
    "\n",
    "For iEK1011, the growth associated maintence (GAM) was chosen to be $60 mmol gDw^-1$, which was the same as that used in iNJ661, iAB, and iOSDD. For comparison, the GAM value for sMtb was 57."
   ]
  },
  {
   "cell_type": "code",
   "execution_count": 26,
   "metadata": {
    "collapsed": true
   },
   "outputs": [
    {
     "data": {
      "text/plain": [
       "'0.2352 14glucan_c + 0.001681 Ac1PIM1_c + 0.001488 Ac1PIM2_c + 0.001335 Ac1PIM3_c + 0.001211 Ac1PIM4_c + 0.001274 Ac2PIM2_c + 0.001573 PIM3_c + 0.001403 PIM4_c + 0.001266 PIM5_c + 0.001154 PIM6_c + 0.23018 acgam1p_c + 0.40596 ala__L_c + 0.0347 amet_c + 0.000731 arabinanagalfragund_c + 0.015676 arach_c + 0.12042 arg__L_c + 0.047699 asn__L_c + 0.12031 asp__L_c + 60.0 atp_c + 0.0295 c78mycolatepp_c + 0.005859 clpn160190_c + 0.25095 cmp_c + 0.0132 coa_c + 0.0168 ctp_c + 0.022 cys__L_c + 0.003492 damp_c + 0.0102 datp_c + 0.0194 dctp_c + 0.0194 dgtp_c + 0.0102 dttp_c + 0.0129 fad_c + 0.0008 fdxox_c + 0.0008 fdxrd_c + 0.0008 fe2_c + 0.0008 fe3_c + 0.0222 fmn_c + 0.0001 gdpmann_c + 0.16315 glc__D_c + 0.05812 gln__L_c + 0.090007 glu__L_c + 0.33581 gly_c + 0.0184 glyc_c + 0.2352 glycogen_c + 0.24365 gmp_c + 0.0168 gtp_c + 60.0 h2o_c + 0.23515 hdca_c + 0.01094 hdcea_c + 0.0008 hemeA_c + 0.0008 hemeO_c + 0.058352 hexc_c + 0.074917 his__L_c + 0.0064 hphthiocnylcoa_c + 0.087731 ile__L_c + 0.20471 leu__L_c + 0.03909 lys__L_c + 0.095065 man_c + 0.00784 mbhn_c + 0.034889 met__L_c + 0.095802 mocdca_c + 0.0118 mql8_c + 0.0131 msh_c + 0.0152 nad_c + 0.0136 nadp_c + 0.034837 ocdca_c + 0.009849 ocdcea_c + 0.006798 pa160190_c + 0.00724 pa160_c + 0.006407 pa190190_c + 0.001251 pat_c + 0.004061 pe160_c + 0.01885 peptido__TB1_c + 0.01885 peptido__TB2_c + 0.00613 pg160190_c + 0.006487 pg160_c + 0.00581 pg190_c + 0.006453 phdca_c + 0.048102 phe__L_c + 0.13803 pro__L_c + 0.021723 rib__D_c + 0.2326 ser__L_c + 0.0008 sheme_c + 0.001176 tat_c + 0.0008 thf_c + 0.0008 thmpp_c + 0.13571 thr__L_c + 0.001106 tmha1_c + 0.0011 tmha2_c + 0.001104 tmha3_c + 0.001097 tmha4_c + 0.006491 tre6p_c + 0.00797 tre_c + 0.006474 tres_c + 0.020124 trp__L_c + 0.012193 ttdca_c + 0.031756 tyr__L_c + 0.001008 uaaAgla_c + 0.001008 uaaGgla_c + 0.000986 uaagmda_c + 0.002793 uamr_c + 0.000977 ugagmda_c + 0.0088 utp_c + 0.20583 val__L_c --> 60.0 adp_c + 60.0 h_c + 60.0 pi_c'"
      ]
     },
     "execution_count": 26,
     "metadata": {},
     "output_type": "execute_result"
    }
   ],
   "source": [
    "model_iEK.reactions.get_by_id(\"biomass\").reaction"
   ]
  },
  {
   "cell_type": "code",
   "execution_count": 27,
   "metadata": {
    "collapsed": true
   },
   "outputs": [
    {
     "data": {
      "text/plain": [
       "'0.001681 Ac1PIM1[c] + 0.001488 Ac1PIM2[c] + 0.001335 Ac1PIM3[c] + 0.001211 Ac1PIM4[c] + 0.001274 Ac2PIM2[c] + 0.002076 PIM1[c] + 0.00179 PIM2[c] + 0.001573 PIM3[c] + 0.001403 PIM4[c] + 0.001266 PIM5[c] + 0.001154 PIM6[c] + 0.23018 acgam1p[c] + 0.40596 ala-L[c] + 0.13903 amp[c] + 0.000731 arabinanagalfragund[c] + 0.015676 arach[c] + 0.12042 arg-L[c] + 0.047699 asn-L[c] + 0.12031 asp-L[c] + 60.0 atp[c] + 0.005859 clpn160190[c] + 0.25095 cmp[c] + 0.022 cys-L[c] + 0.003492 damp[c] + 0.006663 dcmp[c] + 0.006659 dgmp[c] + 0.003653 dtmp[c] + 0.001498 fcmcbtt[c] + 0.055474 gal[c] + 0.16315 glc-D[c] + 0.05812 gln-L[c] + 0.090007 glu-L[c] + 0.33581 gly[c] + 0.025359 glyc[c] + 0.24365 gmp[c] + 60.0 h2o[c] + 0.23515 hdca[c] + 0.01094 hdcea[c] + 0.058352 hexc[c] + 0.040617 his-L[c] + 0.087731 ile-L[c] + 0.003338 kmycolate[c] + 0.20471 leu-L[c] + 0.03909 lys-L[c] + 0.095065 man[c] + 0.00784 mbhn[c] + 0.001402 mcbts[c] + 0.034889 met-L[c] + 0.001184 mfrrppdima[c] + 0.003291 mkmycolate[c] + 0.003365 mmmycolate[c] + 0.095802 mocdca[c] + 0.011003 mycolate[c] + 0.034837 ocdca[c] + 0.009849 ocdcea[c] + 0.006798 pa160190[c] + 0.00724 pa160[c] + 0.006407 pa190190[c] + 0.001251 pat[c] + 0.000273 pdima[c] + 0.004061 pe160[c] + 0.01885 peptido-TB1[c] + 0.01885 peptido-TB2[c] + 0.00613 pg160190[c] + 0.006487 pg160[c] + 0.00581 pg190[c] + 0.006453 phdca[c] + 0.048102 phe-L[c] + 0.000263 ppdima[c] + 0.13803 pro-L[c] + 0.021723 rib-D[c] + 0.1434 ser-L[c] + 0.001137 sl1[c] + 0.001176 tat[c] + 0.13571 thr-L[c] + 0.001106 tmha1[c] + 0.0011 tmha2[c] + 0.001104 tmha3[c] + 0.001097 tmha4[c] + 0.006491 tre6p[c] + 0.00797 tre[c] + 0.006474 tres[c] + 0.020124 trp-L[c] + 0.012193 ttdca[c] + 0.031756 tyr-L[c] + 0.001008 uaaAgla[c] + 0.001008 uaaGgla[c] + 0.000986 uaagmda[c] + 0.002793 uamr[c] + 0.000977 ugagmda[c] + 0.1316 ump[c] + 0.20583 val-L[c] --> 60.0 adp[c] + 60.0 h[c] + 60.0 pi[c]'"
      ]
     },
     "execution_count": 27,
     "metadata": {},
     "output_type": "execute_result"
    }
   ],
   "source": [
    "model_iOSDD.reactions.get_by_id(\"biomass_Mtb_9_60atp\").reaction"
   ]
  },
  {
   "cell_type": "code",
   "execution_count": 28,
   "metadata": {},
   "outputs": [
    {
     "name": "stdout",
     "output_type": "stream",
     "text": [
      "3.15\n"
     ]
    }
   ],
   "source": [
    "print model_iEK.reactions.get_by_id(\"ATPM\").lower_bound"
   ]
  },
  {
   "cell_type": "markdown",
   "metadata": {},
   "source": [
    "# 2. *Gene Essentiality*\n",
    "In order to run the following gene essentiality predictions, load both the griffin and jesus gene essentiality excel sheet.\n",
    "<a id='gene_essentiality'></a>"
   ]
  },
  {
   "cell_type": "markdown",
   "metadata": {},
   "source": [
    "**Griffin**: minimal media (asparagine 0.5 g/L, KH2PO4 1.0 g/L, Na2HPO4 2.5 g/L ferric ammonium citrate 50 mg/L, MgSO4 ?7H20 0.5 g/ L, CaCl2 0.5 g/L, ZnSO4 0.1 mg/L), 25 mg/ml Kanamycin, 0.2% tyloxapol, 0.2% ethanol and either 0.1% glycerol or 0.01% cholesterol."
   ]
  },
  {
   "cell_type": "code",
   "execution_count": 29,
   "metadata": {},
   "outputs": [
    {
     "name": "stderr",
     "output_type": "stream",
     "text": [
      "/home/user/anaconda2/lib/python2.7/site-packages/pandas/util/_decorators.py:118 \u001b[1;31mFutureWarning\u001b[0m: The `sheetname` keyword is deprecated, use `sheet_name` instead\n"
     ]
    }
   ],
   "source": [
    "griffin_file = \"../../Dataframes/Table_S2.xlsx\"\n",
    "griffin_excel = pd.read_excel(griffin_file,  sheetname='supp table 2',skiprows = 9,keep_default_na=False)"
   ]
  },
  {
   "cell_type": "markdown",
   "metadata": {},
   "source": [
    "**DeJesus**: While Griffin used minimal media plus glycerol, our replicates were grown on rich media (7H9 or 7H10 [7H9/10] plus oleic acid-albumin-dextrose-catalase [OADC]) with a variety of potential carbon sources available (glycerol, dextrose, oleate, citrate, and glutamate)"
   ]
  },
  {
   "cell_type": "code",
   "execution_count": 30,
   "metadata": {
    "collapsed": true
   },
   "outputs": [],
   "source": [
    "loerger_file = \"../../Dataframes/inline-supplementary-material-5.xlsx\"\n",
    "loerger_excel = pd.read_excel(loerger_file,  sheetname='ORF Essentiality Calls',\n",
    "                              skiprows = 1,keep_default_na=False)\n",
    "loerger_excel[\"Locus\"] = loerger_excel[\"ORF ID\"].map(lambda x: x.strip())\n",
    "# only look at genes labeled with RvXXXX\n",
    "# loerger_excel = loerger_excel.loc[:1521]\n",
    "# loerger_excel[\"Locus\"] = loerger_excel[\"ID\"].map(lambda x: x.split(\"-\")[1].strip())"
   ]
  },
  {
   "cell_type": "code",
   "execution_count": 31,
   "metadata": {
    "collapsed": true
   },
   "outputs": [],
   "source": [
    "def essen_test(model_tb, dic_return, dataset_name, dataset_excel, growth_thresh_mult):\n",
    "    model = model_tb.copy()\n",
    "    \n",
    "    fal_pos_dic, fal_neg_dic = {}, {}\n",
    "    true_neg_dic, true_pos_dic = {}, {}\n",
    "    \n",
    "    growth_rates = single_gene_deletion(model)\n",
    "    print \"Optimal growth\", model.optimize().f\n",
    "    \n",
    "    orig_growth_thres = growth_thresh_mult*model.optimize().f\n",
    "    print \"Threshold growth\", orig_growth_thres\n",
    "    \n",
    "    true_pos, true_neg, fal_pos, fal_neg = 0, 0, 0, 0\n",
    "    \n",
    "    # set grif essen threshold -- iSM810 paper uses 0.1 as \"confident essential\"\n",
    "    grif_thres = 0.1\n",
    "        \n",
    "    for index, row in dataset_excel.iterrows():\n",
    "        gene = str(row[\"Locus\"])\n",
    "        # print gene\n",
    "        \n",
    "        if dataset_name == \"griffin\":\n",
    "            \n",
    "            try:\n",
    "                growth = growth_rates.loc[gene, \"flux\"]\n",
    "\n",
    "                # True Positive - predicts that it grows (not essential) and is correct.\n",
    "                if float(row[\"p value\"]) > grif_thres and growth > orig_growth_thres:\n",
    "                    true_pos = true_pos + 1\n",
    "                    true_pos_dic.update({gene: [growth, float(row[\"p value\"])]})\n",
    "\n",
    "                # False Positive - predicts that it grows (not essential) when it actually essential\n",
    "                if float(row[\"p value\"]) < grif_thres and growth > orig_growth_thres:\n",
    "                    fal_pos = fal_pos + 1\n",
    "                    fal_pos_dic.update({gene: [growth, float(row[\"p value\"])]})\n",
    "                \n",
    "                # True Negative - predicts that the gene is essential (no growth) and is correct\n",
    "                if float(row[\"p value\"]) < grif_thres and growth < orig_growth_thres:\n",
    "                    true_neg = true_neg + 1\n",
    "                    true_neg_dic.update({gene: [growth, float(row[\"p value\"])]})\n",
    "\n",
    "                if float(row[\"p value\"]) > grif_thres and growth < orig_growth_thres:\n",
    "                    fal_neg = fal_neg + 1\n",
    "                    fal_neg_dic.update({gene: [growth, float(row[\"p value\"])]})\n",
    "                    \n",
    "                    \n",
    "            except:\n",
    "                # print \"something messed up\"\n",
    "                pass\n",
    "                        \n",
    "        elif dataset_name == \"loerger\":\n",
    "            \"\"\"\n",
    "            ES being near 0\n",
    "            NE being near the mean\n",
    "            GD approximately 1/10 the mean\n",
    "            GA 5 times the mean\n",
    "            \"\"\"\n",
    "            try:\n",
    "                growth = growth_rates.loc[gene, \"flux\"]\n",
    "                \n",
    "                # TP\n",
    "                if (row[\"Final Call\"] == \"NE\" or row[\"Final Call\"] == \"GA\") and growth > orig_growth_thres:\n",
    "                    true_pos = true_pos + 1\n",
    "                    true_pos_dic.update({gene: [growth]})\n",
    "                        \n",
    "                # FN\n",
    "                if (row[\"Final Call\"] == \"NE\" or row[\"Final Call\"] == \"GA\") and growth < orig_growth_thres:\n",
    "                    fal_neg = fal_neg + 1\n",
    "                    fal_neg_dic.update({gene: [growth]})\n",
    "                        \n",
    "                # TN\n",
    "                if (row[\"Final Call\"] == \"ES\" or row[\"Final Call\"] == \"ESD\" or row[\"Final Call\"] == \"GD\") and growth < orig_growth_thres:\n",
    "                # if (row[\"Final Call\"] == \"ES\") and growth < orig_growth_thres:\n",
    "                    true_neg = true_neg + 1\n",
    "                    true_neg_dic.update({gene: [growth]})\n",
    "                        \n",
    "                # FP\n",
    "                if (row[\"Final Call\"] == \"ES\" or row[\"Final Call\"] == \"ESD\" or row[\"Final Call\"] == \"GD\") and growth > orig_growth_thres:\n",
    "                # if (row[\"Final Call\"] == \"ES\") and growth > orig_growth_thres:\n",
    "                    fal_pos = fal_pos + 1\n",
    "                    fal_pos_dic.update({gene: [growth]})\n",
    "            except:\n",
    "                pass\n",
    "                \n",
    "            \n",
    "    # ---Analyze and Print results ---\n",
    "    print \"TP - TN - FP - FN\"\n",
    "    print true_pos, true_neg, fal_pos, fal_neg\n",
    "    \n",
    "    # percent of correct predictions\n",
    "    perc_correct = (true_pos+true_neg)/(true_pos+true_neg+fal_pos+float(fal_neg))\n",
    "    print \"percent correct: \", perc_correct\n",
    "    \n",
    "    # mcc calculation\n",
    "    MCC_root = math.sqrt((true_pos + fal_pos)*(true_pos + fal_neg)*(true_neg + fal_pos)*(true_neg + fal_neg))\n",
    "    MCC = (true_pos*true_neg - fal_pos*fal_neg)/MCC_root\n",
    "    print \"Matthew Correlation Coefficient\", MCC\n",
    "    if dic_return == \"Yes\":\n",
    "        return fal_neg_dic, fal_pos_dic\n",
    "    elif dic_return == \"Yes both\":\n",
    "        return fal_neg_dic, fal_pos_dic, true_neg_dic, true_pos_dic\n",
    "    \n",
    "\n",
    "\n",
    "def essen_test_sharedGenes(model_tb, dic_return, dataset_name, dataset_excel, growth_thresh_mult, all_shared_genes):\n",
    "    model = model_tb.copy()\n",
    "    \n",
    "    fal_pos_dic, fal_neg_dic = {}, {}\n",
    "    true_neg_dic, true_pos_dic = {}, {}\n",
    "    \n",
    "    growth_rates = single_gene_deletion(model)\n",
    "    print \"Optimal growth\", model.optimize().f\n",
    "    \n",
    "    orig_growth_thres = growth_thresh_mult*model.optimize().f\n",
    "    print \"Threshold growth\", orig_growth_thres\n",
    "    \n",
    "    true_pos, true_neg, fal_pos, fal_neg = 0, 0, 0, 0\n",
    "    \n",
    "    # set grif essen threshold -- iSM810 paper uses 0.1 as \"confident essential\"\n",
    "    grif_thres = 0.1\n",
    "    \n",
    "    \n",
    "    growth_rates = growth_rates.loc[all_shared_genes, ].copy()\n",
    "        \n",
    "    for index, row in dataset_excel.iterrows():\n",
    "        gene = str(row[\"Locus\"])\n",
    "        # print gene\n",
    "        \n",
    "        if dataset_name == \"griffin\":\n",
    "            \n",
    "            try:\n",
    "                growth = growth_rates.loc[gene, \"flux\"]\n",
    "\n",
    "                # True Positive - predicts that it grows (not essential) and is correct.\n",
    "                if float(row[\"p value\"]) > grif_thres and growth > orig_growth_thres:\n",
    "                    true_pos = true_pos + 1\n",
    "                    true_pos_dic.update({gene: [growth, float(row[\"p value\"])]})\n",
    "\n",
    "                # False Positive - predicts that it grows (not essential) when it actually essential\n",
    "                if float(row[\"p value\"]) < grif_thres and growth > orig_growth_thres:\n",
    "                    fal_pos = fal_pos + 1\n",
    "                    fal_pos_dic.update({gene: [growth, float(row[\"p value\"])]})\n",
    "                \n",
    "                # True Negative - predicts that the gene is essential (no growth) and is correct\n",
    "                if float(row[\"p value\"]) < grif_thres and growth < orig_growth_thres:\n",
    "                    true_neg = true_neg + 1\n",
    "                    true_neg_dic.update({gene: [growth, float(row[\"p value\"])]})\n",
    "\n",
    "                if float(row[\"p value\"]) > grif_thres and growth < orig_growth_thres:\n",
    "                    fal_neg = fal_neg + 1\n",
    "                    fal_neg_dic.update({gene: [growth, float(row[\"p value\"])]})\n",
    "                    \n",
    "                    \n",
    "            except:\n",
    "                # print \"something messed up\"\n",
    "                pass\n",
    "                        \n",
    "        elif dataset_name == \"loerger\":\n",
    "            \"\"\"\n",
    "            ES being near 0\n",
    "            NE being near the mean\n",
    "            GD approximately 1/10 the mean\n",
    "            GA 5 times the mean\n",
    "            \"\"\"\n",
    "            try:\n",
    "                growth = growth_rates.loc[gene, \"flux\"]\n",
    "                \n",
    "                # TP\n",
    "                if (row[\"Final Call\"] == \"NE\" or row[\"Final Call\"] == \"GA\") and growth > orig_growth_thres:\n",
    "                    true_pos = true_pos + 1\n",
    "                    true_pos_dic.update({gene: [growth]})\n",
    "                        \n",
    "                # FN\n",
    "                if (row[\"Final Call\"] == \"NE\" or row[\"Final Call\"] == \"GA\") and growth < orig_growth_thres:\n",
    "                    fal_neg = fal_neg + 1\n",
    "                    fal_neg_dic.update({gene: [growth]})\n",
    "                        \n",
    "                # TN\n",
    "                if (row[\"Final Call\"] == \"ES\" or row[\"Final Call\"] == \"ESD\" or row[\"Final Call\"] == \"GD\") and growth < orig_growth_thres:\n",
    "                # if (row[\"Final Call\"] == \"ES\") and growth < orig_growth_thres:\n",
    "                    true_neg = true_neg + 1\n",
    "                    true_neg_dic.update({gene: [growth]})\n",
    "                        \n",
    "                # FP\n",
    "                if (row[\"Final Call\"] == \"ES\" or row[\"Final Call\"] == \"ESD\" or row[\"Final Call\"] == \"GD\") and growth > orig_growth_thres:\n",
    "                # if (row[\"Final Call\"] == \"ES\") and growth > orig_growth_thres:\n",
    "                    fal_pos = fal_pos + 1\n",
    "                    fal_pos_dic.update({gene: [growth]})\n",
    "            except:\n",
    "                pass\n",
    "                \n",
    "            \n",
    "    # ---Analyze and Print results ---\n",
    "    print \"TP - TN - FP - FN\"\n",
    "    print true_pos, true_neg, fal_pos, fal_neg\n",
    "    \n",
    "    # percent of correct predictions\n",
    "    perc_correct = (true_pos+true_neg)/(true_pos+true_neg+fal_pos+float(fal_neg))\n",
    "    print \"percent correct: \", perc_correct\n",
    "    \n",
    "    # mcc calculation\n",
    "    MCC_root = math.sqrt((true_pos + fal_pos)*(true_pos + fal_neg)*(true_neg + fal_pos)*(true_neg + fal_neg))\n",
    "    MCC = (true_pos*true_neg - fal_pos*fal_neg)/MCC_root\n",
    "    print \"Matthew Correlation Coefficient\", MCC\n",
    "    if dic_return == \"Yes\":\n",
    "        return fal_neg_dic, fal_pos_dic\n",
    "    elif dic_return == \"Yes both\":\n",
    "        return fal_neg_dic, fal_pos_dic, true_neg_dic, true_pos_dic"
   ]
  },
  {
   "cell_type": "markdown",
   "metadata": {},
   "source": [
    "Change media"
   ]
  },
  {
   "cell_type": "code",
   "execution_count": 143,
   "metadata": {
    "collapsed": true
   },
   "outputs": [],
   "source": [
    "griffin_media = {\n",
    "    \"EX_h\": 1000, # hydrogen\n",
    "    \"EX_h2o\": 1000, # water\n",
    "    \"EX_o2\": 20.0, # oxygen\n",
    "    \"EX_asn_L\": 1.0, # asparagine\n",
    "    \"EX_nh4\": 10.0, # ammonium\n",
    "    \"EX_cit\":1.0, # citrate\n",
    "    \"EX_etoh\": 1.0, # ethanol\n",
    "    \"EX_ca2\": 1000.0, # calcium for CaCl2\n",
    "    \"EX_cl\": 1000.0, # chloride for CaCl2\n",
    "    \"EX_mg2\": 1000.0, # mg for MgSO4\n",
    "    \"EX_so4\": 1000, # so4 for MgSO4\n",
    "    \"EX_fe3\":5.0, # fe3 for ferric\n",
    "    \"EX_glyc\":1.0, # glycerol\n",
    "    \"EX_pi\":1.0, # phosphate\n",
    "    \"EX_chsterol\":1.0, # cholesterol\n",
    "}\n",
    "\n",
    "griffin_media_iOSDD= {'EX_ca2(e)': 1.0,'EX_cit(e)': 1.0,'EX_cl(e)': 1.0,'EX_cu2(e)': 1.0,'EX_fe3(e)': 1.0,\n",
    "                        'EX_asn_L(e)': 1.0,'EX_glyc(e)': 1.0,'EX_h(e)': 1.0,'EX_h2co3(e)': 1000.0,\n",
    "                        'EX_h2o(e)': 1.0,'EX_k(e)': 1.0,'EX_na1(e)': 1.0,'EX_nh4(e)': 1.0,'EX_o2(e)': 0.98,\n",
    "                        'EX_pi(e)': 1.0,'EX_so4(e)': 1.0}\n",
    "\n",
    "griffin_media_iNJ661= {u'EX_ca2_e': 1.0,u'EX_cit_e': 1.0,u'EX_cl_e': 1.0,u'EX_cu2_e': 1.0,u'EX_fe3_e': 1.0,\n",
    "                         u'EX_asn__L_e': 1.0,u'EX_glyc_e': 1.0,u'EX_h2co3_e': 999999.0,u'EX_h2o_e': 1.0,\n",
    "                         u'EX_h_e': 1.0,u'EX_k_e': 1.0,u'EX_na1_e': 1.0,u'EX_nh4_e': 1.0,u'EX_o2_e': 1.0,\n",
    "                         u'EX_pi_e': 1.0,u'EX_so4_e': 1.0}\n",
    "\n",
    "griffin_media_sMtb = {u'EX_cit': 1.0,u'EX_fe2': 1.0,u'EX_fe3': 1.0,u'EX_asn': 1.0, u'EX_glyc': 1.0,\n",
    "                    u'EX_glu__L': 0.01, # little glutamate here but really shouldnt. Necessary for sMtb\n",
    "                     u'EX_h': 1.0,u'EX_ca2': 1.0,u'EX_h2o': 1.0,u'EX_k': 1.0,u'EX_nh3': 1.0,u'EX_o2': 1.0,\n",
    "                     u'EX_pi': 1.0,u'EX_so4': 1.0,u'EX_mg2': 1.0,u'EX_chsterol': 1.0}\n",
    "\n",
    "# iSM810 doesnt have water (No H2O)\n",
    "griffin_media_iSM810 = {'R858': 1.0, # exchange for ethanol\n",
    "                        'R924': 1.0, # exchange for citrate + Fe3\n",
    "                        'R823': 1.0, # ATP -> ADP + ASP + PI ... Asparagine\n",
    "                        'R932': 1.0, # --> CHOLESTEROL_c ... Cholesterol\n",
    "                        'R800': 1.0, # <=> NH3_c ... ammonia\n",
    "                        'R804': 1.0, # <=> O2_c .... oxygen\n",
    "                        # 'R805': 1000.0, \n",
    "                        'R812': 1.0, # --> GL_c ... Glycerol\n",
    "                        }"
   ]
  },
  {
   "cell_type": "markdown",
   "metadata": {},
   "source": [
    "### Compare essentiality scores across models for 2011 data"
   ]
  },
  {
   "cell_type": "code",
   "execution_count": 144,
   "metadata": {
    "collapsed": true
   },
   "outputs": [],
   "source": [
    "model_sMtb_mapped.solver = \"gurobi\"\n",
    "model_iEK.solver = \"gurobi\"\n",
    "model_iSM810.solver = \"gurobi\""
   ]
  },
  {
   "cell_type": "code",
   "execution_count": 145,
   "metadata": {
    "collapsed": true
   },
   "outputs": [],
   "source": [
    "model_iEK = cobra.io.load_json_model(\"iEK1011_griffinEssen_media.json\")"
   ]
  },
  {
   "cell_type": "code",
   "execution_count": 146,
   "metadata": {
    "collapsed": true
   },
   "outputs": [],
   "source": [
    "model_iOSDD.medium = griffin_media_iOSDD\n",
    "model_iNJ661.medium = griffin_media_iNJ661\n",
    "\n",
    "# model_sMtb_mapped.medium = griffin_media_sMtb\n",
    "# model_iSM810.medium = {}\n",
    "# model_iSM810.medium = griffin_media_iSM810"
   ]
  },
  {
   "cell_type": "markdown",
   "metadata": {},
   "source": [
    "> **sMtb** and **iSM810** are unable to simulate the gene deletions with the Griffin media conditions defined above. The values generated below are therefore dependent upon the initial media conditions given by the model. These values are close to those determined in their respective studies (.52 for iSM810 and .52 for sMtb)."
   ]
  },
  {
   "cell_type": "markdown",
   "metadata": {},
   "source": [
    "Calculate the Matthews correlation coefficient. It should be around **0.60** for iEK1011 on the Griffin dataset.  \n",
    "\n",
    "Comment out the previous models if they were not loaded in the previous optional section above."
   ]
  },
  {
   "cell_type": "code",
   "execution_count": 86,
   "metadata": {
    "collapsed": true
   },
   "outputs": [],
   "source": [
    "# model_iEK.reactions.get_by_id(\"ATPM\").lower_bound = 0.1"
   ]
  },
  {
   "cell_type": "code",
   "execution_count": 111,
   "metadata": {
    "collapsed": true
   },
   "outputs": [
    {
     "name": "stdout",
     "output_type": "stream",
     "text": [
      "iEK1011\n",
      "Optimal growth 0.0584003656763\n",
      "Threshold growth 0.0116800731353\n",
      "TP - TN - FP - FN\n",
      "579 235 161 31\n",
      "percent correct:  0.809145129225\n",
      "Matthew Correlation Coefficient 0.601100880869\n",
      "\n",
      "sMtb\n",
      "Changed value of parameter Method to 0\n",
      "   Prev: -1  Min: -1  Max: 4  Default: -1\n",
      "Changed value of parameter Presolve to 0\n",
      "   Prev: -1  Min: -1  Max: 2  Default: -1\n",
      "Optimal growth 0.0463072145249\n",
      "Threshold growth 0.00926144290498\n",
      "TP - TN - FP - FN\n",
      "470 234 151 59\n",
      "percent correct:  0.770240700219\n",
      "Matthew Correlation Coefficient 0.525035599879\n",
      "\n",
      "iSM810\n",
      "Changed value of parameter Method to 0\n",
      "   Prev: -1  Min: -1  Max: 4  Default: -1\n",
      "Changed value of parameter Presolve to 0\n",
      "   Prev: -1  Min: -1  Max: 2  Default: -1\n",
      "Optimal growth 0.0258905585415\n",
      "Threshold growth 0.00517811170831\n",
      "TP - TN - FP - FN\n",
      "402 191 175 35\n",
      "percent correct:  0.738480697385\n",
      "Matthew Correlation Coefficient 0.489251095307\n",
      "\n",
      "iOSDD\n",
      "Optimal growth 0.0334583132244\n",
      "Threshold growth 0.00669166264488\n",
      "TP - TN - FP - FN\n",
      "434 138 267 47\n",
      "percent correct:  0.645598194131\n",
      "Matthew Correlation Coefficient 0.297859085356\n",
      "\n",
      "iNJ661\n",
      "Optimal growth 0.0312269256394\n",
      "Threshold growth 0.00624538512789\n",
      "TP - TN - FP - FN\n",
      "263 139 206 52\n",
      "percent correct:  0.609090909091\n",
      "Matthew Correlation Coefficient 0.261944091675\n"
     ]
    }
   ],
   "source": [
    "grow_thresh = .2\n",
    "print \"iEK1011\"\n",
    "FN_dic_iEK, FP_dic_iEK, TN_dic_iEK, TP_dic_iEK = essen_test(model_iEK, \"Yes both\", \"griffin\", griffin_excel, grow_thresh)\n",
    "print \n",
    "print \"sMtb\"\n",
    "FN_dic_Mtb, FP_dic_Mtb, TN_dic_Mtb, TP_dic_Mtb = essen_test(model_sMtb_mapped, \"Yes both\", \"griffin\", griffin_excel, grow_thresh)\n",
    "print \n",
    "print \"iSM810\"\n",
    "FN_dic_iSM810, FP_dic_iSM810, TN_dic_iSM810, TP_dic_iSM810 = essen_test(model_iSM810, \"Yes both\", \"griffin\", griffin_excel, grow_thresh)\n",
    "print \n",
    "print \"iOSDD\"\n",
    "FN_dic_iOSDD, FP_dic_iOSDD, TN_dic_iOSDD, TP_dic_iOSDD = essen_test(model_iOSDD, \"Yes both\", \"griffin\", griffin_excel, grow_thresh)\n",
    "print \n",
    "print \"iNJ661\"\n",
    "FN_dic_iNJ661, FP_dic_iNJ661, TN_dic_iNJ661, TP_dic_iNJ661 = essen_test(model_iNJ661, \"Yes both\", \"griffin\", griffin_excel, grow_thresh)"
   ]
  },
  {
   "cell_type": "code",
   "execution_count": 113,
   "metadata": {
    "collapsed": true
   },
   "outputs": [
    {
     "name": "stdout",
     "output_type": "stream",
     "text": [
      "48\n",
      "Rv1122\n",
      "6pgc_c + nadp_c --> co2_c + nadph_c + ru5p__D_c Pentose Phosphate Pathway\n",
      "Rv2984\n",
      "atp_c + ppi_c --> adp_c + pppi_c Purine and Pyrimidine Biosynthesis\n",
      "Rv1483\n",
      "42.0 h_c + hexc_c + 15.0 malACP_c + 30.0 nadph_c --> 14.0 ACP_c + 15.0 co2_c + 16.0 h2o_c + mmeroacidACP_c + 30.0 nadp_c Mycolic Acid Biosynthesis\n",
      "47.0 h_c + hexc_c + 16.0 malACP_c + 30.0 nadph_c --> 15.0 ACP_c + 16.0 co2_c + 17.0 h2o_c + kmeroacidACP_c + 30.0 nadp_c Mycolic Acid Biosynthesis\n",
      "33.0 h_c + hexc_c + 12.0 malACP_c + 24.0 nadph_c --> 11.0 ACP_c + 12.0 co2_c + 13.0 h2o_c + meroacidACP_c + 24.0 nadp_c Mycolic Acid Biosynthesis\n",
      "Rv1854c\n",
      "h_c + nadh_c + q8_c --> nad_c + q8h2_c Oxidative Phosphorylation\n",
      "Rv3341\n",
      "accoa_c + hom__L_c <=> achms_c + coa_c Cysteine and methionine metabolism\n",
      "Rv1409\n",
      "25dhpp_c + h2o_c + h_c --> 5apru_c + nh4_c Riboflavin Metabolism\n",
      "25drapp_c + h2o_c + h_c --> 5apru_c + nh4_c Riboflavin Metabolism\n",
      "5apru_c + h_c + nadph_c --> 5aprbu_c + nadp_c Riboflavin Metabolism\n",
      "Rv2764c\n",
      "dump_c + mlthf_c --> dhf_c + dtmp_c Purine and Pyrimidine Biosynthesis\n",
      "Rv2182c\n",
      "1hdecg3p_c + palmACP_c --> ACP_c + pa160_c Glycerophospholipid metabolism\n",
      "1msg3p_c + mstrACP_c --> ACP_c + pa190190_c Glycerophospholipid metabolism\n",
      "1hdecg3p_c + mstrACP_c --> ACP_c + pa160190_c Glycerophospholipid metabolism\n",
      "Rv1436\n",
      "g3p_c + nad_c + pi_c <=> 13dpg_c + h_c + nadh_c Glycolysis/Gluconeogenesis\n",
      "Rv1437\n",
      "3pg_c + atp_c <=> 13dpg_c + adp_c Glycolysis/Gluconeogenesis\n",
      "Rv1438\n",
      "dhap_c <=> g3p_c Glycolysis/Gluconeogenesis\n",
      "Rv3279c\n",
      "atp_c + btn_c + h_c --> btamp_c + ppi_c Cofactor and Prosthetic Group Biosynthesis\n",
      "accb_c + atp_c + h2o_c --> amp_c + bccp_c + h_c + ppi_c Mycolic acid pathway\n",
      "Rv2754c\n",
      "dump_c + h_c + mlthf_c + nadph_c --> dtmp_c + nadp_c + thf_c Purine and Pyrimidine Biosynthesis\n",
      "Rv3039c\n",
      "3.0 h2o_c + t2dodcoa_c --> d2hdodcoa_c Beta oxidation of unsaturated fatty acids\n",
      "d2hdodcoa_c + nad_c --> dodcoa_c + nadh_c Beta oxidation of unsaturated fatty acids\n",
      "coa_c + fad_c + nad_c + octdcoa_c --> accoa_c + fadh2_c + hexdcoa_c + nadh_c Fatty Acid Metabolism\n",
      "coa_c + fad_c + nad_c + nodcoa_c --> accoa_c + fadh2_c + hepdcoa_c + nadh_c Fatty Acid Metabolism\n",
      "coa_c + fad_c + hepdcoa_c + nad_c --> accoa_c + fadh2_c + nadh_c + pentdcoa_c Fatty Acid Metabolism\n",
      "butcoa_c + coa_c + fad_c + 3.0 h2o_c + nad_c --> 2.0 accoa_c + fadh2_c + 3.0 h_c + nadh_c Fatty Acid Metabolism\n",
      "coa_c + fad_c + nad_c + pentdcoa_c --> accoa_c + fadh2_c + nadh_c + trdcalcoa_c Fatty Acid Metabolism\n",
      "coa_c + fad_c + nad_c + trdcalcoa_c --> accoa_c + fadh2_c + nadh_c + undcoa_c Fatty Acid Metabolism\n",
      "coa_c + fad_c + nad_c + tdcoa_c --> accoa_c + dodcoa_c + fadh2_c + nadh_c Fatty Acid Metabolism\n",
      "coa_c + fad_c + nad_c + undcoa_c --> accoa_c + fadh2_c + nadh_c + nndccoa_c Fatty Acid Metabolism\n",
      "coa_c + fad_c + nad_c + nndccoa_c --> accoa_c + fadh2_c + hepcoa_c + nadh_c Fatty Acid Metabolism\n",
      "coa_c + fad_c + nad_c + ptcoa_c --> accoa_c + fadh2_c + nadh_c + ppcoa_c Fatty Acid Metabolism\n",
      "coa_c + fad_c + hexdcoa_c + nad_c --> accoa_c + fadh2_c + nadh_c + tdcoa_c Fatty Acid Metabolism\n",
      "coa_c + fad_c + hepcoa_c + nad_c --> accoa_c + fadh2_c + nadh_c + ptcoa_c Fatty Acid Metabolism\n",
      "c3dodcoa_c + h2o_c --> h_c + t2dodcoa_c Beta oxidation of unsaturated fatty acids\n",
      "coa_c + fad_c + nad_c + octscoa_c --> accoa_c + fadh2_c + hexscoa_c + nadh_c Fatty Acid Metabolism\n",
      "coa_c + fad_c + nad_c + occoa_c --> accoa_c + fadh2_c + hexcoa_c + nadh_c Fatty Acid Metabolism\n",
      "coa_c + fad_c + hexscoa_c + nad_c --> accoa_c + fadh2_c + nadh_c + tetscoa_c Fatty Acid Metabolism\n",
      "coa_c + fad_c + nad_c + tetscoa_c --> accoa_c + doscoa_c + fadh2_c + nadh_c Fatty Acid Metabolism\n",
      "coa_c + dodcoa_c + fad_c + nad_c --> accoa_c + decoa_c + fadh2_c + nadh_c Fatty Acid Metabolism\n",
      "coa_c + fad_c + nad_c + odecoa_c --> accoa_c + fadh2_c + hdcoa_c + nadh_c Beta oxidation of unsaturated fatty acids\n",
      "coa_c + fad_c + hdcoa_c + nad_c --> accoa_c + c5tetdcoa_c + fadh2_c + nadh_c Beta oxidation of unsaturated fatty acids\n",
      "coa_c + fad_c + hexcoa_c + nad_c --> accoa_c + butcoa_c + fadh2_c + nadh_c Fatty Acid Metabolism\n",
      "coa_c + doscoa_c + fad_c + nad_c --> accoa_c + eiscoa_c + fadh2_c + nadh_c Fatty Acid Metabolism\n",
      "coa_c + decoa_c + fad_c + nad_c --> accoa_c + fadh2_c + nadh_c + occoa_c Fatty Acid Metabolism\n",
      "coa_c + eiscoa_c + fad_c + nad_c --> accoa_c + fadh2_c + nadh_c + octdcoa_c Fatty Acid Metabolism\n",
      "c5tetdcoa_c + coa_c + fad_c + nad_c --> accoa_c + c3dodcoa_c + fadh2_c + nadh_c Beta oxidation of unsaturated fatty acids\n",
      "Rv3859c\n",
      "akg_c + gln__L_c + h_c + nadph_c --> 2.0 glu__L_c + nadp_c Alanine, Aspartate, and Glutamate Metabolism\n",
      "Rv3257c\n",
      "man1p_c <=> man6p_c Fructose and mannose metabolism\n",
      "Rv2747\n",
      "accoa_c + glu__L_c --> acglu_c + coa_c + h_c Urea Cycle\n",
      "Rv3858c\n",
      "akg_c + gln__L_c + h_c + nadph_c --> 2.0 glu__L_c + nadp_c Alanine, Aspartate, and Glutamate Metabolism\n",
      "Rv2211c\n",
      "5fthf_c + h_c <=> h2o_c + methf_c Cofactor and Prosthetic Group Biosynthesis\n",
      "alpro_c + thf_c --> dhlpro_c + mlthf_c + nh4_c Glycolysis/Gluconeogenesis\n",
      "Rv1023\n",
      "2pg_c <=> h2o_c + pep_c Glycolysis/Gluconeogenesis\n",
      "Rv2454c\n",
      "co2_c + 2.0 fdxrd_c + h_c + succoa_c <=> akg_c + coa_c + 2.0 fdxox_c Citric Acid Cycle\n",
      "Rv1617\n",
      "adp_c + h_c + pep_c --> atp_c + pyr_c Glycolysis/Gluconeogenesis\n",
      "Rv3302c\n",
      "glyc3p_c + q8_c --> dhap_c + q8h2_c Glycerophospholipid metabolism\n",
      "Rv1110\n",
      "2.0 h_c + hmbpp_c + nadh_c --> h2o_c + ipdp_c + nad_c Polyprenyl Metabolism\n",
      "h2mb4p_c + h_c + nadh_c --> dmpp_c + h2o_c + nad_c Cofactor and Prosthetic Group Biosynthesis\n",
      "Rv2247\n",
      "h_c + malcoa_c --> accoa_c + co2_c Fatty Acid Metabolism\n",
      "accoa_c + atp_c + hco3_c <=> adp_c + h_c + malcoa_c + pi_c Pyruvate Metabolism\n",
      "Rv0462\n",
      "dhlam_c + nad_c --> h_c + lpam_c + nadh_c Citric Acid Cycle\n",
      "coa_c + nad_c + pyr_c --> accoa_c + co2_c + nadh_c Glycolysis/Gluconeogenesis\n",
      "h_c + lpam_c + pyr_c --> adhlam_c + co2_c Glycolysis/Gluconeogenesis\n",
      "Rv1098c\n",
      "fum_c + h2o_c <=> mal__L_c Citric Acid Cycle\n",
      "Rv0467\n",
      "icit_c --> glx_c + succ_c Glyoxylate Metabolism\n",
      "micit_c --> pyr_c + succ_c Propanoate Metabolism\n",
      "Rv2455c\n",
      "co2_c + 2.0 fdxrd_c + h_c + succoa_c <=> akg_c + coa_c + 2.0 fdxox_c Citric Acid Cycle\n",
      "Rv1837c\n",
      "accoa_c + glx_c + h2o_c --> coa_c + h_c + mal__L_c Pyruvate Metabolism\n",
      "Rv3608c\n",
      "2ahhmd_c + 4abz_c --> dhpt_c + ppi_c Folate Metabolism\n",
      "4abz_c + 6hmhptpp_c --> dhpt_c + ppi_c Folate Metabolism\n",
      "Rv1600\n",
      "glu__L_c + imacp_c --> akg_c + hisp_c Histidine Metabolism\n",
      "Rv2439c\n",
      "atp_c + glu__L_c --> adp_c + glu5p_c Urea Cycle\n",
      "Rv3624c\n",
      "gua_c + prpp_c --> gmp_c + ppi_c Nucleotide Salvage Pathway\n",
      "prpp_c + xan_c --> ppi_c + xmp_c Nucleotide Salvage Pathway\n",
      "hxan_c + prpp_c --> imp_c + ppi_c Purine and Pyrimidine Biosynthesis\n",
      "Rv2202c\n",
      "adn_c + atp_c --> adp_c + amp_c + h_c Nucleotide Salvage Pathway\n",
      "adn_c + gtp_c --> amp_c + gdp_c + h_c Nucleotide Salvage Pathway\n",
      "adn_c + dgtp_c --> amp_c + dgdp_c + h_c Nucleotide Salvage Pathway\n",
      "Rv0951\n",
      "atp_c + coa_c + succ_c <=> adp_c + pi_c + succoa_c Citric Acid Cycle\n",
      "Rv0952\n",
      "atp_c + coa_c + succ_c <=> adp_c + pi_c + succoa_c Citric Acid Cycle\n",
      "Rv1832\n",
      "gly_c + h_c + lpro_c --> alpro_c + co2_c Glycolysis/Gluconeogenesis\n",
      "Rv0896\n",
      "accoa_c + h2o_c + oaa_c --> cit_c + coa_c + h_c Citric Acid Cycle\n",
      "Rv1464\n",
      "cys__L_c + fe2_c <=> ala__L_c + fdxox_c Cofactor and Prosthetic Group Biosynthesis\n",
      "Rv1093\n",
      "ser__L_c + thf_c --> gly_c + h2o_c + mlthf_c Glycolysis/Gluconeogenesis\n",
      "Rv3634c\n",
      "udpg_c <=> udpgal_c Nucleotide Salvage Pathway\n",
      "Rv0337c\n",
      "akg_c + phe__L_c <=> glu__L_c + phpyr_c Other Amino Acid Metabolism\n",
      "akg_c + asp__L_c <=> glu__L_c + oaa_c Alanine, Aspartate, and Glutamate Metabolism\n",
      "akg_c + tyr__L_c <=> 34hpp_c + glu__L_c Other Amino Acid Metabolism\n",
      "Rv1826\n",
      "alpro_c + thf_c --> dhlpro_c + mlthf_c + nh4_c Glycolysis/Gluconeogenesis\n",
      "gly_c + nad_c + thf_c --> co2_c + mlthf_c + nadh_c + nh4_c Folate Metabolism\n",
      "Rv1559\n",
      "thr__L_c --> 2obut_c + nh4_c Cysteine and methionine metabolism\n",
      "Rv3003c\n",
      "2obut_c + h_c + pyr_c --> 2ahbut_c + co2_c Valine, Leucine, and Isoleucine Metabolism\n",
      "h_c + 2.0 pyr_c --> alac__S_c + co2_c Valine, Leucine, and Isoleucine Metabolism\n",
      "Rv1415\n",
      "gtp_c + 3.0 h2o_c --> 25drapp_c + for_c + 2.0 h_c + ppi_c Cofactor and Prosthetic Group Biosynthesis\n",
      "gtp_c + 3.0 h2o_c --> 25dhpp_c + for_c + 2.0 h_c + ppi_c Riboflavin Metabolism\n",
      "Rv2682c\n",
      "g3p_c + h_c + pyr_c --> co2_c + dxyl5p_c Polyprenyl Metabolism\n"
     ]
    }
   ],
   "source": [
    "FP_all_models_Griffin = list(FP_dic_iEK.keys()+FP_dic_sMtb.keys()+FP_dic_iSM810.keys()+FP_dic_iOSDD.keys())\n",
    "FP_all_models_Griffin = [x[0] for x in Counter(FP_all_models_Griffin).most_common() if x[1]>3]\n",
    "\n",
    "FN_all_models_Griffin = list(FN_dic_iEK.keys()+FN_dic_sMtb.keys()+FN_dic_iSM810.keys()+FN_dic_iOSDD.keys())\n",
    "FN_all_models_Griffin = [x[0] for x in Counter(FN_all_models_Griffin).most_common() if x[1]>3]\n",
    "\n",
    "\n",
    "print len(FP_all_models_Griffin)\n",
    "\n",
    "for x in FP_all_models_Griffin:\n",
    "    print x\n",
    "    for y in model_iEK.genes.get_by_id(x).reactions:\n",
    "        print y.reaction, y.subsystem"
   ]
  },
  {
   "cell_type": "code",
   "execution_count": 94,
   "metadata": {
    "collapsed": true
   },
   "outputs": [
    {
     "data": {
      "text/html": [
       "<div>\n",
       "<style scoped>\n",
       "    .dataframe tbody tr th:only-of-type {\n",
       "        vertical-align: middle;\n",
       "    }\n",
       "\n",
       "    .dataframe tbody tr th {\n",
       "        vertical-align: top;\n",
       "    }\n",
       "\n",
       "    .dataframe thead th {\n",
       "        text-align: right;\n",
       "    }\n",
       "</style>\n",
       "<table border=\"1\" class=\"dataframe\">\n",
       "  <thead>\n",
       "    <tr style=\"text-align: right;\">\n",
       "      <th></th>\n",
       "      <th>Griffin_FP_all_models</th>\n",
       "    </tr>\n",
       "  </thead>\n",
       "  <tbody>\n",
       "    <tr>\n",
       "      <th>0</th>\n",
       "      <td>Rv1122</td>\n",
       "    </tr>\n",
       "    <tr>\n",
       "      <th>1</th>\n",
       "      <td>Rv2984</td>\n",
       "    </tr>\n",
       "    <tr>\n",
       "      <th>2</th>\n",
       "      <td>Rv1483</td>\n",
       "    </tr>\n",
       "    <tr>\n",
       "      <th>3</th>\n",
       "      <td>Rv1854c</td>\n",
       "    </tr>\n",
       "    <tr>\n",
       "      <th>4</th>\n",
       "      <td>Rv3341</td>\n",
       "    </tr>\n",
       "    <tr>\n",
       "      <th>5</th>\n",
       "      <td>Rv1409</td>\n",
       "    </tr>\n",
       "    <tr>\n",
       "      <th>6</th>\n",
       "      <td>Rv2764c</td>\n",
       "    </tr>\n",
       "    <tr>\n",
       "      <th>7</th>\n",
       "      <td>Rv2182c</td>\n",
       "    </tr>\n",
       "    <tr>\n",
       "      <th>8</th>\n",
       "      <td>Rv1436</td>\n",
       "    </tr>\n",
       "    <tr>\n",
       "      <th>9</th>\n",
       "      <td>Rv1437</td>\n",
       "    </tr>\n",
       "    <tr>\n",
       "      <th>10</th>\n",
       "      <td>Rv1438</td>\n",
       "    </tr>\n",
       "    <tr>\n",
       "      <th>11</th>\n",
       "      <td>Rv3279c</td>\n",
       "    </tr>\n",
       "    <tr>\n",
       "      <th>12</th>\n",
       "      <td>Rv2754c</td>\n",
       "    </tr>\n",
       "    <tr>\n",
       "      <th>13</th>\n",
       "      <td>Rv3039c</td>\n",
       "    </tr>\n",
       "    <tr>\n",
       "      <th>14</th>\n",
       "      <td>Rv3859c</td>\n",
       "    </tr>\n",
       "    <tr>\n",
       "      <th>15</th>\n",
       "      <td>Rv3257c</td>\n",
       "    </tr>\n",
       "    <tr>\n",
       "      <th>16</th>\n",
       "      <td>Rv2747</td>\n",
       "    </tr>\n",
       "    <tr>\n",
       "      <th>17</th>\n",
       "      <td>Rv3858c</td>\n",
       "    </tr>\n",
       "    <tr>\n",
       "      <th>18</th>\n",
       "      <td>Rv2211c</td>\n",
       "    </tr>\n",
       "    <tr>\n",
       "      <th>19</th>\n",
       "      <td>Rv1023</td>\n",
       "    </tr>\n",
       "    <tr>\n",
       "      <th>20</th>\n",
       "      <td>Rv2454c</td>\n",
       "    </tr>\n",
       "    <tr>\n",
       "      <th>21</th>\n",
       "      <td>Rv1617</td>\n",
       "    </tr>\n",
       "    <tr>\n",
       "      <th>22</th>\n",
       "      <td>Rv3302c</td>\n",
       "    </tr>\n",
       "    <tr>\n",
       "      <th>23</th>\n",
       "      <td>Rv1110</td>\n",
       "    </tr>\n",
       "    <tr>\n",
       "      <th>24</th>\n",
       "      <td>Rv2247</td>\n",
       "    </tr>\n",
       "    <tr>\n",
       "      <th>25</th>\n",
       "      <td>Rv0462</td>\n",
       "    </tr>\n",
       "    <tr>\n",
       "      <th>26</th>\n",
       "      <td>Rv1098c</td>\n",
       "    </tr>\n",
       "    <tr>\n",
       "      <th>27</th>\n",
       "      <td>Rv0467</td>\n",
       "    </tr>\n",
       "    <tr>\n",
       "      <th>28</th>\n",
       "      <td>Rv2455c</td>\n",
       "    </tr>\n",
       "    <tr>\n",
       "      <th>29</th>\n",
       "      <td>Rv1837c</td>\n",
       "    </tr>\n",
       "    <tr>\n",
       "      <th>30</th>\n",
       "      <td>Rv3608c</td>\n",
       "    </tr>\n",
       "    <tr>\n",
       "      <th>31</th>\n",
       "      <td>Rv1600</td>\n",
       "    </tr>\n",
       "    <tr>\n",
       "      <th>32</th>\n",
       "      <td>Rv2439c</td>\n",
       "    </tr>\n",
       "    <tr>\n",
       "      <th>33</th>\n",
       "      <td>Rv3624c</td>\n",
       "    </tr>\n",
       "    <tr>\n",
       "      <th>34</th>\n",
       "      <td>Rv2202c</td>\n",
       "    </tr>\n",
       "    <tr>\n",
       "      <th>35</th>\n",
       "      <td>Rv0951</td>\n",
       "    </tr>\n",
       "    <tr>\n",
       "      <th>36</th>\n",
       "      <td>Rv0952</td>\n",
       "    </tr>\n",
       "    <tr>\n",
       "      <th>37</th>\n",
       "      <td>Rv1832</td>\n",
       "    </tr>\n",
       "    <tr>\n",
       "      <th>38</th>\n",
       "      <td>Rv0896</td>\n",
       "    </tr>\n",
       "    <tr>\n",
       "      <th>39</th>\n",
       "      <td>Rv1464</td>\n",
       "    </tr>\n",
       "    <tr>\n",
       "      <th>40</th>\n",
       "      <td>Rv1093</td>\n",
       "    </tr>\n",
       "    <tr>\n",
       "      <th>41</th>\n",
       "      <td>Rv3634c</td>\n",
       "    </tr>\n",
       "    <tr>\n",
       "      <th>42</th>\n",
       "      <td>Rv0337c</td>\n",
       "    </tr>\n",
       "    <tr>\n",
       "      <th>43</th>\n",
       "      <td>Rv1826</td>\n",
       "    </tr>\n",
       "    <tr>\n",
       "      <th>44</th>\n",
       "      <td>Rv1559</td>\n",
       "    </tr>\n",
       "    <tr>\n",
       "      <th>45</th>\n",
       "      <td>Rv3003c</td>\n",
       "    </tr>\n",
       "    <tr>\n",
       "      <th>46</th>\n",
       "      <td>Rv1415</td>\n",
       "    </tr>\n",
       "    <tr>\n",
       "      <th>47</th>\n",
       "      <td>Rv2682c</td>\n",
       "    </tr>\n",
       "  </tbody>\n",
       "</table>\n",
       "</div>"
      ],
      "text/plain": [
       "   Griffin_FP_all_models\n",
       "0                 Rv1122\n",
       "1                 Rv2984\n",
       "2                 Rv1483\n",
       "3                Rv1854c\n",
       "4                 Rv3341\n",
       "5                 Rv1409\n",
       "6                Rv2764c\n",
       "7                Rv2182c\n",
       "8                 Rv1436\n",
       "9                 Rv1437\n",
       "10                Rv1438\n",
       "11               Rv3279c\n",
       "12               Rv2754c\n",
       "13               Rv3039c\n",
       "14               Rv3859c\n",
       "15               Rv3257c\n",
       "16                Rv2747\n",
       "17               Rv3858c\n",
       "18               Rv2211c\n",
       "19                Rv1023\n",
       "20               Rv2454c\n",
       "21                Rv1617\n",
       "22               Rv3302c\n",
       "23                Rv1110\n",
       "24                Rv2247\n",
       "25                Rv0462\n",
       "26               Rv1098c\n",
       "27                Rv0467\n",
       "28               Rv2455c\n",
       "29               Rv1837c\n",
       "30               Rv3608c\n",
       "31                Rv1600\n",
       "32               Rv2439c\n",
       "33               Rv3624c\n",
       "34               Rv2202c\n",
       "35                Rv0951\n",
       "36                Rv0952\n",
       "37                Rv1832\n",
       "38                Rv0896\n",
       "39                Rv1464\n",
       "40                Rv1093\n",
       "41               Rv3634c\n",
       "42               Rv0337c\n",
       "43                Rv1826\n",
       "44                Rv1559\n",
       "45               Rv3003c\n",
       "46                Rv1415\n",
       "47               Rv2682c"
      ]
     },
     "execution_count": 94,
     "metadata": {},
     "output_type": "execute_result"
    }
   ],
   "source": [
    "pd.DataFrame(FP_all_models_Griffin, columns=[\"Griffin_FP_all_models\"])"
   ]
  },
  {
   "cell_type": "code",
   "execution_count": 97,
   "metadata": {
    "scrolled": true
   },
   "outputs": [
    {
     "data": {
      "text/html": [
       "<div>\n",
       "<style scoped>\n",
       "    .dataframe tbody tr th:only-of-type {\n",
       "        vertical-align: middle;\n",
       "    }\n",
       "\n",
       "    .dataframe tbody tr th {\n",
       "        vertical-align: top;\n",
       "    }\n",
       "\n",
       "    .dataframe thead th {\n",
       "        text-align: right;\n",
       "    }\n",
       "</style>\n",
       "<table border=\"1\" class=\"dataframe\">\n",
       "  <thead>\n",
       "    <tr style=\"text-align: right;\">\n",
       "      <th></th>\n",
       "      <th>Griffin_FN_all_models</th>\n",
       "    </tr>\n",
       "  </thead>\n",
       "  <tbody>\n",
       "    <tr>\n",
       "      <th>0</th>\n",
       "      <td>Rv2445c</td>\n",
       "    </tr>\n",
       "    <tr>\n",
       "      <th>1</th>\n",
       "      <td>Rv1843c</td>\n",
       "    </tr>\n",
       "    <tr>\n",
       "      <th>2</th>\n",
       "      <td>Rv2940c</td>\n",
       "    </tr>\n",
       "    <tr>\n",
       "      <th>3</th>\n",
       "      <td>Rv0644c</td>\n",
       "    </tr>\n",
       "    <tr>\n",
       "      <th>4</th>\n",
       "      <td>Rv3398c</td>\n",
       "    </tr>\n",
       "  </tbody>\n",
       "</table>\n",
       "</div>"
      ],
      "text/plain": [
       "  Griffin_FN_all_models\n",
       "0               Rv2445c\n",
       "1               Rv1843c\n",
       "2               Rv2940c\n",
       "3               Rv0644c\n",
       "4               Rv3398c"
      ]
     },
     "execution_count": 97,
     "metadata": {},
     "output_type": "execute_result"
    }
   ],
   "source": [
    "pd.DataFrame(FN_all_models_Griffin, columns=[\"Griffin_FN_all_models\"])"
   ]
  },
  {
   "cell_type": "markdown",
   "metadata": {},
   "source": [
    "Compute for the 472 shared genes"
   ]
  },
  {
   "cell_type": "code",
   "execution_count": 147,
   "metadata": {
    "collapsed": true
   },
   "outputs": [
    {
     "name": "stdout",
     "output_type": "stream",
     "text": [
      "iEK1011\n",
      "Optimal growth 0.0584003656763\n",
      "Threshold growth 0.0116800731353\n",
      "TP - TN - FP - FN\n",
      "160 206 86 21\n",
      "percent correct:  0.77378435518\n",
      "Matthew Correlation Coefficient 0.573459326428\n",
      "\n",
      "sMtb\n",
      "Changed value of parameter Method to 0\n",
      "   Prev: -1  Min: -1  Max: 4  Default: -1\n",
      "Changed value of parameter Presolve to 0\n",
      "   Prev: -1  Min: -1  Max: 2  Default: -1\n",
      "Optimal growth 0.0463072145249\n",
      "Threshold growth 0.00926144290498\n",
      "TP - TN - FP - FN\n",
      "152 197 95 29\n",
      "percent correct:  0.737843551797\n",
      "Matthew Correlation Coefficient 0.500564245416\n",
      "\n",
      "iSM810\n",
      "Changed value of parameter Method to 0\n",
      "   Prev: -1  Min: -1  Max: 4  Default: -1\n",
      "Changed value of parameter Presolve to 0\n",
      "   Prev: -1  Min: -1  Max: 2  Default: -1\n",
      "Optimal growth 0.0258905585415\n",
      "Threshold growth 0.00517811170831\n",
      "TP - TN - FP - FN\n",
      "154 178 114 27\n",
      "percent correct:  0.701902748414\n",
      "Matthew Correlation Coefficient 0.4515839136\n",
      "\n",
      "iOSDD\n",
      "Optimal growth 0.0334583132244\n",
      "Threshold growth 0.00669166264488\n",
      "TP - TN - FP - FN\n",
      "148 122 170 33\n",
      "percent correct:  0.570824524313\n",
      "Matthew Correlation Coefficient 0.243848267534\n",
      "\n",
      "iNJ661\n",
      "Optimal growth 0.0312269256394\n",
      "Threshold growth 0.00624538512789\n",
      "TP - TN - FP - FN\n",
      "141 129 163 40\n",
      "percent correct:  0.570824524313\n",
      "Matthew Correlation Coefficient 0.223935415329\n"
     ]
    }
   ],
   "source": [
    "grow_thresh = .2 \n",
    "print \"iEK1011\"\n",
    "FN_dic_iEK, FP_dic_iEK, TN_dic_iEK, TP_dic_iEK = essen_test_sharedGenes(model_iEK, \"Yes both\", \"griffin\", griffin_excel, grow_thresh, all_shared_genes)\n",
    "print \n",
    "print \"sMtb\"\n",
    "FN_dic_Mtb, FP_dic_Mtb, TN_dic, TP_dic = essen_test_sharedGenes(model_sMtb_mapped, \"Yes both\", \"griffin\", griffin_excel, grow_thresh, all_shared_genes)\n",
    "print \n",
    "print \"iSM810\"\n",
    "FN_dic_iSM810, FP_dic_iSM810, TN_dic, TP_dic = essen_test_sharedGenes(model_iSM810, \"Yes both\", \"griffin\", griffin_excel, grow_thresh, all_shared_genes)\n",
    "print \n",
    "print \"iOSDD\"\n",
    "FN_dic, FP_dic, TN_dic, TP_dic = essen_test_sharedGenes(model_iOSDD, \"Yes both\", \"griffin\", griffin_excel, grow_thresh, all_shared_genes)\n",
    "print \n",
    "print \"iNJ661\"\n",
    "FN_dic, FP_dic, TN_dic, TP_dic = essen_test_sharedGenes(model_iNJ661, \"Yes both\", \"griffin\", griffin_excel, grow_thresh, all_shared_genes)"
   ]
  },
  {
   "cell_type": "markdown",
   "metadata": {},
   "source": [
    "### Compare essentiality scores for new 2017 Loerger data"
   ]
  },
  {
   "cell_type": "code",
   "execution_count": 148,
   "metadata": {
    "collapsed": true
   },
   "outputs": [],
   "source": [
    "model_iEK = cobra.io.load_json_model(\"iEK1011_deJesusEssen_media.json\")"
   ]
  },
  {
   "cell_type": "code",
   "execution_count": 149,
   "metadata": {
    "collapsed": true
   },
   "outputs": [],
   "source": [
    "# model_iEK.reactions.get_by_id(\"ATPM\").lower_bound = 0.1"
   ]
  },
  {
   "cell_type": "markdown",
   "metadata": {},
   "source": [
    "Calculate the Matthews Correlation Coefficient for iEK1011, it should be around **0.71**. Also, the gene essentiality scores are around **0.72** if the Griffin media is used. This can be seen if the Griffin initialized iEK1011 model is loaded first."
   ]
  },
  {
   "cell_type": "code",
   "execution_count": 44,
   "metadata": {
    "collapsed": true
   },
   "outputs": [
    {
     "name": "stdout",
     "output_type": "stream",
     "text": [
      "iEK1011----\n",
      "Optimal growth 0.0485323109645\n",
      "Threshold growth 0.0145596932893\n",
      "TP - TN - FP - FN\n",
      "666 223 71 45\n",
      "percent correct:  0.884577114428\n",
      "Matthew Correlation Coefficient 0.715195458795\n",
      "\n",
      "sMtb----\n",
      "Changed value of parameter Method to 0\n",
      "   Prev: -1  Min: -1  Max: 4  Default: -1\n",
      "Changed value of parameter Presolve to 0\n",
      "   Prev: -1  Min: -1  Max: 2  Default: -1\n",
      "Optimal growth 0.0463072145249\n",
      "Threshold growth 0.0138921643575\n",
      "TP - TN - FP - FN\n",
      "523 207 76 107\n",
      "percent correct:  0.799561883899\n",
      "Matthew Correlation Coefficient 0.546786962935\n",
      "\n",
      "iSM810----\n",
      "Changed value of parameter Method to 0\n",
      "   Prev: -1  Min: -1  Max: 4  Default: -1\n",
      "Changed value of parameter Presolve to 0\n",
      "   Prev: -1  Min: -1  Max: 2  Default: -1\n",
      "Optimal growth 0.0258905585415\n",
      "Threshold growth 0.00776716756246\n",
      "TP - TN - FP - FN\n",
      "477 181 99 44\n",
      "percent correct:  0.821473158552\n",
      "Matthew Correlation Coefficient 0.596228639696\n",
      "\n",
      "iOSDD----\n",
      "Optimal growth 0.0334583132244\n",
      "Threshold growth 0.0100374939673\n",
      "TP - TN - FP - FN\n",
      "512 124 186 61\n",
      "percent correct:  0.72027180068\n",
      "Matthew Correlation Coefficient 0.344283295878\n",
      "\n",
      "iNJ661----\n",
      "Optimal growth 0.0312269256394\n",
      "Threshold growth 0.00936807769183\n",
      "TP - TN - FP - FN\n",
      "323 124 144 67\n",
      "percent correct:  0.679331306991\n",
      "Matthew Correlation Coefficient 0.314887846948\n"
     ]
    }
   ],
   "source": [
    "grow_thresh = .3\n",
    "print \"iEK1011----\"\n",
    "FN_dic_iEK, FP_dic_iEK, TN_dic_iEK, TP_dic_iEK = essen_test(model_iEK, \"Yes both\", \"loerger\", loerger_excel, grow_thresh)\n",
    "print \n",
    "print \"sMtb----\"\n",
    "FN_dic_sMtb, FP_dic_sMtb, TN_dic_sMtb, TP_dic_sMtb = essen_test(model_sMtb_mapped, \"Yes both\", \"loerger\", loerger_excel, grow_thresh)\n",
    "print \n",
    "print \"iSM810----\"\n",
    "FN_dic_iSM810, FP_dic_iSM810, TN_dic_iSM810, TP_dic_iSM810 = essen_test(model_iSM810, \"Yes both\", \"loerger\", loerger_excel, grow_thresh)\n",
    "print \n",
    "print \"iOSDD----\"\n",
    "FN_dic_iOSDD, FP_dic_iOSDD, TN_dic_iOSDD, TP_dic = essen_test(model_iOSDD, \"Yes both\", \"loerger\", loerger_excel, grow_thresh)\n",
    "print \n",
    "print \"iNJ661----\"\n",
    "FN_dic_iNJ661, FP_dic_iNJ661, TN_dic_iNJ661, TP_dic_iNJ661 = essen_test(model_iNJ661, \"Yes both\", \"loerger\", loerger_excel, grow_thresh)"
   ]
  },
  {
   "cell_type": "code",
   "execution_count": null,
   "metadata": {
    "collapsed": true
   },
   "outputs": [],
   "source": [
    "FP_all_models_deJesus = list(FP_dic_iEK.keys()+FP_dic_sMtb.keys()+FP_dic_iSM810.keys()+FP_dic_iOSDD.keys())\n",
    "FP_all_models_deJesus = [x[0] for x in Counter(FP_all_models_deJesus).most_common() if x[1]>3]\n",
    "print len(FP_all_models_deJesus)"
   ]
  },
  {
   "cell_type": "code",
   "execution_count": null,
   "metadata": {
    "collapsed": true
   },
   "outputs": [],
   "source": [
    "for x in FP_all_models:\n",
    "    print x\n",
    "    for y in model_iEK.genes.get_by_id(x).reactions:\n",
    "        print y.reaction, y.subsystem"
   ]
  },
  {
   "cell_type": "markdown",
   "metadata": {},
   "source": [
    "Compute for 472 genes shared by all models"
   ]
  },
  {
   "cell_type": "code",
   "execution_count": 150,
   "metadata": {
    "collapsed": true
   },
   "outputs": [
    {
     "name": "stdout",
     "output_type": "stream",
     "text": [
      "iEK1011----\n",
      "Optimal growth 0.0485323109645\n",
      "Threshold growth 0.00970646219289\n",
      "TP - TN - FP - FN\n",
      "195 195 49 32\n",
      "percent correct:  0.828025477707\n",
      "Matthew Correlation Coefficient 0.658211164873\n",
      "\n",
      "sMtb----\n",
      "Changed value of parameter Method to 0\n",
      "   Prev: -1  Min: -1  Max: 4  Default: -1\n",
      "Changed value of parameter Presolve to 0\n",
      "   Prev: -1  Min: -1  Max: 2  Default: -1\n",
      "Optimal growth 0.0463072145249\n",
      "Threshold growth 0.00926144290498\n",
      "TP - TN - FP - FN\n",
      "180 179 65 47\n",
      "percent correct:  0.762208067941\n",
      "Matthew Correlation Coefficient 0.526643680549\n",
      "\n",
      "iSM810----\n",
      "Changed value of parameter Method to 0\n",
      "   Prev: -1  Min: -1  Max: 4  Default: -1\n",
      "Changed value of parameter Presolve to 0\n",
      "   Prev: -1  Min: -1  Max: 2  Default: -1\n",
      "Optimal growth 0.0258905585415\n",
      "Threshold growth 0.00517811170831\n",
      "TP - TN - FP - FN\n",
      "193 170 74 34\n",
      "percent correct:  0.770700636943\n",
      "Matthew Correlation Coefficient 0.551541333642\n",
      "\n",
      "iOSDD----\n",
      "Optimal growth 0.0334583132244\n",
      "Threshold growth 0.00669166264488\n",
      "TP - TN - FP - FN\n",
      "186 114 130 41\n",
      "percent correct:  0.636942675159\n",
      "Matthew Correlation Coefficient 0.304767844742\n",
      "\n",
      "iNJ661----\n",
      "Optimal growth 0.0312269256394\n",
      "Threshold growth 0.00624538512789\n",
      "TP - TN - FP - FN\n",
      "177 119 125 50\n",
      "percent correct:  0.628450106157\n",
      "Matthew Correlation Coefficient 0.278604647834\n"
     ]
    }
   ],
   "source": [
    "grow_thresh = .2\n",
    "print \"iEK1011----\"\n",
    "FN_dic_iEK, FP_dic_iEK, TN_dic, TP_dic = essen_test_sharedGenes(model_iEK, \"Yes both\", \"loerger\", loerger_excel, grow_thresh, all_shared_genes)\n",
    "print \n",
    "print \"sMtb----\"\n",
    "FN_dic_sMtb, FP_dic_sMtb, TN_dic_sMtb, TP_dic_sMtb = essen_test_sharedGenes(model_sMtb_mapped, \"Yes both\", \"loerger\", loerger_excel, grow_thresh, all_shared_genes)\n",
    "print \n",
    "print \"iSM810----\"\n",
    "FN_dic_iSM810, FP_dic_iSM810, TN_dic_iSM810, TP_dic_iSM810 = essen_test_sharedGenes(model_iSM810, \"Yes both\", \"loerger\", loerger_excel, grow_thresh, all_shared_genes)\n",
    "print \n",
    "print \"iOSDD----\"\n",
    "FN_dic_iOSDD, FP_dic_iOSDD, TN_dic_iOSDD, TP_dic = essen_test_sharedGenes(model_iOSDD, \"Yes both\", \"loerger\", loerger_excel, grow_thresh, all_shared_genes)\n",
    "print \n",
    "print \"iNJ661----\"\n",
    "FN_dic_iNJ661, FP_dic_iNJ661, TN_dic_iNJ661, TP_dic = essen_test_sharedGenes(model_iNJ661, \"Yes both\", \"loerger\", loerger_excel, grow_thresh, all_shared_genes)"
   ]
  },
  {
   "cell_type": "markdown",
   "metadata": {},
   "source": [
    "### Determine in vivo essential genes using Zimmerman et al 2017 MSystems data set.\n",
    "- Not in: Cholestonone (Cholesterol and Derivatives), "
   ]
  },
  {
   "cell_type": "code",
   "execution_count": 45,
   "metadata": {
    "collapsed": true
   },
   "outputs": [],
   "source": [
    "zimmerman_inVivo_media = {\n",
    "    \n",
    "    \"EX_h\": 1000, # hydrogen\n",
    "    \"EX_h2o\": 1000, # water\n",
    "    \"EX_o2\": 20.0, # oxygen\n",
    "    \n",
    "    # amino acids\n",
    "    \"EX_arg_L\": 1.0, # arginine\n",
    "    \"EX_val_L\": 1.0, # valine\n",
    "    \"EX_leu_L\": 1.0, # leucine\n",
    "    \"EX_tyr_L\": 1.0, # tyrosine\n",
    "    \"EX_asn_L\": 1.0, # asparagine\n",
    "    \n",
    "    \"EX_thr_L\": 1.0, # threonine\n",
    "    \"EX_pro_L\": 1.0, # proline\n",
    "    \n",
    "    \"EX_phe_L\": 1.0, # phenylalanine\n",
    "    \"EX_ile_L\": 1.0, # isoleucine\n",
    "    \n",
    "    \"EX_gly\": 1.0, # glycine\n",
    "    \"EX_lys_L\": 1.0, # lysine\n",
    "    \n",
    "    \"EX_his_L\": 1.0, # histidine\n",
    "    \"EX_glu_L\": 1.0, # glutamate\n",
    "    \"EX_met_L\": 1.0, # methionine\n",
    "    \"EX_ala_L\": 1.0, # alanine\n",
    "    \"EX_trp_L\": 1.0, # tryptophane\n",
    "    \"EX_ser_L\": 1.0, # serine\n",
    "    \n",
    "    # nucleotides and nucleosides\n",
    "    \"EX_nh4\": 10.0, # ammonium\n",
    "    \"EX_cit\":1.0, # citrate\n",
    "    \"EX_etoh\": 1.0, # ethanol\n",
    "    \"EX_ca2\": 1000.0, # calcium for CaCl2\n",
    "    \"EX_cl\": 1000.0, # chloride for CaCl2\n",
    "    \"EX_mg2\": 1000.0, # mg for MgSO4\n",
    "    \"EX_so4\": 1000, # so4 for MgSO4\n",
    "    \"EX_fe3\":5.0, # fe3 for ferric\n",
    "    \"EX_pi\":1.0, # phosphate\n",
    "    \n",
    "    # sugar and sugar phosphates\n",
    "    \"EX_glyc3p\":1.0, # glycerol phosphate\n",
    "    \"EX_pyr\":1.0, # pyruvate\n",
    "    \"EX_lac_L\":1.0, # lactate\n",
    "    \"EX_glc\":1.0, # glucose\n",
    "    \"EX_id3acald\":1.0, # indole 3 acetaldehyde\n",
    "    \"EX_cit\":1.0, # citrate\n",
    "    \"EX_mal_L\":1.0, # malate\n",
    "    \"EX_cytd\":1.0, # cytidine\n",
    "    \n",
    "    # lipids\n",
    "    \"lipids\":1.0, # cholesterol\n",
    "    \n",
    "    # cholesterol and derivatives\n",
    "    \"EX_chsterol\":1.0, # cholesterol\n",
    "}"
   ]
  },
  {
   "cell_type": "code",
   "execution_count": 46,
   "metadata": {
    "collapsed": true
   },
   "outputs": [
    {
     "name": "stdout",
     "output_type": "stream",
     "text": [
      "iEK\n",
      "metabolite not in iEK\n",
      "\n",
      "||~--____iSM810____--~||\n",
      "metabolite not in old iSM810\n",
      "\n",
      "||~--____sMtb____--~||\n",
      "metabolite not in old sMtb\n",
      "\n",
      "||~--____goode ol iEK1032____--~||\n",
      "metabolite not in old iEK1032\n"
     ]
    }
   ],
   "source": [
    "get_models_metab_info(\"octdca_e\")"
   ]
  },
  {
   "cell_type": "markdown",
   "metadata": {},
   "source": [
    "-----"
   ]
  },
  {
   "cell_type": "markdown",
   "metadata": {},
   "source": [
    "# 3. _in Vitro_ vs _in Vivo_ simulations\n",
    "- Two media conditions contrasting petri dish and host environment...  \n",
    "    - inVitro_drugTesting. (initialized in the model file \"iEK1011_drugTesting_media.json\")\n",
    "    - inVivo_conditions. (initialized in the model file \"iEK1011_inVivo_media.json\")\n",
    "<a id='media_comparisons'></a>"
   ]
  },
  {
   "cell_type": "markdown",
   "metadata": {},
   "source": [
    "### Compute FVA for _in vitro_ model\n",
    "\n",
    "Stated as 0.055 in the paper."
   ]
  },
  {
   "cell_type": "code",
   "execution_count": 48,
   "metadata": {
    "collapsed": true
   },
   "outputs": [
    {
     "name": "stdout",
     "output_type": "stream",
     "text": [
      "Optimal growth:  0.0581695235781\n",
      "ICL FBA flux: 0.0\n",
      "ICL pFBA flux: 0.0\n",
      "Total model flux: 45.9273535464\n",
      "----\n",
      "IN FLUXES           OUT FLUXES          OBJECTIVES\n",
      "------------------  ------------------  ---------------\n",
      "o2_e      4.94      h2co3_e    4.39     biomass  0.0553\n",
      "h_e       4.6       succ_e     1.95\n",
      "asn__L_e  1         h2o_e      1.8\n",
      "cit_e     1         nh4_e      1.62\n",
      "etoh_e    1         gmhep1p_c  0.0332\n",
      "glyc_e    1         4hba_e     4.4e-05\n",
      "pi_e      0.107\n",
      "so4_e     0.00736\n",
      "fe3_e     0.000309\n",
      "None\n",
      "----\n",
      "Max ICL flux variability: 0.1964\n"
     ]
    }
   ],
   "source": [
    "model_iEK = cobra.io.load_json_model(\"iEK1011_drugTesting_media.json\")\n",
    "\n",
    "solution = model_iEK.optimize()\n",
    "pfba_norm_solution = cobra.flux_analysis.pfba(model_iEK)\n",
    "\n",
    "print \"Optimal growth: \", pfba_norm_solution.fluxes[\"biomass\"]\n",
    "print \"ICL FBA flux:\", solution.fluxes[\"ICL\"]\n",
    "print \"ICL pFBA flux:\", pfba_norm_solution.fluxes[\"ICL\"]\n",
    "print \"Total model flux:\", pfba_norm_solution.fluxes.sum()\n",
    "\n",
    "fva_norm = cobra.flux_analysis.flux_variability_analysis(model_iEK,\n",
    "                                                        fraction_of_optimum=.95, \n",
    "                                                        solver=None)\n",
    "fva_norm = pd.DataFrame.from_dict(fva_norm).T.round(5)\n",
    "print \"----\"\n",
    "print model_iEK.summary()\n",
    "print \"----\"\n",
    "print \"Max ICL flux variability:\", fva_norm[\"ICL\"][\"maximum\"]"
   ]
  },
  {
   "cell_type": "code",
   "execution_count": 49,
   "metadata": {},
   "outputs": [
    {
     "name": "stdout",
     "output_type": "stream",
     "text": [
      "Max MCS flux variability: 0.07923\n"
     ]
    }
   ],
   "source": [
    "print \"Max MCS flux variability:\", fva_norm[\"2MCS\"][\"maximum\"]"
   ]
  },
  {
   "cell_type": "markdown",
   "metadata": {},
   "source": [
    "### Compute FVA for _in vivo_ model\n",
    "\n",
    "The hypoxic growth condition is slower with a value of 0.0374"
   ]
  },
  {
   "cell_type": "code",
   "execution_count": 50,
   "metadata": {
    "collapsed": true
   },
   "outputs": [
    {
     "name": "stdout",
     "output_type": "stream",
     "text": [
      "Optimal growth:  0.0394142187122\n",
      "ICL FBA flux: 0.0\n",
      "ICL pFBA flux: 0.0\n",
      "Total model flux: 19.6135397354\n",
      "----\n",
      "IN FLUXES            OUT FLUXES          OBJECTIVES\n",
      "-------------------  ------------------  ---------------\n",
      "h_e        13.1      co2_e      7.69     biomass  0.0374\n",
      "asp__L_e    5        nh4_e      7.08\n",
      "no3_e       1.5      ala__B_e   3.99\n",
      "asn__L_e    1.47     succ_e     3.21\n",
      "ala__L_e    1        val__L_e   0.463\n",
      "glu__L_e    1        coa_e      0.178\n",
      "o2_e        0.5      ocdcea_e   0.142\n",
      "octscoa_e   0.17     gmhep1p_c  0.023\n",
      "urea_e      0.1      ac_e       0.0045\n",
      "gln__L_e    0.0776   h2_e       0.00397\n",
      "pi_e        0.0706   4hba_e     3e-05\n",
      "nodcoa_e    0.00944\n",
      "so4_e       0.00425\n",
      "fe3_e       0.00021\n",
      "None\n",
      "----\n",
      "Max ICL flux variability: 0.30593\n"
     ]
    }
   ],
   "source": [
    "model_iEK = cobra.io.load_json_model(\"iEK1011_inVivo_media.json\")\n",
    "\n",
    "solution = model_iEK.optimize()\n",
    "pfba_hypox_solution = cobra.flux_analysis.pfba(model_iEK)\n",
    "\n",
    "print \"Optimal growth: \", pfba_hypox_solution.fluxes[\"biomass\"]\n",
    "print \"ICL FBA flux:\", solution.fluxes[\"ICL\"]\n",
    "print \"ICL pFBA flux:\", pfba_hypox_solution.fluxes[\"ICL\"]\n",
    "print \"Total model flux:\", pfba_hypox_solution.fluxes.sum()\n",
    "\n",
    "fva_hypoxia = cobra.flux_analysis.flux_variability_analysis(model_iEK,\n",
    "                                                            fraction_of_optimum=.95, \n",
    "                                                            solver=None)\n",
    "fva_hypox = pd.DataFrame.from_dict(fva_hypoxia).T.round(5)\n",
    "print \"----\"\n",
    "print model_iEK.summary()\n",
    "print \"----\"\n",
    "print \"Max ICL flux variability:\", fva_hypox[\"ICL\"][\"maximum\"]"
   ]
  },
  {
   "cell_type": "code",
   "execution_count": 51,
   "metadata": {},
   "outputs": [
    {
     "name": "stdout",
     "output_type": "stream",
     "text": [
      "Max MCS flux variability: 0.17895\n"
     ]
    }
   ],
   "source": [
    "print \"Max MCS flux variability:\", fva_hypox[\"2MCS\"][\"maximum\"]"
   ]
  },
  {
   "cell_type": "markdown",
   "metadata": {},
   "source": [
    "### Compare sampled spaces"
   ]
  },
  {
   "cell_type": "markdown",
   "metadata": {},
   "source": [
    "**_in vitro_ conditions**"
   ]
  },
  {
   "cell_type": "code",
   "execution_count": 52,
   "metadata": {
    "collapsed": true
   },
   "outputs": [
    {
     "name": "stdout",
     "output_type": "stream",
     "text": [
      "0\n",
      "0.0552610473992\n",
      "CPU times: user 41.2 s, sys: 1min 4s, total: 1min 45s\n",
      "Wall time: 1min 2s\n",
      "     2AGPEAT160  2AGPEAT180  5DGLCNR   AACPS10   AACPS11    AACPS3      ABTA  \\\n",
      "0  6.029091e-07    0.000001      0.0  0.003398  0.000357  0.001086  0.000001   \n",
      "1  5.445882e-07    0.000713      0.0  0.003397  0.000357  0.001086  0.000001   \n",
      "2  1.752697e-03    0.001513      0.0  0.003398  0.000359  0.001157  0.010316   \n",
      "3  1.804877e-03    0.001584      0.0  0.003397  0.000372  0.001269  0.012635   \n",
      "4  9.714055e-04    0.001548      0.0  0.003397  0.000372  0.001162  0.012633   \n",
      "\n",
      "        ACACT1r    ACALDi  ACBIPGT      ...        ALCD19y  EX_pc_TB  \\\n",
      "0  8.981260e-12  1.032932      0.0      ...       0.000443       0.0   \n",
      "1  8.071765e-12  1.031851      0.0      ...       0.000025       0.0   \n",
      "2  1.888338e-10  1.020515      0.0      ...       0.003668       0.0   \n",
      "3  1.946546e-09  1.049223      0.0      ...       0.001117       0.0   \n",
      "4  1.859348e-09  1.049417      0.0      ...       0.000223       0.0   \n",
      "\n",
      "   DM_ergoth_c  DM_tbsinol_c  DM_isotbsinol__13S_c  DM_isotbsinol__13R_c  \\\n",
      "0     0.000185  3.432222e-07          3.258968e-08          8.147420e-08   \n",
      "1     0.000095  2.618241e-06          2.943720e-08          7.359300e-08   \n",
      "2     0.000530  4.609191e-06          5.603277e-05          1.383475e-05   \n",
      "3     0.000096  1.933425e-05          5.784911e-05          1.510042e-05   \n",
      "4     0.000064  1.146416e-04          5.783866e-05          1.993873e-05   \n",
      "\n",
      "     DM_psd5p_c  DM_cpppg1_c  DM_scys__L_c  DM_gmhep1p_c  \n",
      "0 -5.886586e-16          0.0           0.0      0.000020  \n",
      "1 -1.110706e-15          0.0           0.0      0.000162  \n",
      "2 -1.468311e-15          0.0           0.0      0.000183  \n",
      "3 -1.650872e-15          0.0           0.0      0.000030  \n",
      "4 -5.014173e-15          0.0           0.0      0.000030  \n",
      "\n",
      "[5 rows x 1228 columns]\n"
     ]
    }
   ],
   "source": [
    "# model_iEK.medium = inVitro_drugTesting\n",
    "model_iEK = cobra.io.load_json_model(\"iEK1011_drugTesting_media.json\")\n",
    "\n",
    "# model_iEK.reactions.get_by_id(\"ATPM\").lower_bound = 1\n",
    "\n",
    "pfba_solution = cobra.flux_analysis.pfba(model_iEK)\n",
    "opt_value = pfba_solution[\"biomass\"]\n",
    "\n",
    "# -- constrain solution space to 0.95 of optimum --\n",
    "with model_iEK:\n",
    "    print model_iEK.reactions.get_by_id(\"biomass\").lower_bound\n",
    "    model_iEK.reactions.get_by_id(\"biomass\").lower_bound = opt_value*.95\n",
    "    print model_iEK.reactions.get_by_id(\"biomass\").lower_bound\n",
    "    %time inVitro_samples = sample(model_iEK, 10000, processes=4)\n",
    "    print inVitro_samples.head()"
   ]
  },
  {
   "cell_type": "markdown",
   "metadata": {},
   "source": [
    "**_in vivo_ conditions**"
   ]
  },
  {
   "cell_type": "code",
   "execution_count": 53,
   "metadata": {
    "collapsed": true
   },
   "outputs": [
    {
     "name": "stdout",
     "output_type": "stream",
     "text": [
      "0\n",
      "0.0374435077766\n",
      "CPU times: user 43.5 s, sys: 1min 3s, total: 1min 47s\n",
      "Wall time: 1min 6s\n",
      "   2AGPEAT160  2AGPEAT180  5DGLCNR   AACPS10   AACPS11    AACPS3      ABTA  \\\n",
      "0    0.000003    0.000007      0.0  0.002302  0.001042  0.002902  0.000005   \n",
      "1    0.000003    0.000007      0.0  0.002302  0.001068  0.000735  0.000005   \n",
      "2    0.000003    0.000006      0.0  0.002303  0.001064  0.000733  0.000005   \n",
      "3    0.000503    0.000007      0.0  0.002302  0.001078  0.000739  0.000005   \n",
      "4    0.000018    0.000036      0.0  0.002302  0.000261  0.000788  0.000028   \n",
      "\n",
      "        ACACT1r    ACALDi   ACBIPGT      ...        ALCD19y  EX_pc_TB  \\\n",
      "0  4.141611e-10  0.000008  0.000017      ...       0.000005       0.0   \n",
      "1  4.137064e-10  0.000180  0.000025      ...       0.000005       0.0   \n",
      "2  5.935590e-10  0.000179  0.000005      ...       0.000004       0.0   \n",
      "3  2.356614e-09  0.000180  0.000009      ...       0.000005       0.0   \n",
      "4  2.132765e-10  0.000043  0.000001      ...       0.000026       0.0   \n",
      "\n",
      "   DM_ergoth_c  DM_tbsinol_c  DM_isotbsinol__13S_c  DM_isotbsinol__13R_c  \\\n",
      "0     0.000006      0.000038          4.324925e-07              0.000253   \n",
      "1     0.000046      0.000033          4.320722e-07              0.000254   \n",
      "2     0.000130      0.000063          3.892193e-07              0.000441   \n",
      "3     0.000026      0.000107          4.361179e-07              0.000339   \n",
      "4     0.000023      0.000030          2.271920e-06              0.000036   \n",
      "\n",
      "     DM_psd5p_c  DM_cpppg1_c  DM_scys__L_c  DM_gmhep1p_c  \n",
      "0  1.024832e-07          0.0           0.0      0.000932  \n",
      "1  4.296881e-07          0.0           0.0      0.000932  \n",
      "2  4.188154e-07          0.0           0.0      0.000927  \n",
      "3  7.115194e-07          0.0           0.0      0.000932  \n",
      "4  5.384687e-07          0.0           0.0      0.000021  \n",
      "\n",
      "[5 rows x 1228 columns]\n"
     ]
    }
   ],
   "source": [
    "# model_iEK.medium = inVivo_conditions\n",
    "model_iEK = cobra.io.load_json_model(\"iEK1011_inVivo_media.json\")\n",
    "\n",
    "# model_iEK.reactions.get_by_id(\"ATPM\").lower_bound = 1\n",
    "\n",
    "pfba_solution = cobra.flux_analysis.pfba(model_iEK)\n",
    "opt_value = pfba_solution[\"biomass\"]\n",
    "\n",
    "# -- constrain solution space to 0.95 of optimum --\n",
    "with model_iEK:\n",
    "    print model_iEK.reactions.get_by_id(\"biomass\").lower_bound\n",
    "    model_iEK.reactions.get_by_id(\"biomass\").lower_bound = opt_value*.95\n",
    "    print model_iEK.reactions.get_by_id(\"biomass\").lower_bound\n",
    "    %time inVivo_samples = sample(model_iEK, 10000, processes=4)\n",
    "    print inVivo_samples.head()"
   ]
  },
  {
   "cell_type": "markdown",
   "metadata": {},
   "source": [
    "## Comparison of sampled flux distributions."
   ]
  },
  {
   "cell_type": "code",
   "execution_count": 54,
   "metadata": {
    "collapsed": true
   },
   "outputs": [],
   "source": [
    "%matplotlib inline\n",
    "plt.style.use('seaborn-white')"
   ]
  },
  {
   "cell_type": "code",
   "execution_count": 55,
   "metadata": {},
   "outputs": [
    {
     "data": {
      "image/png": "[encoded data removed]",
      "text/plain": [
       "<matplotlib.figure.Figure at 0x7f839b8dbc10>"
      ]
     },
     "metadata": {},
     "output_type": "display_data"
    },
    {
     "data": {
      "image/png": "[encoded data removed]",
      "text/plain": [
       "<matplotlib.figure.Figure at 0x7f83a09eb7d0>"
      ]
     },
     "metadata": {},
     "output_type": "display_data"
    },
    {
     "data": {
      "image/png": "[encoded data removed]",
      "text/plain": [
       "<matplotlib.figure.Figure at 0x7f839bc2c510>"
      ]
     },
     "metadata": {},
     "output_type": "display_data"
    },
    {
     "data": {
      "image/png": "[encoded data removed]",
      "text/plain": [
       "<matplotlib.figure.Figure at 0x7f839b746850>"
      ]
     },
     "metadata": {},
     "output_type": "display_data"
    },
    {
     "data": {
      "image/png": "[encoded data removed]",
      "text/plain": [
       "<matplotlib.figure.Figure at 0x7f839bbfeb90>"
      ]
     },
     "metadata": {},
     "output_type": "display_data"
    },
    {
     "data": {
      "image/png": "[encoded data removed]",
      "text/plain": [
       "<matplotlib.figure.Figure at 0x7f839b746990>"
      ]
     },
     "metadata": {},
     "output_type": "display_data"
    },
    {
     "data": {
      "image/png": "[encoded data removed]",
      "text/plain": [
       "<matplotlib.figure.Figure at 0x7f8337904790>"
      ]
     },
     "metadata": {},
     "output_type": "display_data"
    },
    {
     "data": {
      "image/png": "[encoded data removed]",
      "text/plain": [
       "<matplotlib.figure.Figure at 0x7f83505c82d0>"
      ]
     },
     "metadata": {},
     "output_type": "display_data"
    },
    {
     "data": {
      "image/png": "[encoded data removed]",
      "text/plain": [
       "<matplotlib.figure.Figure at 0x7f8350140f90>"
      ]
     },
     "metadata": {},
     "output_type": "display_data"
    },
    {
     "data": {
      "image/png": "[encoded data removed]",
      "text/plain": [
       "<matplotlib.figure.Figure at 0x7f83501b7a90>"
      ]
     },
     "metadata": {},
     "output_type": "display_data"
    }
   ],
   "source": [
    "reacts_of_interest = ['EX_succ', 'EX_ac', 'EX_nh4', 'ICL', '2MCS', 'ICDHy','KGD2', 'ENO', 'PEPCK_re', 'ATPS4r']\n",
    "for react in reacts_of_interest:\n",
    "    inVitro_samples[react].hist(bins=80)\n",
    "    inVivo_samples[react].hist(bins=80)\n",
    "    plt.title(react)\n",
    "    plt.ylabel(\"sample frequency\")\n",
    "    plt.xlabel(\"flux\")\n",
    "    plt.show()"
   ]
  },
  {
   "cell_type": "markdown",
   "metadata": {},
   "source": [
    "## Box plots of Sampled distributions\n",
    "These plots are used for **Figure 3** in the main text."
   ]
  },
  {
   "cell_type": "code",
   "execution_count": 56,
   "metadata": {
    "collapsed": true
   },
   "outputs": [],
   "source": [
    "def plot_box_plot(samples1, samples2, name1, name2, rxn, title):\n",
    "    box_1 = samples1[rxn].copy()\n",
    "    box_1.name = name1\n",
    "    box_2 = samples2[rxn].copy()\n",
    "    box_2.name = name2\n",
    "    box_df = pd.concat([box_1, box_2], axis=1)\n",
    "    color = dict(boxes='k', whiskers='k', medians='r', caps='Gray')\n",
    "    box_df.plot.box(sym='', title=title, color=color)\n",
    "    plt.ylabel(\"Flux\")\n",
    "    # save_fig_name = rxn+\"_sampling_boxplot_NGAM_1.svg\"\n",
    "    # plt.savefig(save_fig_name)"
   ]
  },
  {
   "cell_type": "code",
   "execution_count": 57,
   "metadata": {},
   "outputs": [
    {
     "data": {
      "image/png": "[encoded data removed]",
      "text/plain": [
       "<matplotlib.figure.Figure at 0x7f8337781f10>"
      ]
     },
     "metadata": {},
     "output_type": "display_data"
    },
    {
     "data": {
      "image/png": "[encoded data removed]",
      "text/plain": [
       "<matplotlib.figure.Figure at 0x7f8337563d50>"
      ]
     },
     "metadata": {},
     "output_type": "display_data"
    },
    {
     "data": {
      "image/png": "[encoded data removed]",
      "text/plain": [
       "<matplotlib.figure.Figure at 0x7f83340ad490>"
      ]
     },
     "metadata": {},
     "output_type": "display_data"
    },
    {
     "data": {
      "image/png": "[encoded data removed]",
      "text/plain": [
       "<matplotlib.figure.Figure at 0x7f83377a7710>"
      ]
     },
     "metadata": {},
     "output_type": "display_data"
    },
    {
     "data": {
      "image/png": "[encoded data removed]",
      "text/plain": [
       "<matplotlib.figure.Figure at 0x7f833733ad50>"
      ]
     },
     "metadata": {},
     "output_type": "display_data"
    },
    {
     "data": {
      "image/png": "[encoded data removed]",
      "text/plain": [
       "<matplotlib.figure.Figure at 0x7f83374c6750>"
      ]
     },
     "metadata": {},
     "output_type": "display_data"
    },
    {
     "data": {
      "image/png": "[encoded data removed]",
      "text/plain": [
       "<matplotlib.figure.Figure at 0x7f83374c6490>"
      ]
     },
     "metadata": {},
     "output_type": "display_data"
    },
    {
     "data": {
      "image/png": "[encoded data removed]",
      "text/plain": [
       "<matplotlib.figure.Figure at 0x7f839b690ad0>"
      ]
     },
     "metadata": {},
     "output_type": "display_data"
    },
    {
     "data": {
      "image/png": "[encoded data removed]",
      "text/plain": [
       "<matplotlib.figure.Figure at 0x7f83a0784510>"
      ]
     },
     "metadata": {},
     "output_type": "display_data"
    },
    {
     "data": {
      "image/png": "[encoded data removed]",
      "text/plain": [
       "<matplotlib.figure.Figure at 0x7f833787dad0>"
      ]
     },
     "metadata": {},
     "output_type": "display_data"
    }
   ],
   "source": [
    "for react in reacts_of_interest:\n",
    "    plot_box_plot(inVitro_samples, inVivo_samples, \n",
    "               \"in vitro media\", \"in vivo media\", \n",
    "               react, \n",
    "               react)"
   ]
  },
  {
   "cell_type": "markdown",
   "metadata": {},
   "source": [
    "---"
   ]
  },
  {
   "cell_type": "markdown",
   "metadata": {},
   "source": [
    "# 4. _Curated list of AMR genes for escher map_\n",
    "\n",
    "<a id='amr_genes'></a>"
   ]
  },
  {
   "cell_type": "code",
   "execution_count": 58,
   "metadata": {
    "collapsed": true
   },
   "outputs": [],
   "source": [
    "amr_gene_dic = {\n",
    "    \"EMB\": 1000,\n",
    "    \"DCPT\": 1000,\n",
    "    \"AFTA\": 1000,\n",
    "    \"ALAR\": 1000,\n",
    "    \"ALAALAr\": 1000,\n",
    "    \"ALAD_L\": 1000,\n",
    "    \"GXRA\": 1000,\n",
    "    \"CAT\": 1000,\n",
    "    \"MYCSacp58\": 1000,\n",
    "    \"MYCSacp50\": 1000,\n",
    "    \"DCPE\": 1000,\n",
    "    \"TMDS\": 1000,\n",
    "    \"FOLR2\": 1000,\n",
    "    \"APRAUR\": 1000,\n",
    "    \"DHPPDA2\": 1000,\n",
    "    \"DHFS\": 1000,\n",
    "    \"THFGLUS\": 1000,\n",
    "    \"NNAM\": 1000,\n",
    "    \"CIGAMS\": 1000,\n",
    "    \"PDIMAT\": 1000,\n",
    "    \"PPDIMAT\": 1000\n",
    "}\n",
    "\n",
    "with open('amr_gene_dic.json', 'w') as f:\n",
    "    json.dump(amr_gene_dic, f)"
   ]
  },
  {
   "cell_type": "markdown",
   "metadata": {},
   "source": [
    "----"
   ]
  },
  {
   "cell_type": "markdown",
   "metadata": {},
   "source": [
    "# 5. _Comparison of AMR objective functions between media conditions_\n",
    "1. For either in vivo or in vitro media conditions.\n",
    "    - For a drug objective.\n",
    "        - Compute FVA while holding \"biomass\" flux 20% of max growth (max \"biomass\" flux)\n",
    "            - We allow FVA to have solutions within 95% of the objective optimum.\n",
    "        - Look at the AMR reactions in FVA.\n",
    "            - these are contained in amr_gene_dic defined above\n",
    "\n",
    "<a id='amr_objective_simulation'></a>"
   ]
  },
  {
   "cell_type": "code",
   "execution_count": 60,
   "metadata": {
    "collapsed": true
   },
   "outputs": [],
   "source": [
    "def metabolite_objective_func(mod1, metab, obj_name):\n",
    "    \"\"\"\n",
    "    Take a metabolite and set it as the objective function.\n",
    "    \"\"\"\n",
    "    mod = mod1.copy()\n",
    "    metab_drain = Reaction(obj_name)\n",
    "    metab_drain.lower_bound = 0  # This is the default\n",
    "    metab_drain.upper_bound = 1000.  # This is the default\n",
    "    metab_drain.add_metabolites({mod.metabolites.get_by_id(metab): -1.0})\n",
    "    mod.add_reaction(metab_drain)\n",
    "\n",
    "    return mod\n",
    "\n",
    "def add_drugObjectives_model(drug_obj_dic, model):\n",
    "    \"\"\"\n",
    "    Take a dictionary of drug objectives and convert it to objective functions\n",
    "    \n",
    "    Returns the model with the reaction set with both upper and lower bounds to 0\n",
    "    \"\"\"\n",
    "    for name, [metab_id, metab_or_react] in drug_obj_dic.iteritems():\n",
    "        \n",
    "        print name, [metab_id, metab_or_react]\n",
    "        \n",
    "        if metab_or_react == \"metabolite\":\n",
    "            model = metabolite_objective_func(model, metab_id, name)\n",
    "            model.reactions.get_by_id(name).upper_bound = 0\n",
    "        # If metab_or_react is a reaction, do nothing. We will optimize it later.\n",
    "            \n",
    "    return model"
   ]
  },
  {
   "cell_type": "code",
   "execution_count": 61,
   "metadata": {
    "collapsed": true
   },
   "outputs": [],
   "source": [
    "# model_iEK = add_drugObjectives_model(drugObjs, model_iEK)"
   ]
  },
  {
   "cell_type": "markdown",
   "metadata": {},
   "source": [
    "**drugObjs** - dictionary of approximated objective functions."
   ]
  },
  {
   "cell_type": "code",
   "execution_count": 62,
   "metadata": {},
   "outputs": [
    {
     "name": "stdout",
     "output_type": "stream",
     "text": [
      "Add demand drain reactions for dead end metabolites\n",
      "ncam_c --> \n",
      "ethionamide_obj ['msh_c', 'metabolite']\n",
      "pas_obj ['thf_c', 'metabolite']\n",
      "ethambutol_obj ['decda__tb_c', 'metabolite']\n",
      "cycloserine_obj ['ala__L_c', 'metabolite']\n"
     ]
    }
   ],
   "source": [
    "model_iEK = cobra.io.load_json_model(\"iEK1011_inVivo_media.json\")\n",
    "\n",
    "\n",
    "print \"Add demand drain reactions for dead end metabolites\"\n",
    "for rxn_id in [\"ncam_c\"]: # , \"prpp_c\", \"h2o_c\",\"nac_c\"\n",
    "    drain_name = \"DM_\"+rxn_id\n",
    "    react = Reaction(drain_name)\n",
    "    react.name = rxn_id + \" Demand reaction\"\n",
    "    react.subsystem = 'Intracellular demand'\n",
    "    model_iEK.add_reactions([react])\n",
    "    react_string = rxn_id + \" --> \"\n",
    "    model_iEK.reactions.get_by_id(drain_name).reaction = react_string\n",
    "    print model_iEK.reactions.get_by_id(drain_name).reaction\n",
    "\n",
    "# model_iEK.reactions.get_by_id(\"UPPRT\").lower_bound = -1000\n",
    "# model_iEK.reactions.get_by_id(\"EX_h2o\").lower_bound = -1000\n",
    "# model_iEK.reactions.get_by_id(\"DM_nac_c\").lower_bound = -1000\n",
    "    \n",
    "drugObjs = {\n",
    "    \"ethambutol_obj\": [\"decda__tb_c\", \"metabolite\"],\n",
    "    \"pas_obj\": [\"thf_c\", \"metabolite\"],\n",
    "    \"cycloserine_obj\": [\"ala__L_c\", \"metabolite\"],\n",
    "    \"ethionamide_obj\": [\"msh_c\", \"metabolite\"],\n",
    "}\n",
    "\n",
    "# drugObjs = {\n",
    "#     \"ethambutol_obj\": [\"decda__tb_c\", \"metabolite\"],\n",
    "#     \"pas_obj\": [\"thf_c\", \"metabolite\"],\n",
    "#     \"cycloserine_obj\": [\"ala__L_c\", \"metabolite\"],\n",
    "#     \"ethionamide_obj\": [\"msh_c\", \"metabolite\"],\n",
    "#     \"pyrazinamide\": [\"ncam_c\", \"metabolite\"],\n",
    "# }\n",
    "\n",
    "model_iEK = add_drugObjectives_model(drugObjs, model_iEK)"
   ]
  },
  {
   "cell_type": "code",
   "execution_count": null,
   "metadata": {
    "collapsed": true
   },
   "outputs": [],
   "source": [
    "# universal = cobra.Model(\"universal_reactions\")\n",
    "# with model_iEK:\n",
    "#     model_iEK.objective = model_iEK.add_boundary(model_iEK.metabolites.ncam_c, type='demand')\n",
    "#     solution = cobra.flux_analysis.gapfilling.gapfill(model_iEK, universal)\n",
    "#     for reaction in solution[0]:\n",
    "#         print(reaction.id)\n",
    "\n",
    "\n",
    "# model_iEK.reactions.get_by_id(\"DM_ncam_c\").reaction\n",
    "\n",
    "# # model_iEK.objective = \"NNDMBRT\"\n",
    "# model_iEK.objective = \"DM_ncam_c\"\n",
    "# model_iEK.optimize().f\n",
    "\n",
    "# print model_iEK.optimize().fluxes[\"NAPRTr\"]\n",
    "# print model_iEK.optimize().fluxes[\"NNAM\"]\n",
    "\n",
    "# print \"Add demand drain reactions for dead end metabolites\"\n",
    "# for rxn_id in [\"ncam_c\",]:\n",
    "#     drain_name = \"DM_\"+rxn_id\n",
    "#     react = Reaction(drain_name)\n",
    "#     react.name = rxn_id + \" Demand reaction\"\n",
    "#     react.subsystem = 'Intracellular demand'\n",
    "#     model_iEK.add_reactions([react])\n",
    "#     react_string = rxn_id + \" --> \"\n",
    "#     model_iEK.reactions.get_by_id(drain_name).reaction = react_string\n",
    "#     print model_iEK.reactions.get_by_id(drain_name).reaction"
   ]
  },
  {
   "cell_type": "markdown",
   "metadata": {},
   "source": [
    "Set the media conditions."
   ]
  },
  {
   "cell_type": "code",
   "execution_count": 63,
   "metadata": {
    "collapsed": true
   },
   "outputs": [],
   "source": [
    "model_iEK_vivo = cobra.io.load_json_model(\"iEK1011_inVivo_media.json\")\n",
    "inVivo_media = model_iEK_vivo.medium\n",
    "\n",
    "model_iEK_vitro = cobra.io.load_json_model(\"iEK1011_drugTesting_media.json\")\n",
    "inVitro_media = model_iEK_vitro.medium"
   ]
  },
  {
   "cell_type": "markdown",
   "metadata": {},
   "source": [
    "Compute the FVA dataframes."
   ]
  },
  {
   "cell_type": "code",
   "execution_count": 64,
   "metadata": {},
   "outputs": [
    {
     "name": "stdout",
     "output_type": "stream",
     "text": [
      "ethionamide_obj 0 msh_c --> \n",
      "pas_obj 0 thf_c --> \n",
      "ethambutol_obj 0 decda__tb_c --> \n",
      "cycloserine_obj 0 ala__L_c --> \n"
     ]
    }
   ],
   "source": [
    "fva_drug_obj_df = pd.DataFrame()\n",
    "fva_diff_media_df = pd.DataFrame()\n",
    "\n",
    "for drg_obj in drugObjs.keys():\n",
    "    \n",
    "    print drg_obj,\n",
    "    print model_iEK.reactions.get_by_id(drg_obj).upper_bound, \n",
    "    print model_iEK.reactions.get_by_id(drg_obj).reaction\n",
    "    \n",
    "    # Compute FVA with the new drug obj in both conditions\n",
    "    # ----- in vitro -----\n",
    "    model_iEK.objective = \"biomass\"\n",
    "    model_iEK.medium = inVitro_media\n",
    "    opt_biomass = model_iEK.optimize().f\n",
    "    model_iEK.reactions.get_by_id(\"biomass\").lower_bound = 0.2*opt_biomass\n",
    "    \n",
    "    # Maximize the drug objective!\n",
    "    model_iEK.objective = drg_obj\n",
    "    model_iEK.reactions.get_by_id(drg_obj).upper_bound = 1000\n",
    "    \n",
    "    fva_vitro = cobra.flux_analysis.flux_variability_analysis(model_iEK,\n",
    "                                                        fraction_of_optimum=.95, \n",
    "                                                        solver=None)\n",
    "    fva_vitro_df = pd.DataFrame.from_dict(fva_vitro).round(5)\n",
    "    \n",
    "    # change back lower bound of biomass reaction to 0\n",
    "    model_iEK.reactions.get_by_id(\"biomass\").lower_bound = 0 \n",
    "    \n",
    "    # ----- in Vivo -----\n",
    "    model_iEK.objective = \"biomass\"\n",
    "    model_iEK.medium = inVivo_media\n",
    "    opt_biomass = model_iEK.optimize().f\n",
    "    model_iEK.reactions.get_by_id(\"biomass\").lower_bound = 0.2*opt_biomass\n",
    "    \n",
    "    # Maximize the drug objective!\n",
    "    model_iEK.objective = drg_obj\n",
    "    model_iEK.reactions.get_by_id(drg_obj).upper_bound = 1000\n",
    "    \n",
    "    fva_vivo = cobra.flux_analysis.flux_variability_analysis(model_iEK,\n",
    "                                                        fraction_of_optimum=.95, \n",
    "                                                        solver=None)\n",
    "    fva_vivo_df = pd.DataFrame.from_dict(fva_vivo).round(5)\n",
    "    \n",
    "    # change back lower bound of biomass reaction to 0\n",
    "    model_iEK.reactions.get_by_id(\"biomass\").lower_bound = 0 \n",
    "    \n",
    "    # fva_vitro_minus_vivo_diff\n",
    "    fva_vitro_minus_vivo_diff = fva_vitro_df - fva_vivo_df\n",
    "    fva_vitro_minus_vivo_diff.columns = [\"max_diff_\"+drg_obj, \"min_diff_\"+drg_obj]\n",
    "    \n",
    "    fva_vitro_df.columns = [\"max_vitro_\"+drg_obj, \"min_vitro_\"+drg_obj]\n",
    "    fva_vivo_df.columns = [\"max_vivo_\"+drg_obj, \"min_vivo_\"+drg_obj]\n",
    "    \n",
    "    # Set the reaction bound back to 0\n",
    "    model_iEK.reactions.get_by_id(drg_obj).upper_bound = 0\n",
    "    \n",
    "    new_df = pd.concat([fva_vitro_df, fva_vivo_df], axis=1)\n",
    "    fva_drug_obj_df = pd.concat([fva_drug_obj_df, new_df], axis=1)\n",
    "    fva_diff_media_df = pd.concat([fva_diff_media_df, fva_vitro_minus_vivo_diff], axis=1)\n",
    "    \n",
    "# set iEK objective back to biomass\n",
    "model_iEK.objective = \"biomass\"\n",
    "\n",
    "# only get major reactions.\n",
    "fva_drug_obj_AMRfilt_df = fva_drug_obj_df.copy().loc[amr_gene_dic, :]\n",
    "fva_diff_media_AMRfilt_df = fva_diff_media_df.copy().loc[amr_gene_dic, :]"
   ]
  },
  {
   "cell_type": "markdown",
   "metadata": {},
   "source": [
    "#### FVA max"
   ]
  },
  {
   "cell_type": "code",
   "execution_count": 65,
   "metadata": {
    "collapsed": true
   },
   "outputs": [],
   "source": [
    "invivo_cols, invitro_cols = [], []\n",
    "for x in fva_drug_obj_AMRfilt_df.columns:\n",
    "    if \"max_vivo\" in x:\n",
    "        invivo_cols.append(x)\n",
    "    elif \"max_vitro\" in x:\n",
    "        invitro_cols.append(x)\n",
    "        \n",
    "fva_drug_Vivofilt_df = fva_drug_obj_AMRfilt_df.copy().loc[:,invivo_cols]\n",
    "fva_drug_Vitrofilt_df = fva_drug_obj_AMRfilt_df.copy().loc[:,invitro_cols]\n",
    "\n",
    "drop_rows = []\n",
    "for index, row in fva_drug_Vivofilt_df.iterrows():\n",
    "    if row.sum()==0:\n",
    "        drop_rows.append(index)\n",
    "    elif sum(row/row.max())==4:\n",
    "        drop_rows.append(index)\n",
    "\n",
    "fva_drug_Vivofilt_df.drop(drop_rows,axis=0, inplace=True)\n",
    "\n",
    "drop_rows = []\n",
    "for index, row in fva_drug_Vitrofilt_df.iterrows():\n",
    "    if row.sum()==0:\n",
    "        drop_rows.append(index)\n",
    "    elif sum(row/row.max())==4:\n",
    "        drop_rows.append(index)\n",
    "fva_drug_Vitrofilt_df.drop(drop_rows,axis=0, inplace=True)"
   ]
  },
  {
   "cell_type": "code",
   "execution_count": 67,
   "metadata": {},
   "outputs": [
    {
     "name": "stderr",
     "output_type": "stream",
     "text": [
      "/home/user/anaconda2/lib/python2.7/site-packages/matplotlib/cbook/deprecation.py:106 \u001b[1;31mMatplotlibDeprecationWarning\u001b[0m: The axisbg attribute was deprecated in version 2.0. Use facecolor instead.\n"
     ]
    },
    {
     "data": {
      "image/png": "[encoded data removed]",
      "text/plain": [
       "<matplotlib.figure.Figure at 0x7f839b91c5d0>"
      ]
     },
     "metadata": {},
     "output_type": "display_data"
    }
   ],
   "source": [
    "g = sns.clustermap(fva_drug_Vivofilt_df.T, z_score=True, row_cluster=False, col_cluster=False)\n",
    "plt.setp(g.ax_heatmap.yaxis.get_majorticklabels(), rotation=0);\n",
    "plt.setp(g.ax_heatmap.xaxis.get_majorticklabels(), rotation=90);\n",
    "# plt.savefig(\"fva_drug_VIVO.svg\")"
   ]
  },
  {
   "cell_type": "code",
   "execution_count": 68,
   "metadata": {},
   "outputs": [
    {
     "data": {
      "image/png": "[encoded data removed]",
      "text/plain": [
       "<matplotlib.figure.Figure at 0x7f839bd80dd0>"
      ]
     },
     "metadata": {},
     "output_type": "display_data"
    }
   ],
   "source": [
    "g = sns.clustermap(fva_drug_Vitrofilt_df.T, z_score=True, row_cluster=False, col_cluster=False)\n",
    "plt.setp(g.ax_heatmap.yaxis.get_majorticklabels(), rotation=0);\n",
    "plt.setp(g.ax_heatmap.xaxis.get_majorticklabels(), rotation=90);\n",
    "# plt.savefig(\"fva_drug_VITRO.svg\")"
   ]
  },
  {
   "cell_type": "markdown",
   "metadata": {},
   "source": [
    "### FVA min"
   ]
  },
  {
   "cell_type": "code",
   "execution_count": 69,
   "metadata": {
    "collapsed": true
   },
   "outputs": [],
   "source": [
    "invivo_cols, invitro_cols = [], []\n",
    "for x in fva_drug_obj_AMRfilt_df.columns:\n",
    "    if \"min_vivo\" in x:\n",
    "        invivo_cols.append(x)\n",
    "    elif \"min_vitro\" in x:\n",
    "        invitro_cols.append(x)\n",
    "        \n",
    "fva_drug_Vivofilt_df = fva_drug_obj_AMRfilt_df.copy().loc[:,invivo_cols]\n",
    "fva_drug_Vitrofilt_df = fva_drug_obj_AMRfilt_df.copy().loc[:,invitro_cols]\n",
    "\n",
    "drop_rows = []\n",
    "for index, row in fva_drug_Vivofilt_df.iterrows():\n",
    "    if row.sum()==0:\n",
    "        drop_rows.append(index)\n",
    "    elif sum(row/row.max())==4:\n",
    "        drop_rows.append(index)\n",
    "\n",
    "fva_drug_Vivofilt_df.drop(drop_rows,axis=0, inplace=True)\n",
    "\n",
    "drop_rows = []\n",
    "for index, row in fva_drug_Vitrofilt_df.iterrows():\n",
    "    if row.sum()==0:\n",
    "        drop_rows.append(index)\n",
    "    elif sum(row/row.max())==4:\n",
    "        drop_rows.append(index)\n",
    "fva_drug_Vitrofilt_df.drop(drop_rows,axis=0, inplace=True)"
   ]
  },
  {
   "cell_type": "markdown",
   "metadata": {},
   "source": [
    "###  ~~Kendall correlation matrix for FVA drug objectives between in vivo and in vitro conditions~~"
   ]
  },
  {
   "cell_type": "code",
   "execution_count": null,
   "metadata": {
    "collapsed": true
   },
   "outputs": [],
   "source": [
    "#### in vivo conditions\n",
    "\n",
    "sns.set(font_scale=2)\n",
    "\n",
    "drop_rows = []\n",
    "for index, row in fva_drug_Vivofilt_df.iterrows():\n",
    "    if row.sum()==0:\n",
    "        drop_rows.append(index)\n",
    "    elif sum(row/row.max())==4:\n",
    "        drop_rows.append(index)\n",
    "#     elif row.sum()>1000:\n",
    "#         drop_rows.append(index)\n",
    "fva_drug_Vivofilt_df.drop(drop_rows,axis=0, inplace=True)\n",
    "\n",
    "fva_drug_vivo_corr = fva_drug_Vivofilt_df.T.corr(method=\"kendall\")\n",
    "\n",
    "\n",
    "g = sns.clustermap(fva_drug_vivo_corr, z_score=True)\n",
    "plt.setp(g.ax_heatmap.yaxis.get_majorticklabels(), rotation=0);\n",
    "plt.setp(g.ax_heatmap.xaxis.get_majorticklabels(), rotation=90);\n",
    "# plt.savefig(\"fva_drug_VIVO_kendallclustermap.svg\")\n",
    "\n",
    "\n",
    "\n",
    "\n",
    "#### in vitro conditions\n",
    "\n",
    "drop_rows = []\n",
    "for index, row in fva_drug_Vitrofilt_df.iterrows():\n",
    "    if row.sum()==0:\n",
    "        drop_rows.append(index)\n",
    "    elif sum(row/row.max())==4:\n",
    "        drop_rows.append(index)\n",
    "fva_drug_Vitrofilt_df.drop(drop_rows,axis=0, inplace=True)\n",
    "\n",
    "fva_drug_vitro_corr = fva_drug_Vitrofilt_df.T.corr(method=\"kendall\")\n",
    "\n",
    "# %matplotlib inline\n",
    "# sns.heatmap(fva_drug_vivo_corr)\n",
    "\n",
    "g = sns.clustermap(fva_drug_vitro_corr)\n",
    "plt.setp(g.ax_heatmap.yaxis.get_majorticklabels(), rotation=0);\n",
    "plt.setp(g.ax_heatmap.xaxis.get_majorticklabels(), rotation=90);\n",
    "# plt.savefig(\"fva_drug_VITRO_kendallclustermap.svg\")"
   ]
  },
  {
   "cell_type": "markdown",
   "metadata": {},
   "source": [
    "----"
   ]
  },
  {
   "cell_type": "markdown",
   "metadata": {},
   "source": [
    "# 6. _Output to excel sheet._\n",
    "\n",
    "- Simulations above for fva_norm and fva_hypox must be run above to run the output code below.\n",
    "- Simulations above for fva_drug_vitro and fva_drug_vivo must be run above as well.\n",
    "\n",
    "Prepare _iEK1011_ reaction and metabolite sheets. The gene sheet with references was manually generated.\n",
    "\n",
    "<a id='save_model_to_supplementary'></a>"
   ]
  },
  {
   "cell_type": "markdown",
   "metadata": {},
   "source": [
    "#### Map references from other models to excel."
   ]
  },
  {
   "cell_type": "code",
   "execution_count": 70,
   "metadata": {},
   "outputs": [
    {
     "name": "stdout",
     "output_type": "stream",
     "text": [
      "981\n"
     ]
    }
   ],
   "source": [
    "sMtb_react_ids = [x.id for x in model_sMtb_mapped.reactions]\n",
    "iEKold_react_ids = [x.id for x in model_iEK1032old.reactions]\n",
    "iOSDD_react_ids = [x.id for x in model_iOSDD.reactions]\n",
    "iSM810_react_ids = [x.id for x in model_iSM810.reactions]\n",
    "\n",
    "iEK_to_reference = {}\n",
    "\n",
    "for react in model_iEK.reactions:\n",
    "    \n",
    "    react_id = react.id\n",
    "    react_name = react.name\n",
    "    react_gpr = react.gene_reaction_rule\n",
    "    \n",
    "    iEK_to_reference.update({react_id: []})\n",
    "    \n",
    "    if react_id in sMtb_react_ids:\n",
    "        iEK_to_reference[react_id].append(\"sMtb\")\n",
    "        \n",
    "    if react_id in sMtb_react_ids:\n",
    "        iEK_to_reference[react_id].append(\"iEKold\")\n",
    "        \n",
    "    if react_id in iOSDD_react_ids:\n",
    "        iEK_to_reference[react_id].append(\"iOSDD\")\n",
    "\n",
    "\n",
    "iEK_TRUE_reference = {}\n",
    "no_models_ref = {}\n",
    "\n",
    "for react, model_list in iEK_to_reference.iteritems():\n",
    "    \n",
    "    if len(model_list) != 0:\n",
    "        iEK_gpr = model_iEK.reactions.get_by_id(react).gene_reaction_rule\n",
    "        \n",
    "        for m in model_list:\n",
    "            \n",
    "            new_gpr = '--'\n",
    "            m_ref = '--'\n",
    "            \n",
    "            if m == \"sMtb\":\n",
    "                new_gpr = model_sMtb_mapped.reactions.get_by_id(react).gene_reaction_rule\n",
    "                m_ref = \"sMtb: Rienksma et al. 2014\"\n",
    "                \n",
    "            if m == \"iOSDD\":\n",
    "                new_gpr = model_iOSDD.reactions.get_by_id(react).gene_reaction_rule\n",
    "                m_ref = \"iOSDD: Vashisht et al. 2014\"\n",
    "                \n",
    "            if m == \"iEKold\":\n",
    "                new_gpr = model_iEK1032old.reactions.get_by_id(react).gene_reaction_rule\n",
    "                m_ref = \"BioCyc DB 20.0: Caspi et al. 2016\"\n",
    "        \n",
    "            if iEK_gpr == new_gpr:\n",
    "                \n",
    "                if react not in iEK_TRUE_reference.keys():\n",
    "                    iEK_TRUE_reference.update({react: [m_ref]})\n",
    "                else:\n",
    "                    iEK_TRUE_reference[react].append(m_ref)\n",
    "    \n",
    "    else:\n",
    "        if str(react[:3]) == \"EX_\":\n",
    "            iEK_TRUE_reference.update({react: [\"No reference: Exchange reaction\"]})\n",
    "        else:\n",
    "            no_models_ref.update({react: \"No ref\"})\n",
    "\n",
    "manual_ref= {u'3HBCOAHL': 'sMtb: Rienksma et al. 2014',\n",
    "             u'ACONMT': 'BioCyc DB 20.0: Caspi et al. 2016',\n",
    "             u'AKGDH': '',\n",
    "             u'AKGDa': 'sMtb: Rienksma et al. 2014',\n",
    "             u'APSR': 'iOSDD: Vashisht et al. 2014',\n",
    "             u'ATPM': '',\n",
    "             u'CYSK2_I': 'Steiner et al. 2014',\n",
    "             u'CYSM_I': 'Agren et al. 2008',\n",
    "             u'CYSM_II': 'Agren et al. 2008',\n",
    "             u'CYSO_I': 'Burns et al. 2005',\n",
    "             u'CYSO_II': 'Burns et al. 2005',\n",
    "             u'DGTP8DETOX': 'BioCyc Database 20.0',\n",
    "             u'DGTP8OXO': 'BioCyc Database 20.0',\n",
    "             u'DM_EX_pc_TB': 'Artificial Drain',\n",
    "             u'DM_cpppg1_c': 'Artificial Drain',\n",
    "             u'DM_ergoth_c': 'Artificial Drain',\n",
    "             u'DM_gmhep1p_c': 'Artificial Drain',\n",
    "             u'DM_isotbsinol__13R_c': 'Artificial Drain',\n",
    "             u'DM_isotbsinol__13S_c': 'Artificial Drain',\n",
    "             u'DM_psd5p_c': 'Artificial Drain',\n",
    "             u'DM_scys__L_c': 'Artificial Drain',\n",
    "             u'DM_tbsinol_c': 'Artificial Drain',\n",
    "             u'EGTB': 'Richard-Greenblatt et al. 2015',\n",
    "             u'EGTC': 'Richard-Greenblatt et al. 2015',\n",
    "             u'EGTD': 'Richard-Greenblatt et al. 2015',\n",
    "             u'EGTE': 'Richard-Greenblatt et al. 2015',\n",
    "             u'EPH': 'BioCyc Database 20.0',\n",
    "             u'GMHEPK': 'iOSDD: Vashisht et al. 2014',\n",
    "             u'GMHEPPA': 'iOSDD: Vashisht et al. 2014',\n",
    "             u'GTP8OXO': 'BioCyc Database 20.0',\n",
    "             u'GXRA': 'Michelle M. Griffin et al. 2012',\n",
    "             u'MAK': 'Ma et al. 2015',\n",
    "             u'MANPGH': 'BioCyc Database 20.0',\n",
    "             u'MHUD1': 'Nambu et al. 2013',\n",
    "             u'NODCOAt': '',\n",
    "             u'OCTSCOAt': '',\n",
    "             u'PHEMEt': 'Tillius et al 2011',\n",
    "             u'ROSFE': 'BioCyc Database 20.0',\n",
    "             u'TBSNLS1': 'Layre et al. 2014',\n",
    "             u'TBSNLS2': 'Layre et al. 2014',\n",
    "             u'TBSNLS3': 'Layre et al. 2014',\n",
    "             u'TBSYNLDPS': 'Layre et al. 2014',\n",
    "             u'VPAMTr': '',\n",
    "             u'biomass': ''}\n",
    "print len(iEK_TRUE_reference.keys())"
   ]
  },
  {
   "cell_type": "code",
   "execution_count": 71,
   "metadata": {},
   "outputs": [
    {
     "name": "stdout",
     "output_type": "stream",
     "text": [
      "{u'EX_k': 1000, u'EX_cu2': 1000.0, u'EX_fe2': 1000.0, u'EX_ca2': 1000.0, u'EX_glu_L': 1.0, u'EX_nh4': 20, u'EX_ac': 10, u'EX_co2': 1000, u'EX_fe3': 1000.0, u'EX_cl': 1000.0, u'EX_h': 1000, u'EX_btn': 1, u'EX_mobd': 1000, u'EX_na1': 1000, u'EX_pi': 1000, u'EX_h2co3': 1000, u'EX_cit': 1.0, u'EX_o2': 20, u'EX_so4': 1000, u'EX_pydxn': 1, u'EX_mg2': 1000.0}\n"
     ]
    }
   ],
   "source": [
    "model_iEK = cobra.io.load_json_model(\"iEK1011_m7H10_media.json\")\n",
    "print model_iEK.medium\n",
    "react_dict = []\n",
    "for react in model_iEK.reactions:\n",
    "    \n",
    "    if len(react.name)==0:\n",
    "        react_name = str(react.id)\n",
    "    else:\n",
    "        react_name = str(react.name)\n",
    "        \n",
    "    if str(react.id) in iEK_TRUE_reference.keys():\n",
    "        references = iEK_TRUE_reference[react.id]\n",
    "        references = \", \".join(references)\n",
    "    elif str(react.id) in manual_ref.keys():\n",
    "        references = manual_ref[react.id]\n",
    "        \n",
    "    \n",
    "    react_dict.append({'Reaction ID': str(react.id), \n",
    "                       'Reaction Name': react_name, \n",
    "                       'Subsystem': str(react.subsystem), \n",
    "                       'Reaction Formula': str(react.reaction),\n",
    "                       'Lower Bound': str(react.lower_bound),\n",
    "                       'Upper Bound': str(react.upper_bound),\n",
    "                       'Gene Reaction Rule': str(react.gene_reaction_rule),\n",
    "                       'Reaction Reference': references\n",
    "                 })\n",
    "react_df = pd.DataFrame(react_dict)\n",
    "react_df = react_df[[\"Reaction ID\", 'Reaction Name', 'Subsystem', 'Reaction Formula', \n",
    "                     'Lower Bound', 'Upper Bound', 'Gene Reaction Rule', 'Reaction Reference' ]]\n",
    "\n",
    "metab_dict = []\n",
    "for metab in model_iEK.metabolites:\n",
    "    \n",
    "    metab_dict.append({'Metabolite ID': str(metab.id), \n",
    "                       'Metabolite Name': str(metab.name), \n",
    "                       'Metabolite Formula': str(metab.formula), \n",
    "                 })\n",
    "metab_df = pd.DataFrame(metab_dict)\n",
    "metab_df = metab_df[[\"Metabolite ID\", 'Metabolite Name', 'Metabolite Formula']]"
   ]
  },
  {
   "cell_type": "markdown",
   "metadata": {},
   "source": [
    "Prepare Griffin Essentiality sheet."
   ]
  },
  {
   "cell_type": "code",
   "execution_count": 72,
   "metadata": {},
   "outputs": [
    {
     "name": "stdout",
     "output_type": "stream",
     "text": [
      "Optimal growth 0.0584003656763\n",
      "Threshold growth 0.0175201097029\n",
      "TP - TN - FP - FN\n",
      "579 235 161 31\n",
      "percent correct:  0.809145129225\n",
      "Matthew Correlation Coefficient 0.601100880869\n"
     ]
    },
    {
     "data": {
      "text/html": [
       "<div>\n",
       "<style scoped>\n",
       "    .dataframe tbody tr th:only-of-type {\n",
       "        vertical-align: middle;\n",
       "    }\n",
       "\n",
       "    .dataframe tbody tr th {\n",
       "        vertical-align: top;\n",
       "    }\n",
       "\n",
       "    .dataframe thead th {\n",
       "        text-align: right;\n",
       "    }\n",
       "</style>\n",
       "<table border=\"1\" class=\"dataframe\">\n",
       "  <thead>\n",
       "    <tr style=\"text-align: right;\">\n",
       "      <th></th>\n",
       "      <th>Gene</th>\n",
       "      <th>KO Growth Rate</th>\n",
       "      <th>Griffin Essentiality P-Value</th>\n",
       "      <th>Error Type</th>\n",
       "    </tr>\n",
       "  </thead>\n",
       "  <tbody>\n",
       "    <tr>\n",
       "      <th>0</th>\n",
       "      <td>Rv1295</td>\n",
       "      <td>0.000000e+00</td>\n",
       "      <td>0.00001</td>\n",
       "      <td>True Negative</td>\n",
       "    </tr>\n",
       "    <tr>\n",
       "      <th>1</th>\n",
       "      <td>Rv2573</td>\n",
       "      <td>2.325557e-30</td>\n",
       "      <td>0.71349</td>\n",
       "      <td>False Negative</td>\n",
       "    </tr>\n",
       "    <tr>\n",
       "      <th>2</th>\n",
       "      <td>Rv3290c</td>\n",
       "      <td>5.840037e-02</td>\n",
       "      <td>0.96172</td>\n",
       "      <td>True Positive</td>\n",
       "    </tr>\n",
       "    <tr>\n",
       "      <th>3</th>\n",
       "      <td>Rv2589</td>\n",
       "      <td>5.840037e-02</td>\n",
       "      <td>0.93677</td>\n",
       "      <td>True Positive</td>\n",
       "    </tr>\n",
       "    <tr>\n",
       "      <th>4</th>\n",
       "      <td>Rv1323</td>\n",
       "      <td>5.840037e-02</td>\n",
       "      <td>0.84779</td>\n",
       "      <td>True Positive</td>\n",
       "    </tr>\n",
       "  </tbody>\n",
       "</table>\n",
       "</div>"
      ],
      "text/plain": [
       "      Gene  KO Growth Rate  Griffin Essentiality P-Value      Error Type\n",
       "0   Rv1295    0.000000e+00                       0.00001   True Negative\n",
       "1   Rv2573    2.325557e-30                       0.71349  False Negative\n",
       "2  Rv3290c    5.840037e-02                       0.96172   True Positive\n",
       "3   Rv2589    5.840037e-02                       0.93677   True Positive\n",
       "4   Rv1323    5.840037e-02                       0.84779   True Positive"
      ]
     },
     "execution_count": 72,
     "metadata": {},
     "output_type": "execute_result"
    }
   ],
   "source": [
    "model_iEK = cobra.io.load_json_model(\"iEK1011_griffinEssen_media.json\")\n",
    "griffin_media = model_iEK.medium\n",
    "FN_dic, FP_dic, TN_dic, TP_dic = essen_test(model_iEK, \"Yes both\", \"griffin\", griffin_excel, grow_thresh)\n",
    "\n",
    "gene_essential_dic = []\n",
    "for gene in model_iEK.genes:\n",
    "    g = str(gene)\n",
    "    if g in FN_dic.keys():\n",
    "        ko_growth_rate = FN_dic[g][0]\n",
    "        griff_p_val = FN_dic[g][1]\n",
    "        error_type = \"False Negative\"\n",
    "    if g in FP_dic.keys():\n",
    "        ko_growth_rate = FP_dic[g][0]\n",
    "        griff_p_val = FP_dic[g][1]\n",
    "        error_type = \"False Positive\"\n",
    "    if g in TN_dic.keys():\n",
    "        ko_growth_rate = TN_dic[g][0]\n",
    "        griff_p_val = TN_dic[g][1]\n",
    "        error_type = \"True Negative\"\n",
    "    if g in TP_dic.keys():\n",
    "        ko_growth_rate = TP_dic[g][0]\n",
    "        griff_p_val = TP_dic[g][1]\n",
    "        error_type = \"True Positive\"\n",
    "    gene_essential_dic.append({\"Gene\": g, \n",
    "                               \"KO Growth Rate\": ko_growth_rate, \n",
    "                               \"Griffin Essentiality P-Value\": griff_p_val,\n",
    "                               \"Error Type\": error_type\n",
    "                              })\n",
    "    \n",
    "gene_griffin_essen_df = pd.DataFrame(gene_essential_dic)\n",
    "gene_griffin_essen_df = gene_griffin_essen_df[[\"Gene\", \"KO Growth Rate\", \"Griffin Essentiality P-Value\", \"Error Type\"]]\n",
    "gene_griffin_essen_df.head()"
   ]
  },
  {
   "cell_type": "markdown",
   "metadata": {},
   "source": [
    "Perform accuracy computation for Griffin dataset for shared 472 genes."
   ]
  },
  {
   "cell_type": "code",
   "execution_count": 73,
   "metadata": {},
   "outputs": [
    {
     "name": "stdout",
     "output_type": "stream",
     "text": [
      "Optimal growth 0.0584003656763\n",
      "Threshold growth 0.0175201097029\n",
      "TP - TN - FP - FN\n",
      "579 235 161 31\n",
      "percent correct:  0.809145129225\n",
      "Matthew Correlation Coefficient 0.601100880869\n"
     ]
    },
    {
     "data": {
      "text/html": [
       "<div>\n",
       "<style scoped>\n",
       "    .dataframe tbody tr th:only-of-type {\n",
       "        vertical-align: middle;\n",
       "    }\n",
       "\n",
       "    .dataframe tbody tr th {\n",
       "        vertical-align: top;\n",
       "    }\n",
       "\n",
       "    .dataframe thead th {\n",
       "        text-align: right;\n",
       "    }\n",
       "</style>\n",
       "<table border=\"1\" class=\"dataframe\">\n",
       "  <thead>\n",
       "    <tr style=\"text-align: right;\">\n",
       "      <th></th>\n",
       "      <th>Gene</th>\n",
       "      <th>KO Growth Rate</th>\n",
       "      <th>Griffin Essentiality P-Value</th>\n",
       "      <th>Error Type</th>\n",
       "    </tr>\n",
       "  </thead>\n",
       "  <tbody>\n",
       "    <tr>\n",
       "      <th>0</th>\n",
       "      <td>Rv1295</td>\n",
       "      <td>0.000000e+00</td>\n",
       "      <td>0.00001</td>\n",
       "      <td>True Negative</td>\n",
       "    </tr>\n",
       "    <tr>\n",
       "      <th>1</th>\n",
       "      <td>Rv2573</td>\n",
       "      <td>2.325557e-30</td>\n",
       "      <td>0.71349</td>\n",
       "      <td>False Negative</td>\n",
       "    </tr>\n",
       "    <tr>\n",
       "      <th>2</th>\n",
       "      <td>Rv3290c</td>\n",
       "      <td>5.840037e-02</td>\n",
       "      <td>0.96172</td>\n",
       "      <td>True Positive</td>\n",
       "    </tr>\n",
       "    <tr>\n",
       "      <th>3</th>\n",
       "      <td>Rv2589</td>\n",
       "      <td>5.840037e-02</td>\n",
       "      <td>0.93677</td>\n",
       "      <td>True Positive</td>\n",
       "    </tr>\n",
       "    <tr>\n",
       "      <th>4</th>\n",
       "      <td>Rv1323</td>\n",
       "      <td>5.840037e-02</td>\n",
       "      <td>0.84779</td>\n",
       "      <td>True Positive</td>\n",
       "    </tr>\n",
       "  </tbody>\n",
       "</table>\n",
       "</div>"
      ],
      "text/plain": [
       "      Gene  KO Growth Rate  Griffin Essentiality P-Value      Error Type\n",
       "0   Rv1295    0.000000e+00                       0.00001   True Negative\n",
       "1   Rv2573    2.325557e-30                       0.71349  False Negative\n",
       "2  Rv3290c    5.840037e-02                       0.96172   True Positive\n",
       "3   Rv2589    5.840037e-02                       0.93677   True Positive\n",
       "4   Rv1323    5.840037e-02                       0.84779   True Positive"
      ]
     },
     "execution_count": 73,
     "metadata": {},
     "output_type": "execute_result"
    }
   ],
   "source": [
    "model_iEK = cobra.io.load_json_model(\"iEK1011_griffinEssen_media.json\")\n",
    "griffin_media = model_iEK.medium\n",
    "FN_dic_iEK, FP_dic_iEK, TN_dic_iEK, TP_dic_iEK = essen_test(model_iEK, \"Yes both\", \"griffin\", griffin_excel, grow_thresh)\n",
    "\n",
    "gene_essential_dic = []\n",
    "for gene in model_iEK.genes:\n",
    "    g = str(gene)\n",
    "    if g in FN_dic.keys():\n",
    "        ko_growth_rate = FN_dic[g][0]\n",
    "        griff_p_val = FN_dic[g][1]\n",
    "        error_type = \"False Negative\"\n",
    "    if g in FP_dic.keys():\n",
    "        ko_growth_rate = FP_dic[g][0]\n",
    "        griff_p_val = FP_dic[g][1]\n",
    "        error_type = \"False Positive\"\n",
    "    if g in TN_dic.keys():\n",
    "        ko_growth_rate = TN_dic[g][0]\n",
    "        griff_p_val = TN_dic[g][1]\n",
    "        error_type = \"True Negative\"\n",
    "    if g in TP_dic.keys():\n",
    "        ko_growth_rate = TP_dic[g][0]\n",
    "        griff_p_val = TP_dic[g][1]\n",
    "        error_type = \"True Positive\"\n",
    "    gene_essential_dic.append({\"Gene\": g, \n",
    "                               \"KO Growth Rate\": ko_growth_rate, \n",
    "                               \"Griffin Essentiality P-Value\": griff_p_val,\n",
    "                               \"Error Type\": error_type\n",
    "                              })\n",
    "    \n",
    "shared_gene_griffin_essen_df = pd.DataFrame(gene_essential_dic)\n",
    "shared_gene_griffin_essen_df = gene_griffin_essen_df[[\"Gene\", \"KO Growth Rate\", \"Griffin Essentiality P-Value\", \"Error Type\"]]\n",
    "shared_gene_griffin_essen_df.head()"
   ]
  },
  {
   "cell_type": "markdown",
   "metadata": {},
   "source": [
    "Prepare DeJesus Essentiality dataset"
   ]
  },
  {
   "cell_type": "code",
   "execution_count": 74,
   "metadata": {},
   "outputs": [
    {
     "name": "stdout",
     "output_type": "stream",
     "text": [
      "Optimal growth 0.0485323109645\n",
      "Threshold growth 0.0145596932893\n",
      "TP - TN - FP - FN\n",
      "666 223 71 45\n",
      "percent correct:  0.884577114428\n",
      "Matthew Correlation Coefficient 0.715195458795\n"
     ]
    },
    {
     "data": {
      "text/html": [
       "<div>\n",
       "<style scoped>\n",
       "    .dataframe tbody tr th:only-of-type {\n",
       "        vertical-align: middle;\n",
       "    }\n",
       "\n",
       "    .dataframe tbody tr th {\n",
       "        vertical-align: top;\n",
       "    }\n",
       "\n",
       "    .dataframe thead th {\n",
       "        text-align: right;\n",
       "    }\n",
       "</style>\n",
       "<table border=\"1\" class=\"dataframe\">\n",
       "  <thead>\n",
       "    <tr style=\"text-align: right;\">\n",
       "      <th></th>\n",
       "      <th>Gene</th>\n",
       "      <th>KO Growth Rate</th>\n",
       "      <th>Error Type</th>\n",
       "    </tr>\n",
       "  </thead>\n",
       "  <tbody>\n",
       "    <tr>\n",
       "      <th>0</th>\n",
       "      <td>Rv1295</td>\n",
       "      <td>0.000000e+00</td>\n",
       "      <td>True Negative</td>\n",
       "    </tr>\n",
       "    <tr>\n",
       "      <th>1</th>\n",
       "      <td>Rv2573</td>\n",
       "      <td>2.325557e-30</td>\n",
       "      <td>False Negative</td>\n",
       "    </tr>\n",
       "    <tr>\n",
       "      <th>2</th>\n",
       "      <td>Rv3290c</td>\n",
       "      <td>4.853231e-02</td>\n",
       "      <td>True Positive</td>\n",
       "    </tr>\n",
       "    <tr>\n",
       "      <th>3</th>\n",
       "      <td>Rv2589</td>\n",
       "      <td>4.853231e-02</td>\n",
       "      <td>True Positive</td>\n",
       "    </tr>\n",
       "    <tr>\n",
       "      <th>4</th>\n",
       "      <td>Rv1323</td>\n",
       "      <td>4.853231e-02</td>\n",
       "      <td>True Positive</td>\n",
       "    </tr>\n",
       "  </tbody>\n",
       "</table>\n",
       "</div>"
      ],
      "text/plain": [
       "      Gene  KO Growth Rate      Error Type\n",
       "0   Rv1295    0.000000e+00   True Negative\n",
       "1   Rv2573    2.325557e-30  False Negative\n",
       "2  Rv3290c    4.853231e-02   True Positive\n",
       "3   Rv2589    4.853231e-02   True Positive\n",
       "4   Rv1323    4.853231e-02   True Positive"
      ]
     },
     "execution_count": 74,
     "metadata": {},
     "output_type": "execute_result"
    }
   ],
   "source": [
    "model_iEK = cobra.io.load_json_model(\"iEK1011_deJesusEssen_media.json\")\n",
    "deJesus_media = model_iEK.medium\n",
    "FN_dic_iEK, FP_dic, TN_dic, TP_dic = essen_test(model_iEK, \"Yes both\", \"loerger\", loerger_excel, grow_thresh)\n",
    "\n",
    "gene_essential_dic = []\n",
    "for gene in model_iEK.genes:\n",
    "    g = str(gene)\n",
    "    if g in FN_dic.keys():\n",
    "        ko_growth_rate = FN_dic[g][0]\n",
    "        error_type = \"False Negative\"\n",
    "    if g in FP_dic.keys():\n",
    "        ko_growth_rate = FP_dic[g][0]\n",
    "        error_type = \"False Positive\"\n",
    "    if g in TN_dic.keys():\n",
    "        ko_growth_rate = TN_dic[g][0]\n",
    "        error_type = \"True Negative\"\n",
    "    if g in TP_dic.keys():\n",
    "        ko_growth_rate = TP_dic[g][0]\n",
    "        error_type = \"True Positive\"\n",
    "    gene_essential_dic.append({\"Gene\": g, \n",
    "                               \"KO Growth Rate\": ko_growth_rate, \n",
    "                               \"Error Type\": error_type\n",
    "                              })\n",
    "    \n",
    "gene_deJesus_essen_df = pd.DataFrame(gene_essential_dic)\n",
    "gene_deJesus_essen_df = gene_deJesus_essen_df[[\"Gene\", \"KO Growth Rate\", \"Error Type\"]]\n",
    "gene_deJesus_essen_df.head()"
   ]
  },
  {
   "cell_type": "markdown",
   "metadata": {},
   "source": [
    "Perform accuracy computation for shared 472 genes in deJesus"
   ]
  },
  {
   "cell_type": "code",
   "execution_count": 75,
   "metadata": {},
   "outputs": [
    {
     "name": "stdout",
     "output_type": "stream",
     "text": [
      "Optimal growth 0.0485323109645\n",
      "Threshold growth 0.0145596932893\n",
      "TP - TN - FP - FN\n",
      "195 197 47 32\n",
      "percent correct:  0.832271762208\n",
      "Matthew Correlation Coefficient 0.666227485025\n"
     ]
    },
    {
     "data": {
      "text/html": [
       "<div>\n",
       "<style scoped>\n",
       "    .dataframe tbody tr th:only-of-type {\n",
       "        vertical-align: middle;\n",
       "    }\n",
       "\n",
       "    .dataframe tbody tr th {\n",
       "        vertical-align: top;\n",
       "    }\n",
       "\n",
       "    .dataframe thead th {\n",
       "        text-align: right;\n",
       "    }\n",
       "</style>\n",
       "<table border=\"1\" class=\"dataframe\">\n",
       "  <thead>\n",
       "    <tr style=\"text-align: right;\">\n",
       "      <th></th>\n",
       "      <th>Gene</th>\n",
       "      <th>KO Growth Rate</th>\n",
       "      <th>Error Type</th>\n",
       "    </tr>\n",
       "  </thead>\n",
       "  <tbody>\n",
       "    <tr>\n",
       "      <th>0</th>\n",
       "      <td>Rv1295</td>\n",
       "      <td>0.000000e+00</td>\n",
       "      <td>True Negative</td>\n",
       "    </tr>\n",
       "    <tr>\n",
       "      <th>1</th>\n",
       "      <td>Rv2573</td>\n",
       "      <td>2.325557e-30</td>\n",
       "      <td>False Negative</td>\n",
       "    </tr>\n",
       "    <tr>\n",
       "      <th>2</th>\n",
       "      <td>Rv3290c</td>\n",
       "      <td>2.325557e-30</td>\n",
       "      <td>False Negative</td>\n",
       "    </tr>\n",
       "    <tr>\n",
       "      <th>3</th>\n",
       "      <td>Rv2589</td>\n",
       "      <td>4.853231e-02</td>\n",
       "      <td>True Positive</td>\n",
       "    </tr>\n",
       "    <tr>\n",
       "      <th>4</th>\n",
       "      <td>Rv1323</td>\n",
       "      <td>4.853231e-02</td>\n",
       "      <td>True Positive</td>\n",
       "    </tr>\n",
       "  </tbody>\n",
       "</table>\n",
       "</div>"
      ],
      "text/plain": [
       "      Gene  KO Growth Rate      Error Type\n",
       "0   Rv1295    0.000000e+00   True Negative\n",
       "1   Rv2573    2.325557e-30  False Negative\n",
       "2  Rv3290c    2.325557e-30  False Negative\n",
       "3   Rv2589    4.853231e-02   True Positive\n",
       "4   Rv1323    4.853231e-02   True Positive"
      ]
     },
     "execution_count": 75,
     "metadata": {},
     "output_type": "execute_result"
    }
   ],
   "source": [
    "model_iEK = cobra.io.load_json_model(\"iEK1011_deJesusEssen_media.json\")\n",
    "deJesus_media = model_iEK.medium\n",
    "FN_dic_iEK, FP_dic_iEK, TN_dic, TP_dic = essen_test_sharedGenes(model_iEK, \"Yes both\", \"loerger\", loerger_excel, grow_thresh, all_shared_genes)\n",
    "\n",
    "gene_essential_dic = []\n",
    "for gene in model_iEK.genes:\n",
    "    g = str(gene)\n",
    "    if g in FN_dic.keys():\n",
    "        ko_growth_rate = FN_dic[g][0]\n",
    "        error_type = \"False Negative\"\n",
    "    if g in FP_dic.keys():\n",
    "        ko_growth_rate = FP_dic[g][0]\n",
    "        error_type = \"False Positive\"\n",
    "    if g in TN_dic.keys():\n",
    "        ko_growth_rate = TN_dic[g][0]\n",
    "        error_type = \"True Negative\"\n",
    "    if g in TP_dic.keys():\n",
    "        ko_growth_rate = TP_dic[g][0]\n",
    "        error_type = \"True Positive\"\n",
    "    gene_essential_dic.append({\"Gene\": g, \n",
    "                               \"KO Growth Rate\": ko_growth_rate, \n",
    "                               \"Error Type\": error_type\n",
    "                              })\n",
    "    \n",
    "shared_gene_deJesus_essen_df = pd.DataFrame(gene_essential_dic)\n",
    "shared_gene_deJesus_essen_df = shared_gene_deJesus_essen_df[[\"Gene\", \"KO Growth Rate\", \"Error Type\"]]\n",
    "shared_gene_deJesus_essen_df.head()"
   ]
  },
  {
   "cell_type": "markdown",
   "metadata": {},
   "source": [
    "Prepare media conditions as JSON files."
   ]
  },
  {
   "cell_type": "code",
   "execution_count": 76,
   "metadata": {
    "collapsed": true
   },
   "outputs": [],
   "source": [
    "model_iEK_vivo = cobra.io.load_json_model(\"iEK1011_inVivo_media.json\")\n",
    "inVivo_conditions = model_iEK_vivo.medium\n",
    "\n",
    "model_iEK_vitro = cobra.io.load_json_model(\"iEK1011_drugTesting_media.json\")\n",
    "inVitro_drugTesting = model_iEK_vitro.medium\n",
    "\n",
    "model_iEK = cobra.io.load_json_model(\"iEK1011_m7H10_media.json\")"
   ]
  },
  {
   "cell_type": "code",
   "execution_count": 77,
   "metadata": {},
   "outputs": [
    {
     "data": {
      "text/html": [
       "<div>\n",
       "<style scoped>\n",
       "    .dataframe tbody tr th:only-of-type {\n",
       "        vertical-align: middle;\n",
       "    }\n",
       "\n",
       "    .dataframe tbody tr th {\n",
       "        vertical-align: top;\n",
       "    }\n",
       "\n",
       "    .dataframe thead th {\n",
       "        text-align: right;\n",
       "    }\n",
       "</style>\n",
       "<table border=\"1\" class=\"dataframe\">\n",
       "  <thead>\n",
       "    <tr style=\"text-align: right;\">\n",
       "      <th></th>\n",
       "      <th>Middlebrook m7H10 (Acetate C-source)</th>\n",
       "      <th>Griffin Media (Gene Essentiality)</th>\n",
       "      <th>deJesus Media (Gene Essentiality)</th>\n",
       "      <th>Lowenstein-Jensen Media (Drug-Testing)</th>\n",
       "      <th>Physiological Media (in vivo modeling)</th>\n",
       "    </tr>\n",
       "  </thead>\n",
       "  <tbody>\n",
       "    <tr>\n",
       "      <th>EX_ac</th>\n",
       "      <td>10.0</td>\n",
       "      <td>NaN</td>\n",
       "      <td>NaN</td>\n",
       "      <td>NaN</td>\n",
       "      <td>NaN</td>\n",
       "    </tr>\n",
       "    <tr>\n",
       "      <th>EX_ala_L</th>\n",
       "      <td>NaN</td>\n",
       "      <td>NaN</td>\n",
       "      <td>NaN</td>\n",
       "      <td>NaN</td>\n",
       "      <td>1.0</td>\n",
       "    </tr>\n",
       "    <tr>\n",
       "      <th>EX_asn_L</th>\n",
       "      <td>NaN</td>\n",
       "      <td>1.0</td>\n",
       "      <td>NaN</td>\n",
       "      <td>1.0</td>\n",
       "      <td>5.0</td>\n",
       "    </tr>\n",
       "    <tr>\n",
       "      <th>EX_asp_L</th>\n",
       "      <td>NaN</td>\n",
       "      <td>NaN</td>\n",
       "      <td>NaN</td>\n",
       "      <td>NaN</td>\n",
       "      <td>5.0</td>\n",
       "    </tr>\n",
       "    <tr>\n",
       "      <th>EX_btn</th>\n",
       "      <td>1.0</td>\n",
       "      <td>NaN</td>\n",
       "      <td>1.0</td>\n",
       "      <td>NaN</td>\n",
       "      <td>NaN</td>\n",
       "    </tr>\n",
       "  </tbody>\n",
       "</table>\n",
       "</div>"
      ],
      "text/plain": [
       "          Middlebrook m7H10 (Acetate C-source)  \\\n",
       "EX_ac                                     10.0   \n",
       "EX_ala_L                                   NaN   \n",
       "EX_asn_L                                   NaN   \n",
       "EX_asp_L                                   NaN   \n",
       "EX_btn                                     1.0   \n",
       "\n",
       "          Griffin Media (Gene Essentiality)  \\\n",
       "EX_ac                                   NaN   \n",
       "EX_ala_L                                NaN   \n",
       "EX_asn_L                                1.0   \n",
       "EX_asp_L                                NaN   \n",
       "EX_btn                                  NaN   \n",
       "\n",
       "          deJesus Media (Gene Essentiality)  \\\n",
       "EX_ac                                   NaN   \n",
       "EX_ala_L                                NaN   \n",
       "EX_asn_L                                NaN   \n",
       "EX_asp_L                                NaN   \n",
       "EX_btn                                  1.0   \n",
       "\n",
       "          Lowenstein-Jensen Media (Drug-Testing)  \\\n",
       "EX_ac                                        NaN   \n",
       "EX_ala_L                                     NaN   \n",
       "EX_asn_L                                     1.0   \n",
       "EX_asp_L                                     NaN   \n",
       "EX_btn                                       NaN   \n",
       "\n",
       "          Physiological Media (in vivo modeling)  \n",
       "EX_ac                                        NaN  \n",
       "EX_ala_L                                     1.0  \n",
       "EX_asn_L                                     5.0  \n",
       "EX_asp_L                                     5.0  \n",
       "EX_btn                                       NaN  "
      ]
     },
     "execution_count": 77,
     "metadata": {},
     "output_type": "execute_result"
    }
   ],
   "source": [
    "media_conditions = [model_iEK.medium, griffin_media, deJesus_media, inVitro_drugTesting, inVivo_conditions]\n",
    "media_df = pd.DataFrame(media_conditions)\n",
    "media_df = media_df.transpose()\n",
    "media_df.columns = [\"Middlebrook m7H10 (Acetate C-source)\", \n",
    "                    \"Griffin Media (Gene Essentiality)\", \n",
    "                    \"deJesus Media (Gene Essentiality)\",\n",
    "                    \"Lowenstein-Jensen Media (Drug-Testing)\", \n",
    "                    \"Physiological Media (in vivo modeling)\"]\n",
    "media_df.head()"
   ]
  },
  {
   "cell_type": "markdown",
   "metadata": {},
   "source": [
    "### Blocked reactions dataframe"
   ]
  },
  {
   "cell_type": "code",
   "execution_count": 79,
   "metadata": {
    "collapsed": true
   },
   "outputs": [
    {
     "data": {
      "text/plain": [
       "<matplotlib.axes._subplots.AxesSubplot at 0x7f839b93b590>"
      ]
     },
     "execution_count": 79,
     "metadata": {},
     "output_type": "execute_result"
    },
    {
     "data": {
      "image/png": "[encoded data removed]",
      "text/plain": [
       "<matplotlib.figure.Figure at 0x7f839bda4890>"
      ]
     },
     "metadata": {},
     "output_type": "display_data"
    }
   ],
   "source": [
    "blocked_reacts_df = pd.DataFrame(blocked_reacts, columns=[\"blocked reactions\"])\n",
    "blocked_reacts_df[\"subsystem\"] = blocked_reacts_df[\"blocked reactions\"].map(lambda x: model_iEK.reactions.get_by_id(x).subsystem)\n",
    "\n",
    "# Counter(list(blocked_reacts_df[\"subsystem\"])).most_common()\n",
    "\n",
    "blocked_reacts_df[\"subsystem\"].hist(xrot=90, xlabelsize=10,bins=100)"
   ]
  },
  {
   "cell_type": "markdown",
   "metadata": {},
   "source": [
    "### Comparison of model essentiality predictions"
   ]
  },
  {
   "cell_type": "code",
   "execution_count": 134,
   "metadata": {
    "scrolled": true
   },
   "outputs": [
    {
     "name": "stdout",
     "output_type": "stream",
     "text": [
      "70\n",
      "37\n"
     ]
    }
   ],
   "source": [
    "FP_all_models_Griffin = list(FP_dic_iEK.keys()+FP_dic_sMtb.keys()+FP_dic_iSM810.keys()+FP_dic_iOSDD.keys())\n",
    "FP_all_models_Griffin = [x[0] for x in Counter(FP_all_models_Griffin).most_common() if x[1]>3]\n",
    "\n",
    "FN_all_models_Griffin = list(FN_dic_iEK.keys()+FN_dic_sMtb.keys()+FN_dic_iSM810.keys()+FN_dic_iOSDD.keys())\n",
    "FN_all_models_Griffin = [x[0] for x in Counter(FN_all_models_Griffin).most_common() if x[1]>3]\n",
    "\n",
    "all_model_FN_FP = {}\n",
    "subsystemz = []\n",
    "for x in list(set(FP_all_models_Griffin+FN_all_models_Griffin)):\n",
    "    all_model_FN_FP[x] = []\n",
    "    for y in model_iEK.genes.get_by_id(x).reactions:\n",
    "        all_model_FN_FP[x].extend([(y.id, y.subsystem)])\n",
    "        subsystemz.append(str(y.subsystem))\n",
    "print len(all_model_FN_FP)\n",
    "\n",
    "\n",
    "FP_iEK_wrong_sMtb_right = {}\n",
    "subsystemz = []\n",
    "for x in FP_dic_iEK.keys():\n",
    "    if x in sMtb_genes and x not in FP_dic_sMtb.keys() and x not in FN_dic_sMtb.keys():\n",
    "        # FP_iEK_wrong_sMtb_right.append(x)\n",
    "        FP_iEK_wrong_sMtb_right[x] = []\n",
    "        for y in model_iEK.genes.get_by_id(x).reactions:\n",
    "            FP_iEK_wrong_sMtb_right[x].extend([(y.id, y.subsystem)])\n",
    "            subsystemz.append(str(y.subsystem))\n",
    "print len(FP_iEK_wrong_sMtb_right)\n",
    "\n",
    "TN_iEK_right_sMtb_wrong = {}\n",
    "subsystemz = []\n",
    "for x in TN_dic_iEK.keys():\n",
    "    if x in sMtb_genes and x not in TN_dic_sMtb.keys() and x not in TP_dic_sMtb.keys():\n",
    "        # FP_iEK_wrong_sMtb_right.append(x)\n",
    "        TN_iEK_right_sMtb_wrong[x] = []\n",
    "        for y in model_iEK.genes.get_by_id(x).reactions:\n",
    "            TN_iEK_right_sMtb_wrong[x].extend([(y.id, y.subsystem)])\n",
    "            subsystemz.append(str(y.subsystem))\n",
    "print len(TN_iEK_right_sMtb_wrong)"
   ]
  },
  {
   "cell_type": "code",
   "execution_count": 138,
   "metadata": {
    "collapsed": true
   },
   "outputs": [],
   "source": [
    "FP_FN_all_models_df = pd.DataFrame.from_dict(all_model_FN_FP.items())\n",
    "FP_FN_all_models_df.columns = [\"Gene\", \"Pathway\"]\n",
    "\n",
    "FP_iEK_wrong_sMtb_right_df = pd.DataFrame.from_dict(FP_iEK_wrong_sMtb_right.items())\n",
    "FP_iEK_wrong_sMtb_right_df.columns = [\"Gene\", \"Pathway\"]\n",
    "\n",
    "TN_iEK_right_sMtb_wrong_df = pd.DataFrame.from_dict(TN_iEK_right_sMtb_wrong.items())\n",
    "TN_iEK_right_sMtb_wrong_df.columns = [\"Gene\", \"Pathway\"]"
   ]
  },
  {
   "cell_type": "code",
   "execution_count": 142,
   "metadata": {},
   "outputs": [
    {
     "data": {
      "text/plain": [
       "'0.6.1'"
      ]
     },
     "execution_count": 142,
     "metadata": {},
     "output_type": "execute_result"
    }
   ],
   "source": [
    "cobra.__version__"
   ]
  },
  {
   "cell_type": "code",
   "execution_count": 110,
   "metadata": {
    "collapsed": true
   },
   "outputs": [
    {
     "name": "stdout",
     "output_type": "stream",
     "text": [
      "\n",
      "||~--____my boi iEK____--~||\n",
      "Glycerophospholipid metabolism :  PSD160 h_c + ps160_c --> co2_c + pe160_c Rv0437c\n",
      "\n",
      "||~--____goode ol iSM810____--~||\n",
      " :  PE 1.23 PS_c --> 1.23 CO2_c + PE_c Rv0437c\n",
      "\n",
      "||~--____goode ol iOSDD____--~||\n",
      "Fatty Acid Metabolism :  PSD160 h[c] + ps160[c] --> co2[c] + pe160[c] Rv0437c\n",
      "Fatty Acid Metabolism :  PSD180 h[c] + ps180[c] --> co2[c] + pe180[c] Rv0437c\n",
      "\n",
      "||~--____goode ol sMtb____--~||\n",
      "Glycerophospholipid metabolism :  PSD ps_TB_c --> co2_c + pe_TB_c Rv0437c\n",
      "\n",
      "||~--____goode ol iEK1032____--~||\n",
      "Glycerophospholipid metabolism :  PSD ps_TB_c --> co2_c + pe_TB_c Rv0437c\n"
     ]
    }
   ],
   "source": [
    "get_models_gene_info(\"Rv0437c\")"
   ]
  },
  {
   "cell_type": "markdown",
   "metadata": {},
   "source": [
    "Write everything to excel file."
   ]
  },
  {
   "cell_type": "code",
   "execution_count": 140,
   "metadata": {
    "collapsed": true
   },
   "outputs": [],
   "source": [
    "writer = pd.ExcelWriter('iEK1011_supplementary.xlsx')\n",
    "react_df.to_excel(writer, sheet_name='Reactions', index=False)\n",
    "metab_df.to_excel(writer, sheet_name='Metabolites', index=False)\n",
    "genes_notiEK_inPrevious_df.to_excel(writer, sheet_name='Removed genes other models', index=True)\n",
    "gene_griffin_essen_df.to_excel(writer, sheet_name=\"Gene Essentiality Griffin\", index=False)\n",
    "gene_deJesus_essen_df.to_excel(writer, sheet_name=\"Gene Essentiality deJesus\", index=False)\n",
    "media_df.to_excel(writer, sheet_name=\"Media Conditions\", index=True)\n",
    "fva_norm.T.to_excel(writer, sheet_name=\"FVA in vitro conditions\", index=True)\n",
    "fva_hypox.T.to_excel(writer, sheet_name=\"FVA in vivo conditions\", index=True)\n",
    "fva_drug_Vitrofilt_df.to_excel(writer, sheet_name='AMR objective Max Flux in vitro', index=True)\n",
    "fva_drug_Vivofilt_df.to_excel(writer, sheet_name='AMR objective Max Flux in vivo', index=True)\n",
    "\n",
    "shared_gene_griffin_essen_df.to_excel(writer, sheet_name=\"Shared Essentiality Griffin\", index=False)\n",
    "shared_gene_deJesus_essen_df.to_excel(writer, sheet_name=\"Shared Essentiality deJesus\", index=False)\n",
    "\n",
    "blocked_reacts_df.to_excel(writer, sheet_name=\"Blocked Reactions\", index=False)\n",
    "\n",
    "FP_FN_all_models_df.to_excel(writer, sheet_name=\"All models incorrect\", index=False)\n",
    "FP_iEK_wrong_sMtb_right_df.to_excel(writer, sheet_name=\"iEK Wrong and sMtb Correct\", index=False)\n",
    "TN_iEK_right_sMtb_wrong_df.to_excel(writer, sheet_name=\"iEK Correct and sMtb Wrong\", index=False)\n",
    "\n",
    "writer.save()"
   ]
  },
  {
   "cell_type": "markdown",
   "metadata": {},
   "source": [
    "# The end."
   ]
  }
 ],
 "metadata": {
  "kernelspec": {
   "display_name": "Python 2",
   "language": "python",
   "name": "python2"
  },
  "language_info": {
   "codemirror_mode": {
    "name": "ipython",
    "version": 2
   },
   "file_extension": ".py",
   "mimetype": "text/x-python",
   "name": "python",
   "nbconvert_exporter": "python",
   "pygments_lexer": "ipython2",
   "version": "2.7.13"
  }
 },
 "nbformat": 4,
 "nbformat_minor": 2
}
